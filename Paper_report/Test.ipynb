{
 "cells": [
  {
   "cell_type": "code",
   "execution_count": 1,
   "id": "e601d147",
   "metadata": {
    "scrolled": true
   },
   "outputs": [],
   "source": [
    "import numpy as np\n",
    "import pandas as pd\n",
    "import sys\n",
    "import matplotlib.pyplot as plt "
   ]
  },
  {
   "cell_type": "code",
   "execution_count": 2,
   "id": "94263aeb",
   "metadata": {},
   "outputs": [],
   "source": [
    "    \n",
    "subName = 'sub-012'\n",
    "# Main directory of the subject\n",
    "subMainDirec = '/mnt/projects/7TPD/bids/derivatives/fMRI_DA/data_BehModel/originalfMRIbehFiles/'\n",
    "# Directory of main dataset for each participant\n",
    "dirc = subMainDirec + subName + '/' + subName + '_achieva7t_task-DA_beh.csv'\n",
    "# Read the excel file\n",
    "data = pd.read_csv(dirc)\n",
    "# Condition sequences for each particiapnt\n",
    "blocks = data.groupby(['session', 'run'])['block'].unique().to_numpy()\n",
    "blocks = np.array([blocks[0], blocks[1], blocks[2], blocks[3]]).flatten()"
   ]
  },
  {
   "cell_type": "code",
   "execution_count": 3,
   "id": "e34d5244",
   "metadata": {},
   "outputs": [
    {
     "data": {
      "text/plain": [
       "array(['Act', 'Stim', 'Stim', 'Act', 'Stim', 'Act', 'Act', 'Stim'],\n",
       "      dtype=object)"
      ]
     },
     "execution_count": 3,
     "metadata": {},
     "output_type": "execute_result"
    }
   ],
   "source": [
    "blocks"
   ]
  },
  {
   "cell_type": "code",
   "execution_count": null,
   "id": "cf01f167",
   "metadata": {},
   "outputs": [],
   "source": []
  }
 ],
 "metadata": {
  "kernelspec": {
   "display_name": "7tpd",
   "language": "python",
   "name": "python3"
  },
  "language_info": {
   "codemirror_mode": {
    "name": "ipython",
    "version": 3
   },
   "file_extension": ".py",
   "mimetype": "text/x-python",
   "name": "python",
   "nbconvert_exporter": "python",
   "pygments_lexer": "ipython3",
   "version": "3.9.18"
  }
 },
 "nbformat": 4,
 "nbformat_minor": 5
}
