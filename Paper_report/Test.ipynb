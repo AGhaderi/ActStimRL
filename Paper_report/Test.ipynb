{
 "cells": [
  {
   "cell_type": "code",
   "execution_count": 4,
   "id": "e601d147",
   "metadata": {
    "scrolled": true
   },
   "outputs": [],
   "source": [
    "import numpy as np\n",
    "import pandas as pd\n",
    "import sys\n",
    "import matplotlib.pyplot as plt \n",
    "import seaborn as sns\n",
    "from scipy import stats"
   ]
  },
  {
   "cell_type": "code",
   "execution_count": 2,
   "id": "94263aeb",
   "metadata": {},
   "outputs": [],
   "source": [
    "    \n",
    "subName = 'sub-012'\n",
    "# Main directory of the subject\n",
    "subMainDirec = '/mnt/projects/7TPD/bids/derivatives/fMRI_DA/data_BehModel/originalfMRIbehFiles/'\n",
    "# Directory of main dataset for each participant\n",
    "dirc = subMainDirec + subName + '/' + subName + '_achieva7t_task-DA_beh.csv'\n",
    "# Read the excel file\n",
    "data = pd.read_csv(dirc)\n",
    "# Condition sequences for each particiapnt\n",
    "blocks = data.groupby(['session', 'run'])['block'].unique().to_numpy()\n",
    "blocks = np.array([blocks[0], blocks[1], blocks[2], blocks[3]]).flatten()"
   ]
  },
  {
   "cell_type": "code",
   "execution_count": 3,
   "id": "e34d5244",
   "metadata": {},
   "outputs": [
    {
     "data": {
      "text/plain": [
       "array(['Act', 'Stim', 'Stim', 'Act', 'Stim', 'Act', 'Act', 'Stim'],\n",
       "      dtype=object)"
      ]
     },
     "execution_count": 3,
     "metadata": {},
     "output_type": "execute_result"
    }
   ],
   "source": [
    "blocks"
   ]
  },
  {
   "cell_type": "code",
   "execution_count": 2,
   "id": "cf01f167",
   "metadata": {},
   "outputs": [
    {
     "name": "stdout",
     "output_type": "stream",
     "text": [
      "['#a1c9f4', '#8de5a1', '#ff9f9b', '#d0bbff', '#fffea3', '#b9f2f0']\n"
     ]
    }
   ],
   "source": [
    "print(sns.color_palette(\"pastel6\").as_hex())\n"
   ]
  },
  {
   "cell_type": "code",
   "execution_count": 62,
   "id": "ffe0d61b",
   "metadata": {},
   "outputs": [
    {
     "name": "stdout",
     "output_type": "stream",
     "text": [
      "Index(['session', 'run', 'stimActFirst', 'block', 'stimActBlock',\n",
      "       'trialNumber', 'stimOnset', 'yellowOnLeftSide',\n",
      "       'leftCanBePushed                ', 'winAmtLeft', 'winAmtRight',\n",
      "       'winAmtYellow', 'winAmtBlue', 'winAmtPushable', 'winAmtPullable', 'RT',\n",
      "       'actUsrResp                ', 'invalResp', 'yellowChosen', 'leftChosen',\n",
      "       'pushed', 'endOfMoveTime', 'decFBjitOnset                ', 'FBOnset',\n",
      "       'yellowCorrect', 'pushCorrect', 'correctChoice',\n",
      "       'wonAmount                ', 'totalAmount', 'ITIOnset', 'reverse',\n",
      "       'phase', 'sub_ID', 'group', 'patient', 'Condition'],\n",
      "      dtype='object')\n"
     ]
    }
   ],
   "source": [
    "# read collected data across data\n",
    "behAll = pd.read_csv('/mnt/projects/7TPD/bids/derivatives/fMRI_DA/data_BehModel/originalfMRIbehFiles/AllBehData/behAll.csv')\n",
    "# gtoup label 1,2 3 are PD-OFF, HC and PF-ON respectively\n",
    "behAll['group'] = behAll['group'].replace([1,2,3], ['PD-OFF', 'HC', 'PD-ON'])\n",
    "# gtoup label 1,2 3 are PD-OFF, HC and PF-ON respectively\n",
    "behAll['Condition'] = behAll['block'].replace(['Act', 'Stim'], ['Act', 'Clr'])\n",
    "\n",
    "print(behAll.columns)\n",
    "\n",
    "# object expected value\n",
    "behAll['EV_pushed'] = behAll['winAmtPushable']* behAll['pushCorrect']\n",
    "behAll['EV_pulled'] = behAll['winAmtPullable']* (1- behAll['pushCorrect'])\n",
    "behAll['EV_yellow'] = behAll['winAmtYellow']* behAll['yellowChosen']\n",
    "behAll['EV_blue'] = behAll['winAmtBlue']* (1-behAll['yellowChosen'])\n"
   ]
  },
  {
   "cell_type": "code",
   "execution_count": 63,
   "id": "48218990",
   "metadata": {},
   "outputs": [],
   "source": [
    "sublist = behAll['sub_ID'].unique()"
   ]
  },
  {
   "cell_type": "code",
   "execution_count": 68,
   "id": "db477e94",
   "metadata": {},
   "outputs": [
    {
     "name": "stdout",
     "output_type": "stream",
     "text": [
      "sub-030 F_onewayResult(statistic=3.7041800456754808, pvalue=0.025504473068643906)\n",
      "sub-036 F_onewayResult(statistic=4.109467009948807, pvalue=0.017045064827974056)\n",
      "sub-052 F_onewayResult(statistic=3.030890105950847, pvalue=0.04917495970456758)\n",
      "sub-059 F_onewayResult(statistic=4.590861551426514, pvalue=0.010582540706318257)\n",
      "sub-069 F_onewayResult(statistic=6.183286772795201, pvalue=0.0022255273557722295)\n",
      "sub-076 F_onewayResult(statistic=3.4617312701761214, pvalue=0.03243258712222752)\n",
      "sub-108 F_onewayResult(statistic=6.527546581846743, pvalue=0.001599345965559148)\n"
     ]
    }
   ],
   "source": [
    "block = 'Act'\n",
    "for i in range(len(sublist)):\n",
    "    stats_report = stats.f_oneway(behAll[(behAll['sub_ID']==sublist[i])&(behAll['block']==block)]['EV_pushed'], \n",
    "                                  behAll[(behAll['sub_ID']==sublist[i])&(behAll['block']==block)]['EV_yellow'], \n",
    "                                  behAll[(behAll['sub_ID']==sublist[i])&(behAll['block']==block)]['EV_blue'])\n",
    "    if (stats_report[1]<.05):\n",
    "        print(sublist[i], stats_report)"
   ]
  },
  {
   "cell_type": "code",
   "execution_count": 69,
   "id": "330c1224",
   "metadata": {},
   "outputs": [
    {
     "name": "stdout",
     "output_type": "stream",
     "text": [
      "sub-010 F_onewayResult(statistic=3.515361419151282, pvalue=0.030697709564170516)\n",
      "sub-030 F_onewayResult(statistic=3.5175857544096685, pvalue=0.0306307288371281)\n",
      "sub-034 F_onewayResult(statistic=3.293439394542545, pvalue=0.0379411405021805)\n",
      "sub-036 F_onewayResult(statistic=4.859645170560194, pvalue=0.008170547661067165)\n",
      "sub-045 F_onewayResult(statistic=3.3015606202935914, pvalue=0.03766900921546147)\n",
      "sub-052 F_onewayResult(statistic=6.752595896316822, pvalue=0.001279124063222093)\n",
      "sub-067 F_onewayResult(statistic=3.9796566498704697, pvalue=0.019324044811409147)\n",
      "sub-069 F_onewayResult(statistic=3.394726666220346, pvalue=0.0343279988889272)\n",
      "sub-076 F_onewayResult(statistic=3.798249536125008, pvalue=0.02332095704009638)\n",
      "sub-079 F_onewayResult(statistic=3.761136062177034, pvalue=0.02391666622833778)\n",
      "sub-083 F_onewayResult(statistic=3.2541682604559803, pvalue=0.0397710597597293)\n",
      "sub-108 F_onewayResult(statistic=6.352122912517517, pvalue=0.0018970878136350144)\n"
     ]
    }
   ],
   "source": [
    "block = 'Act'\n",
    "for i in range(len(sublist)):\n",
    "    stats_report = stats.f_oneway(behAll[(behAll['sub_ID']==sublist[i])&(behAll['block']==block)]['EV_yellow'], \n",
    "                                  behAll[(behAll['sub_ID']==sublist[i])&(behAll['block']==block)]['EV_pushed'], \n",
    "                                  behAll[(behAll['sub_ID']==sublist[i])&(behAll['block']==block)]['EV_pulled'])\n",
    "    if (stats_report[1]<.05):\n",
    "        print(sublist[i], stats_report)"
   ]
  },
  {
   "cell_type": "code",
   "execution_count": 70,
   "id": "b9ddd199",
   "metadata": {},
   "outputs": [
    {
     "name": "stdout",
     "output_type": "stream",
     "text": [
      "sub-030 PearsonRResult(statistic=-0.20227867111299117, pvalue=0.01734686141404009)\n",
      "sub-034 PearsonRResult(statistic=-0.3100863516421683, pvalue=5.9287260486772116e-05)\n",
      "sub-042 PearsonRResult(statistic=-0.17163835075698608, pvalue=0.02999314211722159)\n",
      "sub-052 PearsonRResult(statistic=-0.16126826682477569, pvalue=0.04227700717608655)\n",
      "sub-054 PearsonRResult(statistic=-0.1999946511932844, pvalue=0.011486881961849993)\n",
      "sub-059 PearsonRResult(statistic=-0.19146808238967014, pvalue=0.013186023560391953)\n",
      "sub-067 PearsonRResult(statistic=-0.20971641205543468, pvalue=0.009754026015177263)\n",
      "sub-071 PearsonRResult(statistic=-0.1945188726333696, pvalue=0.013709389497673814)\n",
      "sub-077 PearsonRResult(statistic=-0.16004693462375674, pvalue=0.03941997835130232)\n",
      "sub-082 PearsonRResult(statistic=-0.17197990312068023, pvalue=0.027664966402847158)\n"
     ]
    }
   ],
   "source": [
    "block = 'Stim'\n",
    "for i in range(len(sublist)):\n",
    "    stats_report = stats.pearsonr(behAll[(behAll['sub_ID']==sublist[i])&(behAll['block']==block)]['EV_pushed'], \n",
    "                                  behAll[(behAll['sub_ID']==sublist[i])&(behAll['block']==block)]['EV_yellow'])\n",
    "    if (stats_report[1]<.05):\n",
    "        print(sublist[i], stats_report)"
   ]
  },
  {
   "cell_type": "code",
   "execution_count": null,
   "id": "04c40260",
   "metadata": {},
   "outputs": [
    {
     "data": {
      "text/plain": [
       "Index(['session', 'run', 'stimActFirst', 'block', 'stimActBlock',\n",
       "       'trialNumber', 'stimOnset', 'yellowOnLeftSide',\n",
       "       'leftCanBePushed                ', 'winAmtLeft', 'winAmtRight',\n",
       "       'winAmtYellow', 'winAmtBlue', 'winAmtPushable', 'winAmtPullable', 'RT',\n",
       "       'actUsrResp                ', 'invalResp', 'yellowChosen', 'leftChosen',\n",
       "       'pushed', 'endOfMoveTime', 'decFBjitOnset                ', 'FBOnset',\n",
       "       'yellowCorrect', 'pushCorrect', 'correctChoice',\n",
       "       'wonAmount                ', 'totalAmount', 'ITIOnset', 'reverse',\n",
       "       'phase', 'sub_ID', 'group', 'patient', 'Condition', 'EV_pushed',\n",
       "       'EV_yellow'],\n",
       "      dtype='object')"
      ]
     },
     "execution_count": 8,
     "metadata": {},
     "output_type": "execute_result"
    }
   ],
   "source": [
    "behAll['sub_ID'].replace()"
   ]
  },
  {
   "cell_type": "code",
   "execution_count": 10,
   "id": "67361fde",
   "metadata": {},
   "outputs": [
    {
     "ename": "KeyError",
     "evalue": "'sub_ID'",
     "output_type": "error",
     "traceback": [
      "\u001b[0;31m---------------------------------------------------------------------------\u001b[0m",
      "\u001b[0;31mKeyError\u001b[0m                                  Traceback (most recent call last)",
      "File \u001b[0;32m~/.local/lib/python3.9/site-packages/pandas/core/indexes/base.py:3805\u001b[0m, in \u001b[0;36mIndex.get_loc\u001b[0;34m(self, key)\u001b[0m\n\u001b[1;32m   3804\u001b[0m \u001b[38;5;28;01mtry\u001b[39;00m:\n\u001b[0;32m-> 3805\u001b[0m     \u001b[38;5;28;01mreturn\u001b[39;00m \u001b[38;5;28;43mself\u001b[39;49m\u001b[38;5;241;43m.\u001b[39;49m\u001b[43m_engine\u001b[49m\u001b[38;5;241;43m.\u001b[39;49m\u001b[43mget_loc\u001b[49m\u001b[43m(\u001b[49m\u001b[43mcasted_key\u001b[49m\u001b[43m)\u001b[49m\n\u001b[1;32m   3806\u001b[0m \u001b[38;5;28;01mexcept\u001b[39;00m \u001b[38;5;167;01mKeyError\u001b[39;00m \u001b[38;5;28;01mas\u001b[39;00m err:\n",
      "File \u001b[0;32mindex.pyx:167\u001b[0m, in \u001b[0;36mpandas._libs.index.IndexEngine.get_loc\u001b[0;34m()\u001b[0m\n",
      "File \u001b[0;32mindex.pyx:196\u001b[0m, in \u001b[0;36mpandas._libs.index.IndexEngine.get_loc\u001b[0;34m()\u001b[0m\n",
      "File \u001b[0;32mpandas/_libs/hashtable_class_helper.pxi:7081\u001b[0m, in \u001b[0;36mpandas._libs.hashtable.PyObjectHashTable.get_item\u001b[0;34m()\u001b[0m\n",
      "File \u001b[0;32mpandas/_libs/hashtable_class_helper.pxi:7089\u001b[0m, in \u001b[0;36mpandas._libs.hashtable.PyObjectHashTable.get_item\u001b[0;34m()\u001b[0m\n",
      "\u001b[0;31mKeyError\u001b[0m: 'sub_ID'",
      "\nThe above exception was the direct cause of the following exception:\n",
      "\u001b[0;31mKeyError\u001b[0m                                  Traceback (most recent call last)",
      "Cell \u001b[0;32mIn[10], line 5\u001b[0m\n\u001b[1;32m      1\u001b[0m \u001b[38;5;28;01mimport\u001b[39;00m \u001b[38;5;21;01mstatsmodels\u001b[39;00m\u001b[38;5;21;01m.\u001b[39;00m\u001b[38;5;21;01mapi\u001b[39;00m \u001b[38;5;28;01mas\u001b[39;00m \u001b[38;5;21;01msm\u001b[39;00m\n\u001b[1;32m      3\u001b[0m \u001b[38;5;28;01mimport\u001b[39;00m \u001b[38;5;21;01mstatsmodels\u001b[39;00m\u001b[38;5;21;01m.\u001b[39;00m\u001b[38;5;21;01mformula\u001b[39;00m\u001b[38;5;21;01m.\u001b[39;00m\u001b[38;5;21;01mapi\u001b[39;00m \u001b[38;5;28;01mas\u001b[39;00m \u001b[38;5;21;01msmf\u001b[39;00m\n\u001b[0;32m----> 5\u001b[0m md \u001b[38;5;241m=\u001b[39m smf\u001b[38;5;241m.\u001b[39mmixedlm(\u001b[38;5;124m\"\u001b[39m\u001b[38;5;124mEV_pushed ~ EV_yellow\u001b[39m\u001b[38;5;124m\"\u001b[39m, behAll, groups\u001b[38;5;241m=\u001b[39m\u001b[43mdata\u001b[49m\u001b[43m[\u001b[49m\u001b[38;5;124;43m\"\u001b[39;49m\u001b[38;5;124;43msub_ID\u001b[39;49m\u001b[38;5;124;43m\"\u001b[39;49m\u001b[43m]\u001b[49m)\n\u001b[1;32m      7\u001b[0m mdf \u001b[38;5;241m=\u001b[39m md\u001b[38;5;241m.\u001b[39mfit()\n\u001b[1;32m      9\u001b[0m \u001b[38;5;28mprint\u001b[39m(mdf\u001b[38;5;241m.\u001b[39msummary())\n",
      "File \u001b[0;32m~/.local/lib/python3.9/site-packages/pandas/core/frame.py:4090\u001b[0m, in \u001b[0;36mDataFrame.__getitem__\u001b[0;34m(self, key)\u001b[0m\n\u001b[1;32m   4088\u001b[0m \u001b[38;5;28;01mif\u001b[39;00m \u001b[38;5;28mself\u001b[39m\u001b[38;5;241m.\u001b[39mcolumns\u001b[38;5;241m.\u001b[39mnlevels \u001b[38;5;241m>\u001b[39m \u001b[38;5;241m1\u001b[39m:\n\u001b[1;32m   4089\u001b[0m     \u001b[38;5;28;01mreturn\u001b[39;00m \u001b[38;5;28mself\u001b[39m\u001b[38;5;241m.\u001b[39m_getitem_multilevel(key)\n\u001b[0;32m-> 4090\u001b[0m indexer \u001b[38;5;241m=\u001b[39m \u001b[38;5;28;43mself\u001b[39;49m\u001b[38;5;241;43m.\u001b[39;49m\u001b[43mcolumns\u001b[49m\u001b[38;5;241;43m.\u001b[39;49m\u001b[43mget_loc\u001b[49m\u001b[43m(\u001b[49m\u001b[43mkey\u001b[49m\u001b[43m)\u001b[49m\n\u001b[1;32m   4091\u001b[0m \u001b[38;5;28;01mif\u001b[39;00m is_integer(indexer):\n\u001b[1;32m   4092\u001b[0m     indexer \u001b[38;5;241m=\u001b[39m [indexer]\n",
      "File \u001b[0;32m~/.local/lib/python3.9/site-packages/pandas/core/indexes/base.py:3812\u001b[0m, in \u001b[0;36mIndex.get_loc\u001b[0;34m(self, key)\u001b[0m\n\u001b[1;32m   3807\u001b[0m     \u001b[38;5;28;01mif\u001b[39;00m \u001b[38;5;28misinstance\u001b[39m(casted_key, \u001b[38;5;28mslice\u001b[39m) \u001b[38;5;129;01mor\u001b[39;00m (\n\u001b[1;32m   3808\u001b[0m         \u001b[38;5;28misinstance\u001b[39m(casted_key, abc\u001b[38;5;241m.\u001b[39mIterable)\n\u001b[1;32m   3809\u001b[0m         \u001b[38;5;129;01mand\u001b[39;00m \u001b[38;5;28many\u001b[39m(\u001b[38;5;28misinstance\u001b[39m(x, \u001b[38;5;28mslice\u001b[39m) \u001b[38;5;28;01mfor\u001b[39;00m x \u001b[38;5;129;01min\u001b[39;00m casted_key)\n\u001b[1;32m   3810\u001b[0m     ):\n\u001b[1;32m   3811\u001b[0m         \u001b[38;5;28;01mraise\u001b[39;00m InvalidIndexError(key)\n\u001b[0;32m-> 3812\u001b[0m     \u001b[38;5;28;01mraise\u001b[39;00m \u001b[38;5;167;01mKeyError\u001b[39;00m(key) \u001b[38;5;28;01mfrom\u001b[39;00m \u001b[38;5;21;01merr\u001b[39;00m\n\u001b[1;32m   3813\u001b[0m \u001b[38;5;28;01mexcept\u001b[39;00m \u001b[38;5;167;01mTypeError\u001b[39;00m:\n\u001b[1;32m   3814\u001b[0m     \u001b[38;5;66;03m# If we have a listlike key, _check_indexing_error will raise\u001b[39;00m\n\u001b[1;32m   3815\u001b[0m     \u001b[38;5;66;03m#  InvalidIndexError. Otherwise we fall through and re-raise\u001b[39;00m\n\u001b[1;32m   3816\u001b[0m     \u001b[38;5;66;03m#  the TypeError.\u001b[39;00m\n\u001b[1;32m   3817\u001b[0m     \u001b[38;5;28mself\u001b[39m\u001b[38;5;241m.\u001b[39m_check_indexing_error(key)\n",
      "\u001b[0;31mKeyError\u001b[0m: 'sub_ID'"
     ]
    }
   ],
   "source": [
    "import statsmodels.api as sm\n",
    "\n",
    "import statsmodels.formula.api as smf\n",
    "\n",
    "md = smf.mixedlm(\"EV_pushed ~ EV_yellow\", behAll, groups=data[\"sub_ID\"])\n",
    "\n",
    "mdf = md.fit()\n",
    "\n",
    "print(mdf.summary())"
   ]
  },
  {
   "cell_type": "code",
   "execution_count": null,
   "id": "34bdea78",
   "metadata": {},
   "outputs": [],
   "source": []
  }
 ],
 "metadata": {
  "kernelspec": {
   "display_name": "7tpd",
   "language": "python",
   "name": "python3"
  },
  "language_info": {
   "codemirror_mode": {
    "name": "ipython",
    "version": 3
   },
   "file_extension": ".py",
   "mimetype": "text/x-python",
   "name": "python",
   "nbconvert_exporter": "python",
   "pygments_lexer": "ipython3",
   "version": "3.9.18"
  }
 },
 "nbformat": 4,
 "nbformat_minor": 5
}
