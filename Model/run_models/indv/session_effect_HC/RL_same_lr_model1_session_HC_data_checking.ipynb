{
 "cells": [
  {
   "cell_type": "code",
   "execution_count": 1,
   "id": "e601d147",
   "metadata": {
    "scrolled": true
   },
   "outputs": [],
   "source": [
    "import numpy as np\n",
    "import pandas as pd\n",
    "import stan\n",
    "import matplotlib.pyplot as plt\n",
    "import seaborn as sns\n",
    "import sys\n",
    "sys.path.append('/mrhome/amingk/Documents/7TPD/ActStimRL')\n",
    "from Madule import utils\n",
    "import arviz as az\n",
    "from scipy import stats "
   ]
  },
  {
   "cell_type": "code",
   "execution_count": 20,
   "id": "986914ae",
   "metadata": {},
   "outputs": [
    {
     "name": "stdout",
     "output_type": "stream",
     "text": [
      "Model 1\n",
      "Model 2\n",
      "Model 3\n",
      "Model 4\n",
      "Model 5\n",
      "An exception occurred\n"
     ]
    },
    {
     "ename": "TypeError",
     "evalue": "'NoneType' object is not subscriptable",
     "output_type": "error",
     "traceback": [
      "\u001b[0;31m---------------------------------------------------------------------------\u001b[0m",
      "\u001b[0;31mTypeError\u001b[0m                                 Traceback (most recent call last)",
      "Cell \u001b[0;32mIn[20], line 24\u001b[0m\n\u001b[1;32m     22\u001b[0m \u001b[38;5;250m\u001b[39m\u001b[38;5;124;03m\"\"\"Loading the pickle file of model fit from the subject directory\"\"\"\u001b[39;00m\n\u001b[1;32m     23\u001b[0m loadPkl \u001b[38;5;241m=\u001b[39m utils\u001b[38;5;241m.\u001b[39mload_pickle(load_path\u001b[38;5;241m=\u001b[39mpickelDir)\n\u001b[0;32m---> 24\u001b[0m fit \u001b[38;5;241m=\u001b[39m \u001b[43mloadPkl\u001b[49m\u001b[43m[\u001b[49m\u001b[38;5;124;43m'\u001b[39;49m\u001b[38;5;124;43mfit\u001b[39;49m\u001b[38;5;124;43m'\u001b[39;49m\u001b[43m]\u001b[49m \n\u001b[1;32m     25\u001b[0m \u001b[38;5;66;03m# get the linkelihood and comarision assessment       \u001b[39;00m\n\u001b[1;32m     26\u001b[0m log_lik \u001b[38;5;241m=\u001b[39m fit[\u001b[38;5;124m'\u001b[39m\u001b[38;5;124mlog_lik\u001b[39m\u001b[38;5;124m'\u001b[39m]\n",
      "\u001b[0;31mTypeError\u001b[0m: 'NoneType' object is not subscriptable"
     ]
    }
   ],
   "source": [
    "# select Act or Stim to model fit seperately\n",
    "cond_act_stim = 'Stim'\n",
    "# read collected data across data\n",
    "behAll = pd.read_csv('/mnt/projects/7TPD/bids/derivatives/fMRI_DA/data_BehModel/originalfMRIbehFiles/AllBehData/behAll.csv')\n",
    "# select Action value learning and parkinsons disease\n",
    "behAll = behAll[(behAll['block']=='Act')&(behAll['patient']=='HC')]\n",
    "# the list of participant\n",
    "subList_HC = np.unique(behAll['sub_ID'])\n",
    "# number of models\n",
    "n_models =  8\n",
    "# declare waice variable\n",
    "log_waic_models = np.zeros([n_models,len(subList_HC)])\n",
    "# loop over list of participants\n",
    "for m in range(n_models):\n",
    "    print(f'Model {m+1}')\n",
    "    if m!=3:\n",
    "        for i, subName in enumerate(subList_HC):\n",
    "            # main directory of saving\n",
    "            mainScarch = '/mnt/scratch/projects/7TPD/amin/'\n",
    "            # pickle fine in the scratch folder\n",
    "            pickelDir = mainScarch  + 'realdata/' + subName + '/model/indv/RL_' + str(cond_act_stim)+f'_session_same_lr_model{m+1}.pkl'\n",
    "            \"\"\"Loading the pickle file of model fit from the subject directory\"\"\"\n",
    "            loadPkl = utils.load_pickle(load_path=pickelDir)\n",
    "            fit = loadPkl['fit'] \n",
    "            # get the linkelihood and comarision assessment       \n",
    "            log_lik = fit['log_lik']\n",
    "            log_assessement = utils.waic(log_likelihood=log_lik)\n",
    "            log_waic_models[m, i] = log_assessement['waic']"
   ]
  },
  {
   "cell_type": "code",
   "execution_count": 21,
   "id": "3ec7eb2e",
   "metadata": {},
   "outputs": [
    {
     "data": {
      "text/plain": [
       "array([[42558.00235778, 43126.97653237, 29652.78199947, 43192.95873324,\n",
       "        41601.12223584, 38646.23761743, 42500.21577549, 42494.25401224,\n",
       "        42484.63314579, 41843.94017115, 42496.30352626, 41628.54971872,\n",
       "        39358.60407441, 31746.91508405, 42148.70982208, 43033.49922652,\n",
       "        39000.73366154, 42858.06475421, 41454.04013263, 42389.97119299,\n",
       "        41461.73035779, 42846.63694654, 42783.723006  , 40921.11693514],\n",
       "       [28384.87533308, 30285.6688679 , 19711.66882242, 28947.95669104,\n",
       "        27858.48826736, 25720.14077038, 28339.73093436, 28381.60054412,\n",
       "        28172.26477049, 27885.98815868, 28334.29254557, 27551.60689855,\n",
       "        26822.54159039, 21116.40251093, 28191.72249061, 28666.26751361,\n",
       "        25943.11926305, 28594.64580873, 27615.99913533, 28282.95562846,\n",
       "        27484.11437966, 28175.29522746, 28505.30653477, 27283.69603752],\n",
       "       [28368.01390399, 29041.81504908, 19848.66534287, 28848.75516889,\n",
       "        27719.94393334, 25790.77451159, 28351.8008    , 28380.47389895,\n",
       "        27963.16429154, 27808.00563252, 28331.97766971, 27635.75120262,\n",
       "        26336.91843193, 21129.95758174, 28028.24319455, 28730.60493642,\n",
       "        25947.58839494, 28569.30330243, 27646.44915739, 28281.7070052 ,\n",
       "        27316.66647084, 29153.30445495, 28576.17556185, 27299.29150363],\n",
       "       [    0.        ,     0.        ,     0.        ,     0.        ,\n",
       "            0.        ,     0.        ,     0.        ,     0.        ,\n",
       "            0.        ,     0.        ,     0.        ,     0.        ,\n",
       "            0.        ,     0.        ,     0.        ,     0.        ,\n",
       "            0.        ,     0.        ,     0.        ,     0.        ,\n",
       "            0.        ,     0.        ,     0.        ,     0.        ],\n",
       "       [27949.46555824, 28807.58575793, 17223.57380237, 30639.75782513,\n",
       "        28246.3791904 , 27675.57893181, 28037.87521082, 28328.42277328,\n",
       "        27667.3474634 , 27702.72691169, 28496.9877063 , 26658.13180385,\n",
       "        26055.04587728, 20432.68932098, 27807.63473463, 28106.91837798,\n",
       "        27863.44083365, 28191.91658901, 27773.03185149, 27994.2351321 ,\n",
       "            0.        ,     0.        ,     0.        ,     0.        ],\n",
       "       [    0.        ,     0.        ,     0.        ,     0.        ,\n",
       "            0.        ,     0.        ,     0.        ,     0.        ,\n",
       "            0.        ,     0.        ,     0.        ,     0.        ,\n",
       "            0.        ,     0.        ,     0.        ,     0.        ,\n",
       "            0.        ,     0.        ,     0.        ,     0.        ,\n",
       "            0.        ,     0.        ,     0.        ,     0.        ],\n",
       "       [    0.        ,     0.        ,     0.        ,     0.        ,\n",
       "            0.        ,     0.        ,     0.        ,     0.        ,\n",
       "            0.        ,     0.        ,     0.        ,     0.        ,\n",
       "            0.        ,     0.        ,     0.        ,     0.        ,\n",
       "            0.        ,     0.        ,     0.        ,     0.        ,\n",
       "            0.        ,     0.        ,     0.        ,     0.        ],\n",
       "       [    0.        ,     0.        ,     0.        ,     0.        ,\n",
       "            0.        ,     0.        ,     0.        ,     0.        ,\n",
       "            0.        ,     0.        ,     0.        ,     0.        ,\n",
       "            0.        ,     0.        ,     0.        ,     0.        ,\n",
       "            0.        ,     0.        ,     0.        ,     0.        ,\n",
       "            0.        ,     0.        ,     0.        ,     0.        ]])"
      ]
     },
     "execution_count": 21,
     "metadata": {},
     "output_type": "execute_result"
    }
   ],
   "source": [
    "log_waic_models"
   ]
  },
  {
   "cell_type": "code",
   "execution_count": 17,
   "id": "fe2cb582",
   "metadata": {},
   "outputs": [
    {
     "name": "stdout",
     "output_type": "stream",
     "text": [
      "-1-1-1-1-1-1-1-1-1-1-1\n"
     ]
    }
   ],
   "source": [
    "print('-1-1-1-1-1-1-1-1-1-1-1')"
   ]
  },
  {
   "cell_type": "code",
   "execution_count": null,
   "id": "783102da",
   "metadata": {},
   "outputs": [],
   "source": [
    "def listToString(arr):\n",
    " \n",
    "    # initialize an empty string\n",
    "    str1 = \"\"\n",
    "    lowest =  np.min(arr)\n",
    "    # traverse in the string\n",
    "    for i, ele in enumerate(arr):\n",
    "        if ele == lowest:\n",
    "            ele = '\\\\' + 'textcolor' + '{' + 'Green' + '}{\\\\' + 'textbf{'+str(ele) + '}}'\n",
    "        if i== len(arr)-1:\n",
    "            str1 += str(ele) \n",
    "        else:\n",
    "            str1 += str(ele) + ' & '\n",
    "    return str1\n",
    "\n",
    "table_subjs = \"\"\n",
    "\n",
    "for i, subName in enumerate(subList_HC):\n",
    "    str(np.round(log_waic_models[:,i], 1))\n",
    "    table_subjs += subName + ' & ' + listToString(np.round(log_waic_models[:,i], 1)) + ' \\\\\\ \\n \\\\hline \\n'\n"
   ]
  },
  {
   "cell_type": "code",
   "execution_count": null,
   "id": "0fa55203",
   "metadata": {},
   "outputs": [
    {
     "name": "stdout",
     "output_type": "stream",
     "text": [
      "sub-012 & \\textcolor{Green}{\\textbf{42558.0}} & \\textcolor{Green}{\\textbf{42558.0}} & \\textcolor{Green}{\\textbf{42558.0}} & \\textcolor{Green}{\\textbf{42558.0}} & \\textcolor{Green}{\\textbf{42558.0}} & \\textcolor{Green}{\\textbf{42558.0}} & \\textcolor{Green}{\\textbf{42558.0}} & \\textcolor{Green}{\\textbf{42558.0}} \\\\ \n",
      " \\hline \n",
      "sub-026 & \\textcolor{Green}{\\textbf{43127.0}} & \\textcolor{Green}{\\textbf{43127.0}} & \\textcolor{Green}{\\textbf{43127.0}} & \\textcolor{Green}{\\textbf{43127.0}} & \\textcolor{Green}{\\textbf{43127.0}} & \\textcolor{Green}{\\textbf{43127.0}} & \\textcolor{Green}{\\textbf{43127.0}} & \\textcolor{Green}{\\textbf{43127.0}} \\\\ \n",
      " \\hline \n",
      "sub-030 & \\textcolor{Green}{\\textbf{29652.8}} & \\textcolor{Green}{\\textbf{29652.8}} & \\textcolor{Green}{\\textbf{29652.8}} & \\textcolor{Green}{\\textbf{29652.8}} & \\textcolor{Green}{\\textbf{29652.8}} & \\textcolor{Green}{\\textbf{29652.8}} & \\textcolor{Green}{\\textbf{29652.8}} & \\textcolor{Green}{\\textbf{29652.8}} \\\\ \n",
      " \\hline \n",
      "sub-033 & \\textcolor{Green}{\\textbf{43193.0}} & \\textcolor{Green}{\\textbf{43193.0}} & \\textcolor{Green}{\\textbf{43193.0}} & \\textcolor{Green}{\\textbf{43193.0}} & \\textcolor{Green}{\\textbf{43193.0}} & \\textcolor{Green}{\\textbf{43193.0}} & \\textcolor{Green}{\\textbf{43193.0}} & \\textcolor{Green}{\\textbf{43193.0}} \\\\ \n",
      " \\hline \n",
      "sub-034 & \\textcolor{Green}{\\textbf{41601.1}} & \\textcolor{Green}{\\textbf{41601.1}} & \\textcolor{Green}{\\textbf{41601.1}} & \\textcolor{Green}{\\textbf{41601.1}} & \\textcolor{Green}{\\textbf{41601.1}} & \\textcolor{Green}{\\textbf{41601.1}} & \\textcolor{Green}{\\textbf{41601.1}} & \\textcolor{Green}{\\textbf{41601.1}} \\\\ \n",
      " \\hline \n",
      "sub-036 & \\textcolor{Green}{\\textbf{38646.2}} & \\textcolor{Green}{\\textbf{38646.2}} & \\textcolor{Green}{\\textbf{38646.2}} & \\textcolor{Green}{\\textbf{38646.2}} & \\textcolor{Green}{\\textbf{38646.2}} & \\textcolor{Green}{\\textbf{38646.2}} & \\textcolor{Green}{\\textbf{38646.2}} & \\textcolor{Green}{\\textbf{38646.2}} \\\\ \n",
      " \\hline \n",
      "sub-044 & \\textcolor{Green}{\\textbf{42500.2}} & \\textcolor{Green}{\\textbf{42500.2}} & \\textcolor{Green}{\\textbf{42500.2}} & \\textcolor{Green}{\\textbf{42500.2}} & \\textcolor{Green}{\\textbf{42500.2}} & \\textcolor{Green}{\\textbf{42500.2}} & \\textcolor{Green}{\\textbf{42500.2}} & \\textcolor{Green}{\\textbf{42500.2}} \\\\ \n",
      " \\hline \n",
      "sub-047 & \\textcolor{Green}{\\textbf{42494.3}} & \\textcolor{Green}{\\textbf{42494.3}} & \\textcolor{Green}{\\textbf{42494.3}} & \\textcolor{Green}{\\textbf{42494.3}} & \\textcolor{Green}{\\textbf{42494.3}} & \\textcolor{Green}{\\textbf{42494.3}} & \\textcolor{Green}{\\textbf{42494.3}} & \\textcolor{Green}{\\textbf{42494.3}} \\\\ \n",
      " \\hline \n",
      "sub-048 & \\textcolor{Green}{\\textbf{42484.6}} & \\textcolor{Green}{\\textbf{42484.6}} & \\textcolor{Green}{\\textbf{42484.6}} & \\textcolor{Green}{\\textbf{42484.6}} & \\textcolor{Green}{\\textbf{42484.6}} & \\textcolor{Green}{\\textbf{42484.6}} & \\textcolor{Green}{\\textbf{42484.6}} & \\textcolor{Green}{\\textbf{42484.6}} \\\\ \n",
      " \\hline \n",
      "sub-054 & \\textcolor{Green}{\\textbf{41843.9}} & \\textcolor{Green}{\\textbf{41843.9}} & \\textcolor{Green}{\\textbf{41843.9}} & \\textcolor{Green}{\\textbf{41843.9}} & \\textcolor{Green}{\\textbf{41843.9}} & \\textcolor{Green}{\\textbf{41843.9}} & \\textcolor{Green}{\\textbf{41843.9}} & \\textcolor{Green}{\\textbf{41843.9}} \\\\ \n",
      " \\hline \n",
      "sub-060 & \\textcolor{Green}{\\textbf{42496.3}} & \\textcolor{Green}{\\textbf{42496.3}} & \\textcolor{Green}{\\textbf{42496.3}} & \\textcolor{Green}{\\textbf{42496.3}} & \\textcolor{Green}{\\textbf{42496.3}} & \\textcolor{Green}{\\textbf{42496.3}} & \\textcolor{Green}{\\textbf{42496.3}} & \\textcolor{Green}{\\textbf{42496.3}} \\\\ \n",
      " \\hline \n",
      "sub-064 & \\textcolor{Green}{\\textbf{41628.5}} & \\textcolor{Green}{\\textbf{41628.5}} & \\textcolor{Green}{\\textbf{41628.5}} & \\textcolor{Green}{\\textbf{41628.5}} & \\textcolor{Green}{\\textbf{41628.5}} & \\textcolor{Green}{\\textbf{41628.5}} & \\textcolor{Green}{\\textbf{41628.5}} & \\textcolor{Green}{\\textbf{41628.5}} \\\\ \n",
      " \\hline \n",
      "sub-067 & \\textcolor{Green}{\\textbf{39358.6}} & \\textcolor{Green}{\\textbf{39358.6}} & \\textcolor{Green}{\\textbf{39358.6}} & \\textcolor{Green}{\\textbf{39358.6}} & \\textcolor{Green}{\\textbf{39358.6}} & \\textcolor{Green}{\\textbf{39358.6}} & \\textcolor{Green}{\\textbf{39358.6}} & \\textcolor{Green}{\\textbf{39358.6}} \\\\ \n",
      " \\hline \n",
      "sub-069 & \\textcolor{Green}{\\textbf{31746.9}} & \\textcolor{Green}{\\textbf{31746.9}} & \\textcolor{Green}{\\textbf{31746.9}} & \\textcolor{Green}{\\textbf{31746.9}} & \\textcolor{Green}{\\textbf{31746.9}} & \\textcolor{Green}{\\textbf{31746.9}} & \\textcolor{Green}{\\textbf{31746.9}} & \\textcolor{Green}{\\textbf{31746.9}} \\\\ \n",
      " \\hline \n",
      "sub-075 & \\textcolor{Green}{\\textbf{42148.7}} & \\textcolor{Green}{\\textbf{42148.7}} & \\textcolor{Green}{\\textbf{42148.7}} & \\textcolor{Green}{\\textbf{42148.7}} & \\textcolor{Green}{\\textbf{42148.7}} & \\textcolor{Green}{\\textbf{42148.7}} & \\textcolor{Green}{\\textbf{42148.7}} & \\textcolor{Green}{\\textbf{42148.7}} \\\\ \n",
      " \\hline \n",
      "sub-076 & \\textcolor{Green}{\\textbf{43033.5}} & \\textcolor{Green}{\\textbf{43033.5}} & \\textcolor{Green}{\\textbf{43033.5}} & \\textcolor{Green}{\\textbf{43033.5}} & \\textcolor{Green}{\\textbf{43033.5}} & \\textcolor{Green}{\\textbf{43033.5}} & \\textcolor{Green}{\\textbf{43033.5}} & \\textcolor{Green}{\\textbf{43033.5}} \\\\ \n",
      " \\hline \n",
      "sub-077 & \\textcolor{Green}{\\textbf{39000.7}} & \\textcolor{Green}{\\textbf{39000.7}} & \\textcolor{Green}{\\textbf{39000.7}} & \\textcolor{Green}{\\textbf{39000.7}} & \\textcolor{Green}{\\textbf{39000.7}} & \\textcolor{Green}{\\textbf{39000.7}} & \\textcolor{Green}{\\textbf{39000.7}} & \\textcolor{Green}{\\textbf{39000.7}} \\\\ \n",
      " \\hline \n",
      "sub-078 & \\textcolor{Green}{\\textbf{42858.1}} & \\textcolor{Green}{\\textbf{42858.1}} & \\textcolor{Green}{\\textbf{42858.1}} & \\textcolor{Green}{\\textbf{42858.1}} & \\textcolor{Green}{\\textbf{42858.1}} & \\textcolor{Green}{\\textbf{42858.1}} & \\textcolor{Green}{\\textbf{42858.1}} & \\textcolor{Green}{\\textbf{42858.1}} \\\\ \n",
      " \\hline \n",
      "sub-079 & \\textcolor{Green}{\\textbf{41454.0}} & \\textcolor{Green}{\\textbf{41454.0}} & \\textcolor{Green}{\\textbf{41454.0}} & \\textcolor{Green}{\\textbf{41454.0}} & \\textcolor{Green}{\\textbf{41454.0}} & \\textcolor{Green}{\\textbf{41454.0}} & \\textcolor{Green}{\\textbf{41454.0}} & \\textcolor{Green}{\\textbf{41454.0}} \\\\ \n",
      " \\hline \n",
      "sub-080 & \\textcolor{Green}{\\textbf{42390.0}} & \\textcolor{Green}{\\textbf{42390.0}} & \\textcolor{Green}{\\textbf{42390.0}} & \\textcolor{Green}{\\textbf{42390.0}} & \\textcolor{Green}{\\textbf{42390.0}} & \\textcolor{Green}{\\textbf{42390.0}} & \\textcolor{Green}{\\textbf{42390.0}} & \\textcolor{Green}{\\textbf{42390.0}} \\\\ \n",
      " \\hline \n",
      "sub-081 & \\textcolor{Green}{\\textbf{41461.7}} & \\textcolor{Green}{\\textbf{41461.7}} & \\textcolor{Green}{\\textbf{41461.7}} & \\textcolor{Green}{\\textbf{41461.7}} & \\textcolor{Green}{\\textbf{41461.7}} & \\textcolor{Green}{\\textbf{41461.7}} & \\textcolor{Green}{\\textbf{41461.7}} & \\textcolor{Green}{\\textbf{41461.7}} \\\\ \n",
      " \\hline \n",
      "sub-083 & \\textcolor{Green}{\\textbf{42846.6}} & \\textcolor{Green}{\\textbf{42846.6}} & \\textcolor{Green}{\\textbf{42846.6}} & \\textcolor{Green}{\\textbf{42846.6}} & \\textcolor{Green}{\\textbf{42846.6}} & \\textcolor{Green}{\\textbf{42846.6}} & \\textcolor{Green}{\\textbf{42846.6}} & \\textcolor{Green}{\\textbf{42846.6}} \\\\ \n",
      " \\hline \n",
      "sub-088 & \\textcolor{Green}{\\textbf{42783.7}} & \\textcolor{Green}{\\textbf{42783.7}} & \\textcolor{Green}{\\textbf{42783.7}} & \\textcolor{Green}{\\textbf{42783.7}} & \\textcolor{Green}{\\textbf{42783.7}} & \\textcolor{Green}{\\textbf{42783.7}} & \\textcolor{Green}{\\textbf{42783.7}} & \\textcolor{Green}{\\textbf{42783.7}} \\\\ \n",
      " \\hline \n",
      "sub-090 & \\textcolor{Green}{\\textbf{40921.1}} & \\textcolor{Green}{\\textbf{40921.1}} & \\textcolor{Green}{\\textbf{40921.1}} & \\textcolor{Green}{\\textbf{40921.1}} & \\textcolor{Green}{\\textbf{40921.1}} & \\textcolor{Green}{\\textbf{40921.1}} & \\textcolor{Green}{\\textbf{40921.1}} & \\textcolor{Green}{\\textbf{40921.1}} \\\\ \n",
      " \\hline \n",
      "\n"
     ]
    }
   ],
   "source": [
    "print(table_subjs)"
   ]
  },
  {
   "cell_type": "code",
   "execution_count": null,
   "metadata": {},
   "outputs": [],
   "source": []
  }
 ],
 "metadata": {
  "kernelspec": {
   "display_name": "Python 3 (ipykernel)",
   "language": "python",
   "name": "python3"
  },
  "language_info": {
   "codemirror_mode": {
    "name": "ipython",
    "version": 3
   },
   "file_extension": ".py",
   "mimetype": "text/x-python",
   "name": "python",
   "nbconvert_exporter": "python",
   "pygments_lexer": "ipython3",
   "version": "3.9.18"
  }
 },
 "nbformat": 4,
 "nbformat_minor": 5
}
