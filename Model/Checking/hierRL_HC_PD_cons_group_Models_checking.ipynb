{
 "cells": [
  {
   "cell_type": "code",
   "execution_count": 1,
   "id": "e601d147",
   "metadata": {
    "scrolled": true
   },
   "outputs": [],
   "source": [
    "import numpy as np\n",
    "import pandas as pd\n",
    "import stan\n",
    "import matplotlib.pyplot as plt\n",
    "import seaborn as sns\n",
    "import sys\n",
    "sys.path.append('/mrhome/amingk/Documents/7TPD/ActStimRL')\n",
    "from Madule import utils, plots\n",
    "import arviz as az"
   ]
  },
  {
   "cell_type": "markdown",
   "metadata": {},
   "source": [
    "### Model 1"
   ]
  },
  {
   "cell_type": "code",
   "execution_count": 2,
   "id": "4cdc7e41",
   "metadata": {
    "scrolled": true
   },
   "outputs": [],
   "source": [
    "# Directory of pickle file\n",
    "pickelDir = '/mnt/projects/7TPD/bids/derivatives/fMRI_DA/data_BehModel/originalfMRIbehFiles/Model_secondOrder/hier/groups/cond_patient/hierRL_HC_PD_cond_group_Model1.pkl'\n",
    "\"\"\"Loading the pickle file of model fit from the subject directory\"\"\"\n",
    "loadPkl = utils.load_pickle(load_path=pickelDir)\n",
    "fit = loadPkl['fit']"
   ]
  },
  {
   "cell_type": "code",
   "execution_count": 3,
   "metadata": {},
   "outputs": [
    {
     "data": {
      "text/html": [
       "<div>\n",
       "<style scoped>\n",
       "    .dataframe tbody tr th:only-of-type {\n",
       "        vertical-align: middle;\n",
       "    }\n",
       "\n",
       "    .dataframe tbody tr th {\n",
       "        vertical-align: top;\n",
       "    }\n",
       "\n",
       "    .dataframe thead th {\n",
       "        text-align: right;\n",
       "    }\n",
       "</style>\n",
       "<table border=\"1\" class=\"dataframe\">\n",
       "  <thead>\n",
       "    <tr style=\"text-align: right;\">\n",
       "      <th></th>\n",
       "      <th>mean</th>\n",
       "      <th>sd</th>\n",
       "      <th>hdi_3%</th>\n",
       "      <th>hdi_97%</th>\n",
       "      <th>mcse_mean</th>\n",
       "      <th>mcse_sd</th>\n",
       "      <th>ess_bulk</th>\n",
       "      <th>ess_tail</th>\n",
       "      <th>r_hat</th>\n",
       "    </tr>\n",
       "  </thead>\n",
       "  <tbody>\n",
       "    <tr>\n",
       "      <th>hier_alphaAct_mu</th>\n",
       "      <td>-0.810</td>\n",
       "      <td>0.108</td>\n",
       "      <td>-1.013</td>\n",
       "      <td>-0.609</td>\n",
       "      <td>0.001</td>\n",
       "      <td>0.001</td>\n",
       "      <td>6981.0</td>\n",
       "      <td>12378.0</td>\n",
       "      <td>1.0</td>\n",
       "    </tr>\n",
       "    <tr>\n",
       "      <th>hier_alphaClr_mu</th>\n",
       "      <td>-0.174</td>\n",
       "      <td>0.117</td>\n",
       "      <td>-0.396</td>\n",
       "      <td>0.047</td>\n",
       "      <td>0.001</td>\n",
       "      <td>0.001</td>\n",
       "      <td>8063.0</td>\n",
       "      <td>13498.0</td>\n",
       "      <td>1.0</td>\n",
       "    </tr>\n",
       "    <tr>\n",
       "      <th>hier_weightAct_mu</th>\n",
       "      <td>0.314</td>\n",
       "      <td>0.090</td>\n",
       "      <td>0.150</td>\n",
       "      <td>0.485</td>\n",
       "      <td>0.001</td>\n",
       "      <td>0.001</td>\n",
       "      <td>7317.0</td>\n",
       "      <td>11029.0</td>\n",
       "      <td>1.0</td>\n",
       "    </tr>\n",
       "    <tr>\n",
       "      <th>hier_sensitivity_mu</th>\n",
       "      <td>-3.413</td>\n",
       "      <td>0.077</td>\n",
       "      <td>-3.557</td>\n",
       "      <td>-3.270</td>\n",
       "      <td>0.001</td>\n",
       "      <td>0.001</td>\n",
       "      <td>3533.0</td>\n",
       "      <td>7031.0</td>\n",
       "      <td>1.0</td>\n",
       "    </tr>\n",
       "    <tr>\n",
       "      <th>hier_alphaAct_sd</th>\n",
       "      <td>0.550</td>\n",
       "      <td>0.052</td>\n",
       "      <td>0.451</td>\n",
       "      <td>0.646</td>\n",
       "      <td>0.000</td>\n",
       "      <td>0.000</td>\n",
       "      <td>14596.0</td>\n",
       "      <td>17793.0</td>\n",
       "      <td>1.0</td>\n",
       "    </tr>\n",
       "  </tbody>\n",
       "</table>\n",
       "</div>"
      ],
      "text/plain": [
       "                      mean     sd  hdi_3%  hdi_97%  mcse_mean  mcse_sd  \\\n",
       "hier_alphaAct_mu    -0.810  0.108  -1.013   -0.609      0.001    0.001   \n",
       "hier_alphaClr_mu    -0.174  0.117  -0.396    0.047      0.001    0.001   \n",
       "hier_weightAct_mu    0.314  0.090   0.150    0.485      0.001    0.001   \n",
       "hier_sensitivity_mu -3.413  0.077  -3.557   -3.270      0.001    0.001   \n",
       "hier_alphaAct_sd     0.550  0.052   0.451    0.646      0.000    0.000   \n",
       "\n",
       "                     ess_bulk  ess_tail  r_hat  \n",
       "hier_alphaAct_mu       6981.0   12378.0    1.0  \n",
       "hier_alphaClr_mu       8063.0   13498.0    1.0  \n",
       "hier_weightAct_mu      7317.0   11029.0    1.0  \n",
       "hier_sensitivity_mu    3533.0    7031.0    1.0  \n",
       "hier_alphaAct_sd      14596.0   17793.0    1.0  "
      ]
     },
     "execution_count": 3,
     "metadata": {},
     "output_type": "execute_result"
    }
   ],
   "source": [
    "az.summary(fit)[0:5]"
   ]
  },
  {
   "cell_type": "code",
   "execution_count": 4,
   "metadata": {},
   "outputs": [
    {
     "data": {
      "text/plain": [
       "{'lppd': -12912.87393445178,\n",
       " 'p_waic': 4065.649468693988,\n",
       " 'waic': 33957.04680629154,\n",
       " 'waic_se': 1.3243682068972218}"
      ]
     },
     "execution_count": 4,
     "metadata": {},
     "output_type": "execute_result"
    }
   ],
   "source": [
    "log_lik = fit['log_lik']\n",
    "utils.waic(log_likelihood=log_lik)"
   ]
  },
  {
   "cell_type": "markdown",
   "metadata": {},
   "source": [
    "### Model 2"
   ]
  },
  {
   "cell_type": "code",
   "execution_count": 2,
   "metadata": {},
   "outputs": [],
   "source": [
    "# Directory of pickle file\n",
    "pickelDir = '/mnt/projects/7TPD/bids/derivatives/fMRI_DA/data_BehModel/originalfMRIbehFiles/Model_secondOrder/hier/groups/cond_patient/hierRL_HC_PD_cond_group_Model2.pkl'\n",
    "\"\"\"Loading the pickle file of model fit from the subject directory\"\"\"\n",
    "loadPkl = utils.load_pickle(load_path=pickelDir)\n",
    "fit = loadPkl['fit']"
   ]
  },
  {
   "cell_type": "code",
   "execution_count": 3,
   "metadata": {},
   "outputs": [
    {
     "data": {
      "text/html": [
       "<div>\n",
       "<style scoped>\n",
       "    .dataframe tbody tr th:only-of-type {\n",
       "        vertical-align: middle;\n",
       "    }\n",
       "\n",
       "    .dataframe tbody tr th {\n",
       "        vertical-align: top;\n",
       "    }\n",
       "\n",
       "    .dataframe thead th {\n",
       "        text-align: right;\n",
       "    }\n",
       "</style>\n",
       "<table border=\"1\" class=\"dataframe\">\n",
       "  <thead>\n",
       "    <tr style=\"text-align: right;\">\n",
       "      <th></th>\n",
       "      <th>mean</th>\n",
       "      <th>sd</th>\n",
       "      <th>hdi_3%</th>\n",
       "      <th>hdi_97%</th>\n",
       "      <th>mcse_mean</th>\n",
       "      <th>mcse_sd</th>\n",
       "      <th>ess_bulk</th>\n",
       "      <th>ess_tail</th>\n",
       "      <th>r_hat</th>\n",
       "    </tr>\n",
       "  </thead>\n",
       "  <tbody>\n",
       "    <tr>\n",
       "      <th>hier_alphaAct_mu</th>\n",
       "      <td>-0.686</td>\n",
       "      <td>0.103</td>\n",
       "      <td>-0.879</td>\n",
       "      <td>-0.491</td>\n",
       "      <td>0.002</td>\n",
       "      <td>0.001</td>\n",
       "      <td>4640.0</td>\n",
       "      <td>8479.0</td>\n",
       "      <td>1.0</td>\n",
       "    </tr>\n",
       "    <tr>\n",
       "      <th>hier_alphaClr_mu</th>\n",
       "      <td>-0.360</td>\n",
       "      <td>0.092</td>\n",
       "      <td>-0.537</td>\n",
       "      <td>-0.188</td>\n",
       "      <td>0.001</td>\n",
       "      <td>0.001</td>\n",
       "      <td>6309.0</td>\n",
       "      <td>10600.0</td>\n",
       "      <td>1.0</td>\n",
       "    </tr>\n",
       "    <tr>\n",
       "      <th>hier_weightAct_mu[0]</th>\n",
       "      <td>2.118</td>\n",
       "      <td>0.287</td>\n",
       "      <td>1.615</td>\n",
       "      <td>2.653</td>\n",
       "      <td>0.003</td>\n",
       "      <td>0.002</td>\n",
       "      <td>11370.0</td>\n",
       "      <td>10872.0</td>\n",
       "      <td>1.0</td>\n",
       "    </tr>\n",
       "    <tr>\n",
       "      <th>hier_weightAct_mu[1]</th>\n",
       "      <td>-0.821</td>\n",
       "      <td>0.131</td>\n",
       "      <td>-1.067</td>\n",
       "      <td>-0.573</td>\n",
       "      <td>0.001</td>\n",
       "      <td>0.001</td>\n",
       "      <td>8573.0</td>\n",
       "      <td>13300.0</td>\n",
       "      <td>1.0</td>\n",
       "    </tr>\n",
       "    <tr>\n",
       "      <th>hier_sensitivity_mu</th>\n",
       "      <td>-3.271</td>\n",
       "      <td>0.072</td>\n",
       "      <td>-3.407</td>\n",
       "      <td>-3.138</td>\n",
       "      <td>0.001</td>\n",
       "      <td>0.001</td>\n",
       "      <td>3355.0</td>\n",
       "      <td>6897.0</td>\n",
       "      <td>1.0</td>\n",
       "    </tr>\n",
       "  </tbody>\n",
       "</table>\n",
       "</div>"
      ],
      "text/plain": [
       "                       mean     sd  hdi_3%  hdi_97%  mcse_mean  mcse_sd  \\\n",
       "hier_alphaAct_mu     -0.686  0.103  -0.879   -0.491      0.002    0.001   \n",
       "hier_alphaClr_mu     -0.360  0.092  -0.537   -0.188      0.001    0.001   \n",
       "hier_weightAct_mu[0]  2.118  0.287   1.615    2.653      0.003    0.002   \n",
       "hier_weightAct_mu[1] -0.821  0.131  -1.067   -0.573      0.001    0.001   \n",
       "hier_sensitivity_mu  -3.271  0.072  -3.407   -3.138      0.001    0.001   \n",
       "\n",
       "                      ess_bulk  ess_tail  r_hat  \n",
       "hier_alphaAct_mu        4640.0    8479.0    1.0  \n",
       "hier_alphaClr_mu        6309.0   10600.0    1.0  \n",
       "hier_weightAct_mu[0]   11370.0   10872.0    1.0  \n",
       "hier_weightAct_mu[1]    8573.0   13300.0    1.0  \n",
       "hier_sensitivity_mu     3355.0    6897.0    1.0  "
      ]
     },
     "execution_count": 3,
     "metadata": {},
     "output_type": "execute_result"
    }
   ],
   "source": [
    "az.summary(fit)[0:5]"
   ]
  },
  {
   "cell_type": "code",
   "execution_count": 4,
   "metadata": {},
   "outputs": [
    {
     "data": {
      "text/plain": [
       "{'lppd': -11758.32097028232,\n",
       " 'p_waic': 5054.582188718065,\n",
       " 'waic': 33625.806318000774,\n",
       " 'waic_se': 1.582045380989626}"
      ]
     },
     "execution_count": 4,
     "metadata": {},
     "output_type": "execute_result"
    }
   ],
   "source": [
    "log_lik = fit['log_lik']\n",
    "utils.waic(log_likelihood=log_lik)"
   ]
  },
  {
   "cell_type": "markdown",
   "metadata": {},
   "source": [
    "### Model 3"
   ]
  },
  {
   "cell_type": "code",
   "execution_count": 2,
   "metadata": {},
   "outputs": [],
   "source": [
    "# Directory of pickle file\n",
    "pickelDir = '/mnt/projects/7TPD/bids/derivatives/fMRI_DA/data_BehModel/originalfMRIbehFiles/Model_secondOrder/hier/groups/cond_patient/hierRL_HC_PD_cond_group_Model3.pkl'\n",
    "\"\"\"Loading the pickle file of model fit from the subject directory\"\"\"\n",
    "loadPkl = utils.load_pickle(load_path=pickelDir)\n",
    "fit = loadPkl['fit']"
   ]
  },
  {
   "cell_type": "code",
   "execution_count": null,
   "metadata": {},
   "outputs": [],
   "source": [
    "az.summary(fit)[0:5]"
   ]
  },
  {
   "cell_type": "code",
   "execution_count": 4,
   "metadata": {},
   "outputs": [
    {
     "data": {
      "text/plain": [
       "{'lppd': -11671.103236246363,\n",
       " 'p_waic': 5065.046199089952,\n",
       " 'waic': 33472.29887067263,\n",
       " 'waic_se': 1.559723323089497}"
      ]
     },
     "execution_count": 4,
     "metadata": {},
     "output_type": "execute_result"
    }
   ],
   "source": [
    "log_lik = fit['log_lik']\n",
    "utils.waic(log_likelihood=log_lik)"
   ]
  },
  {
   "cell_type": "code",
   "execution_count": 31,
   "metadata": {},
   "outputs": [
    {
     "data": {
      "text/plain": [
       "<seaborn.axisgrid.FacetGrid at 0x7f1ab00e6490>"
      ]
     },
     "execution_count": 31,
     "metadata": {},
     "output_type": "execute_result"
    },
    {
     "data": {
      "image/png": "[encoded data removed]",
      "text/plain": [
       "<Figure size 500x500 with 1 Axes>"
      ]
     },
     "metadata": {},
     "output_type": "display_data"
    }
   ],
   "source": [
    "from scipy import stats\n",
    "sns.displot(fit['hier_alphaAct_sd'][0])"
   ]
  },
  {
   "cell_type": "markdown",
   "metadata": {},
   "source": [
    "### Model 5"
   ]
  },
  {
   "cell_type": "code",
   "execution_count": 2,
   "metadata": {},
   "outputs": [],
   "source": [
    "# Directory of pickle file\n",
    "pickelDir = '/mnt/projects/7TPD/bids/derivatives/fMRI_DA/data_BehModel/originalfMRIbehFiles/Model_secondOrder/hier/groups/cond_patient/hierRL_HC_PD_cond_group_Model5.pkl'\n",
    "\"\"\"Loading the pickle file of model fit from the subject directory\"\"\"\n",
    "loadPkl = utils.load_pickle(load_path=pickelDir)\n",
    "fit = loadPkl['fit']"
   ]
  },
  {
   "cell_type": "code",
   "execution_count": null,
   "metadata": {},
   "outputs": [],
   "source": [
    "az.summary(fit)[0:5]"
   ]
  },
  {
   "cell_type": "code",
   "execution_count": 3,
   "metadata": {},
   "outputs": [
    {
     "data": {
      "text/plain": [
       "{'lppd': -11668.532710939662,\n",
       " 'p_waic': 5067.679274881417,\n",
       " 'waic': 33472.42397164216,\n",
       " 'waic_se': 1.5660317274697848}"
      ]
     },
     "execution_count": 3,
     "metadata": {},
     "output_type": "execute_result"
    }
   ],
   "source": [
    "log_lik = fit['log_lik']\n",
    "utils.waic(log_likelihood=log_lik)"
   ]
  },
  {
   "cell_type": "markdown",
   "metadata": {},
   "source": [
    "### Model 6"
   ]
  },
  {
   "cell_type": "code",
   "execution_count": 3,
   "metadata": {},
   "outputs": [],
   "source": [
    "# Directory of pickle file\n",
    "pickelDir = '/mnt/projects/7TPD/bids/derivatives/fMRI_DA/data_BehModel/originalfMRIbehFiles/Model_secondOrder/hier/groups/cond_patient/hierRL_HC_PD_cond_group_Model6.pkl'\n",
    "\"\"\"Loading the pickle file of model fit from the subject directory\"\"\"\n",
    "loadPkl = utils.load_pickle(load_path=pickelDir)\n",
    "fit = loadPkl['fit']"
   ]
  },
  {
   "cell_type": "code",
   "execution_count": null,
   "metadata": {},
   "outputs": [],
   "source": [
    "az.summary(fit)[0:5]"
   ]
  },
  {
   "cell_type": "code",
   "execution_count": 4,
   "metadata": {},
   "outputs": [
    {
     "data": {
      "text/plain": [
       "{'lppd': -11710.542656660906,\n",
       " 'p_waic': 5059.123894773505,\n",
       " 'waic': 33539.33310286882,\n",
       " 'waic_se': 1.550859854187976}"
      ]
     },
     "execution_count": 4,
     "metadata": {},
     "output_type": "execute_result"
    }
   ],
   "source": [
    "log_lik = fit['log_lik']\n",
    "utils.waic(log_likelihood=log_lik)"
   ]
  },
  {
   "cell_type": "markdown",
   "metadata": {},
   "source": [
    "### Model 7"
   ]
  },
  {
   "cell_type": "code",
   "execution_count": 5,
   "metadata": {},
   "outputs": [],
   "source": [
    "# Directory of pickle file\n",
    "pickelDir = '/mnt/projects/7TPD/bids/derivatives/fMRI_DA/data_BehModel/originalfMRIbehFiles/Model_secondOrder/hier/groups/cond_patient/hierRL_HC_PD_cond_group_Model7.pkl'\n",
    "\"\"\"Loading the pickle file of model fit from the subject directory\"\"\"\n",
    "loadPkl = utils.load_pickle(load_path=pickelDir)\n",
    "fit = loadPkl['fit']"
   ]
  },
  {
   "cell_type": "code",
   "execution_count": null,
   "metadata": {},
   "outputs": [],
   "source": [
    "az.summary(fit)[0:5]"
   ]
  },
  {
   "cell_type": "code",
   "execution_count": 6,
   "metadata": {},
   "outputs": [
    {
     "data": {
      "text/plain": [
       "{'lppd': -11674.571314723296,\n",
       " 'p_waic': 5063.683068065221,\n",
       " 'waic': 33476.50876557703,\n",
       " 'waic_se': 1.5713273661110971}"
      ]
     },
     "execution_count": 6,
     "metadata": {},
     "output_type": "execute_result"
    }
   ],
   "source": [
    "log_lik = fit['log_lik']\n",
    "utils.waic(log_likelihood=log_lik)"
   ]
  },
  {
   "cell_type": "markdown",
   "metadata": {},
   "source": [
    "### Model 8"
   ]
  },
  {
   "cell_type": "code",
   "execution_count": 2,
   "metadata": {},
   "outputs": [],
   "source": [
    "# Directory of pickle file\n",
    "pickelDir = '/mnt/projects/7TPD/bids/derivatives/fMRI_DA/data_BehModel/originalfMRIbehFiles/Model_secondOrder/hier/groups/cond_patient/hierRL_HC_PD_cond_group_Model8.pkl'\n",
    "\"\"\"Loading the pickle file of model fit from the subject directory\"\"\"\n",
    "loadPkl = utils.load_pickle(load_path=pickelDir)\n",
    "fit = loadPkl['fit']"
   ]
  },
  {
   "cell_type": "code",
   "execution_count": 3,
   "metadata": {},
   "outputs": [
    {
     "data": {
      "text/html": [
       "<div>\n",
       "<style scoped>\n",
       "    .dataframe tbody tr th:only-of-type {\n",
       "        vertical-align: middle;\n",
       "    }\n",
       "\n",
       "    .dataframe tbody tr th {\n",
       "        vertical-align: top;\n",
       "    }\n",
       "\n",
       "    .dataframe thead th {\n",
       "        text-align: right;\n",
       "    }\n",
       "</style>\n",
       "<table border=\"1\" class=\"dataframe\">\n",
       "  <thead>\n",
       "    <tr style=\"text-align: right;\">\n",
       "      <th></th>\n",
       "      <th>mean</th>\n",
       "      <th>sd</th>\n",
       "      <th>hdi_3%</th>\n",
       "      <th>hdi_97%</th>\n",
       "      <th>mcse_mean</th>\n",
       "      <th>mcse_sd</th>\n",
       "      <th>ess_bulk</th>\n",
       "      <th>ess_tail</th>\n",
       "      <th>r_hat</th>\n",
       "    </tr>\n",
       "  </thead>\n",
       "  <tbody>\n",
       "    <tr>\n",
       "      <th>hier_alphaAct_mu[0, 0]</th>\n",
       "      <td>-0.618</td>\n",
       "      <td>0.135</td>\n",
       "      <td>-0.872</td>\n",
       "      <td>-0.369</td>\n",
       "      <td>0.001</td>\n",
       "      <td>0.001</td>\n",
       "      <td>9224.0</td>\n",
       "      <td>13662.0</td>\n",
       "      <td>1.0</td>\n",
       "    </tr>\n",
       "    <tr>\n",
       "      <th>hier_alphaAct_mu[0, 1]</th>\n",
       "      <td>-2.821</td>\n",
       "      <td>0.437</td>\n",
       "      <td>-3.655</td>\n",
       "      <td>-2.031</td>\n",
       "      <td>0.003</td>\n",
       "      <td>0.002</td>\n",
       "      <td>21699.0</td>\n",
       "      <td>18125.0</td>\n",
       "      <td>1.0</td>\n",
       "    </tr>\n",
       "    <tr>\n",
       "      <th>hier_alphaAct_mu[1, 0]</th>\n",
       "      <td>-0.533</td>\n",
       "      <td>0.143</td>\n",
       "      <td>-0.789</td>\n",
       "      <td>-0.253</td>\n",
       "      <td>0.002</td>\n",
       "      <td>0.001</td>\n",
       "      <td>8562.0</td>\n",
       "      <td>13482.0</td>\n",
       "      <td>1.0</td>\n",
       "    </tr>\n",
       "    <tr>\n",
       "      <th>hier_alphaAct_mu[1, 1]</th>\n",
       "      <td>-2.154</td>\n",
       "      <td>0.370</td>\n",
       "      <td>-2.860</td>\n",
       "      <td>-1.492</td>\n",
       "      <td>0.003</td>\n",
       "      <td>0.002</td>\n",
       "      <td>20162.0</td>\n",
       "      <td>17042.0</td>\n",
       "      <td>1.0</td>\n",
       "    </tr>\n",
       "    <tr>\n",
       "      <th>hier_alphaClr_mu[0]</th>\n",
       "      <td>0.911</td>\n",
       "      <td>0.875</td>\n",
       "      <td>-0.785</td>\n",
       "      <td>2.580</td>\n",
       "      <td>0.009</td>\n",
       "      <td>0.006</td>\n",
       "      <td>10217.0</td>\n",
       "      <td>10792.0</td>\n",
       "      <td>1.0</td>\n",
       "    </tr>\n",
       "  </tbody>\n",
       "</table>\n",
       "</div>"
      ],
      "text/plain": [
       "                         mean     sd  hdi_3%  hdi_97%  mcse_mean  mcse_sd  \\\n",
       "hier_alphaAct_mu[0, 0] -0.618  0.135  -0.872   -0.369      0.001    0.001   \n",
       "hier_alphaAct_mu[0, 1] -2.821  0.437  -3.655   -2.031      0.003    0.002   \n",
       "hier_alphaAct_mu[1, 0] -0.533  0.143  -0.789   -0.253      0.002    0.001   \n",
       "hier_alphaAct_mu[1, 1] -2.154  0.370  -2.860   -1.492      0.003    0.002   \n",
       "hier_alphaClr_mu[0]     0.911  0.875  -0.785    2.580      0.009    0.006   \n",
       "\n",
       "                        ess_bulk  ess_tail  r_hat  \n",
       "hier_alphaAct_mu[0, 0]    9224.0   13662.0    1.0  \n",
       "hier_alphaAct_mu[0, 1]   21699.0   18125.0    1.0  \n",
       "hier_alphaAct_mu[1, 0]    8562.0   13482.0    1.0  \n",
       "hier_alphaAct_mu[1, 1]   20162.0   17042.0    1.0  \n",
       "hier_alphaClr_mu[0]      10217.0   10792.0    1.0  "
      ]
     },
     "execution_count": 3,
     "metadata": {},
     "output_type": "execute_result"
    }
   ],
   "source": [
    "az.summary(fit)[0:5]"
   ]
  },
  {
   "cell_type": "code",
   "execution_count": 4,
   "metadata": {},
   "outputs": [
    {
     "data": {
      "text/plain": [
       "{'lppd': -11671.697053305337,\n",
       " 'p_waic': 5065.7335987509805,\n",
       " 'waic': 33474.86130411264,\n",
       " 'waic_se': 1.5749125451865975}"
      ]
     },
     "execution_count": 4,
     "metadata": {},
     "output_type": "execute_result"
    }
   ],
   "source": [
    "log_lik = fit['log_lik']\n",
    "utils.waic(log_likelihood=log_lik)"
   ]
  },
  {
   "cell_type": "markdown",
   "metadata": {},
   "source": [
    "### Model 9"
   ]
  },
  {
   "cell_type": "code",
   "execution_count": 2,
   "metadata": {},
   "outputs": [],
   "source": [
    "# Directory of pickle file\n",
    "pickelDir = '/mnt/projects/7TPD/bids/derivatives/fMRI_DA/data_BehModel/originalfMRIbehFiles/Model_secondOrder/hier/groups/cond_patient/hierRL_HC_PD_cond_group_Model9.pkl'\n",
    "\"\"\"Loading the pickle file of model fit from the subject directory\"\"\"\n",
    "loadPkl = utils.load_pickle(load_path=pickelDir)\n",
    "fit = loadPkl['fit']"
   ]
  },
  {
   "cell_type": "code",
   "execution_count": null,
   "metadata": {},
   "outputs": [],
   "source": [
    "az.summary(fit)[0:5]"
   ]
  },
  {
   "cell_type": "code",
   "execution_count": 3,
   "metadata": {},
   "outputs": [
    {
     "data": {
      "text/plain": [
       "{'lppd': -11675.53829112939,\n",
       " 'p_waic': 5060.658956488378,\n",
       " 'waic': 33472.39449523554,\n",
       " 'waic_se': 1.5716633695953286}"
      ]
     },
     "execution_count": 3,
     "metadata": {},
     "output_type": "execute_result"
    }
   ],
   "source": [
    "log_lik = fit['log_lik']\n",
    "utils.waic(log_likelihood=log_lik)"
   ]
  },
  {
   "cell_type": "code",
   "execution_count": 2,
   "metadata": {},
   "outputs": [],
   "source": [
    "# List of subjects\n",
    "subList = ['sub-004', 'sub-010', 'sub-012', 'sub-025', 'sub-026', 'sub-029', 'sub-030',\n",
    "           'sub-033', 'sub-034', 'sub-036', 'sub-040', 'sub-041', 'sub-042', 'sub-044', \n",
    "           'sub-045', 'sub-047', 'sub-048', 'sub-052', 'sub-054', 'sub-056', 'sub-059', \n",
    "           'sub-060', 'sub-064', 'sub-065', 'sub-067', 'sub-069', 'sub-070', 'sub-071', \n",
    "           'sub-074', 'sub-075', 'sub-076', 'sub-077', 'sub-078', 'sub-079', 'sub-080', \n",
    "           'sub-081', 'sub-082', 'sub-083', 'sub-085', 'sub-087', 'sub-088', 'sub-089', \n",
    "           'sub-090', 'sub-092', 'sub-108', 'sub-109']\n",
    "\n",
    "behAll = pd.read_csv('/mnt/projects/7TPD/bids/derivatives/fMRI_DA/data_BehModel/originalfMRIbehFiles/AllBehData/behAll.csv')\n"
   ]
  },
  {
   "cell_type": "code",
   "execution_count": 6,
   "metadata": {},
   "outputs": [
    {
     "data": {
      "text/plain": [
       "(22,)"
      ]
     },
     "execution_count": 6,
     "metadata": {},
     "output_type": "execute_result"
    }
   ],
   "source": [
    "np.unique(behAll[behAll['patient']=='PD']['sub_ID']).shape"
   ]
  },
  {
   "cell_type": "code",
   "execution_count": 7,
   "metadata": {},
   "outputs": [
    {
     "data": {
      "text/plain": [
       "(24,)"
      ]
     },
     "execution_count": 7,
     "metadata": {},
     "output_type": "execute_result"
    }
   ],
   "source": [
    "np.unique(behAll[behAll['patient']=='HC']['sub_ID']).shape"
   ]
  },
  {
   "cell_type": "code",
   "execution_count": 8,
   "metadata": {},
   "outputs": [
    {
     "data": {
      "text/plain": [
       "46"
      ]
     },
     "execution_count": 8,
     "metadata": {},
     "output_type": "execute_result"
    }
   ],
   "source": [
    "len(subList)"
   ]
  },
  {
   "cell_type": "code",
   "execution_count": null,
   "metadata": {},
   "outputs": [],
   "source": []
  }
 ],
 "metadata": {
  "kernelspec": {
   "display_name": "Python 3 (ipykernel)",
   "language": "python",
   "name": "python3"
  },
  "language_info": {
   "codemirror_mode": {
    "name": "ipython",
    "version": 3
   },
   "file_extension": ".py",
   "mimetype": "text/x-python",
   "name": "python",
   "nbconvert_exporter": "python",
   "pygments_lexer": "ipython3",
   "version": "3.9.18"
  }
 },
 "nbformat": 4,
 "nbformat_minor": 5
}
