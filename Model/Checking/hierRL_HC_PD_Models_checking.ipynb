{
 "cells": [
  {
   "cell_type": "code",
   "execution_count": 1,
   "id": "e601d147",
   "metadata": {
    "scrolled": true
   },
   "outputs": [],
   "source": [
    "import numpy as np\n",
    "import pandas as pd\n",
    "import stan\n",
    "import matplotlib.pyplot as plt\n",
    "import seaborn as sns\n",
    "import sys\n",
    "sys.path.append('/mrhome/amingk/Documents/7TPD/ActStimRL')\n",
    "from Madule import utils, plots\n",
    "import arviz as az"
   ]
  },
  {
   "cell_type": "markdown",
   "metadata": {},
   "source": [
    "### Model 1"
   ]
  },
  {
   "cell_type": "code",
   "execution_count": 5,
   "id": "4cdc7e41",
   "metadata": {
    "scrolled": true
   },
   "outputs": [],
   "source": [
    "# Directory of pickle file\n",
    "pickelDir = '/mnt/projects/7TPD/bids/derivatives/fMRI_DA/data_BehModel/originalfMRIbehFiles/Model_secondOrder/hier/groups/hierRL_HC_PD_Model1.pkl'\n",
    "\"\"\"Loading the pickle file of model fit from the subject directory\"\"\"\n",
    "loadPkl = utils.load_pickle(load_path=pickelDir)\n",
    "fit = loadPkl['fit']"
   ]
  },
  {
   "cell_type": "code",
   "execution_count": 15,
   "metadata": {},
   "outputs": [
    {
     "data": {
      "text/html": [
       "<div>\n",
       "<style scoped>\n",
       "    .dataframe tbody tr th:only-of-type {\n",
       "        vertical-align: middle;\n",
       "    }\n",
       "\n",
       "    .dataframe tbody tr th {\n",
       "        vertical-align: top;\n",
       "    }\n",
       "\n",
       "    .dataframe thead th {\n",
       "        text-align: right;\n",
       "    }\n",
       "</style>\n",
       "<table border=\"1\" class=\"dataframe\">\n",
       "  <thead>\n",
       "    <tr style=\"text-align: right;\">\n",
       "      <th></th>\n",
       "      <th>mean</th>\n",
       "      <th>sd</th>\n",
       "      <th>hdi_3%</th>\n",
       "      <th>hdi_97%</th>\n",
       "      <th>mcse_mean</th>\n",
       "      <th>mcse_sd</th>\n",
       "      <th>ess_bulk</th>\n",
       "      <th>ess_tail</th>\n",
       "      <th>r_hat</th>\n",
       "    </tr>\n",
       "  </thead>\n",
       "  <tbody>\n",
       "    <tr>\n",
       "      <th>hier_alphaAct_mu</th>\n",
       "      <td>-0.732</td>\n",
       "      <td>0.187</td>\n",
       "      <td>-1.083</td>\n",
       "      <td>-0.376</td>\n",
       "      <td>0.003</td>\n",
       "      <td>0.002</td>\n",
       "      <td>3097.0</td>\n",
       "      <td>4630.0</td>\n",
       "      <td>1.0</td>\n",
       "    </tr>\n",
       "    <tr>\n",
       "      <th>hier_alphaClr_mu</th>\n",
       "      <td>-0.116</td>\n",
       "      <td>0.170</td>\n",
       "      <td>-0.425</td>\n",
       "      <td>0.219</td>\n",
       "      <td>0.002</td>\n",
       "      <td>0.002</td>\n",
       "      <td>4712.0</td>\n",
       "      <td>6223.0</td>\n",
       "      <td>1.0</td>\n",
       "    </tr>\n",
       "    <tr>\n",
       "      <th>hier_weightAct_mu</th>\n",
       "      <td>0.294</td>\n",
       "      <td>0.116</td>\n",
       "      <td>0.086</td>\n",
       "      <td>0.524</td>\n",
       "      <td>0.002</td>\n",
       "      <td>0.001</td>\n",
       "      <td>4607.0</td>\n",
       "      <td>6093.0</td>\n",
       "      <td>1.0</td>\n",
       "    </tr>\n",
       "    <tr>\n",
       "      <th>hier_sensitivity_mu</th>\n",
       "      <td>-3.446</td>\n",
       "      <td>0.105</td>\n",
       "      <td>-3.646</td>\n",
       "      <td>-3.247</td>\n",
       "      <td>0.002</td>\n",
       "      <td>0.002</td>\n",
       "      <td>1848.0</td>\n",
       "      <td>2583.0</td>\n",
       "      <td>1.0</td>\n",
       "    </tr>\n",
       "    <tr>\n",
       "      <th>hier_alphaAct_sd</th>\n",
       "      <td>1.065</td>\n",
       "      <td>0.181</td>\n",
       "      <td>0.756</td>\n",
       "      <td>1.411</td>\n",
       "      <td>0.003</td>\n",
       "      <td>0.002</td>\n",
       "      <td>4774.0</td>\n",
       "      <td>6545.0</td>\n",
       "      <td>1.0</td>\n",
       "    </tr>\n",
       "  </tbody>\n",
       "</table>\n",
       "</div>"
      ],
      "text/plain": [
       "                      mean     sd  hdi_3%  hdi_97%  mcse_mean  mcse_sd  \\\n",
       "hier_alphaAct_mu    -0.732  0.187  -1.083   -0.376      0.003    0.002   \n",
       "hier_alphaClr_mu    -0.116  0.170  -0.425    0.219      0.002    0.002   \n",
       "hier_weightAct_mu    0.294  0.116   0.086    0.524      0.002    0.001   \n",
       "hier_sensitivity_mu -3.446  0.105  -3.646   -3.247      0.002    0.002   \n",
       "hier_alphaAct_sd     1.065  0.181   0.756    1.411      0.003    0.002   \n",
       "\n",
       "                     ess_bulk  ess_tail  r_hat  \n",
       "hier_alphaAct_mu       3097.0    4630.0    1.0  \n",
       "hier_alphaClr_mu       4712.0    6223.0    1.0  \n",
       "hier_weightAct_mu      4607.0    6093.0    1.0  \n",
       "hier_sensitivity_mu    1848.0    2583.0    1.0  \n",
       "hier_alphaAct_sd       4774.0    6545.0    1.0  "
      ]
     },
     "execution_count": 15,
     "metadata": {},
     "output_type": "execute_result"
    }
   ],
   "source": [
    "az.summary(fit)[0:5]"
   ]
  },
  {
   "cell_type": "code",
   "execution_count": 8,
   "metadata": {},
   "outputs": [
    {
     "data": {
      "text/plain": [
       "{'lppd': -5142.838429062571,\n",
       " 'p_waic': 1647.0861848402465,\n",
       " 'waic': 13579.849227805635,\n",
       " 'waic_se': 0.8494036646336353}"
      ]
     },
     "execution_count": 8,
     "metadata": {},
     "output_type": "execute_result"
    }
   ],
   "source": [
    "log_lik = fit['log_lik']\n",
    "utils.waic(log_likelihood=log_lik)"
   ]
  },
  {
   "cell_type": "markdown",
   "metadata": {},
   "source": [
    "### Model 2"
   ]
  },
  {
   "cell_type": "code",
   "execution_count": 2,
   "metadata": {},
   "outputs": [],
   "source": [
    "# Directory of pickle file\n",
    "pickelDir = '/mnt/projects/7TPD/bids/derivatives/fMRI_DA/data_BehModel/originalfMRIbehFiles/Model_secondOrder/hier/groups/hierRL_HC_PD_Model2.pkl'\n",
    "\"\"\"Loading the pickle file of model fit from the subject directory\"\"\"\n",
    "loadPkl = utils.load_pickle(load_path=pickelDir)\n",
    "fit = loadPkl['fit']"
   ]
  },
  {
   "cell_type": "code",
   "execution_count": 3,
   "metadata": {},
   "outputs": [
    {
     "data": {
      "text/html": [
       "<div>\n",
       "<style scoped>\n",
       "    .dataframe tbody tr th:only-of-type {\n",
       "        vertical-align: middle;\n",
       "    }\n",
       "\n",
       "    .dataframe tbody tr th {\n",
       "        vertical-align: top;\n",
       "    }\n",
       "\n",
       "    .dataframe thead th {\n",
       "        text-align: right;\n",
       "    }\n",
       "</style>\n",
       "<table border=\"1\" class=\"dataframe\">\n",
       "  <thead>\n",
       "    <tr style=\"text-align: right;\">\n",
       "      <th></th>\n",
       "      <th>mean</th>\n",
       "      <th>sd</th>\n",
       "      <th>hdi_3%</th>\n",
       "      <th>hdi_97%</th>\n",
       "      <th>mcse_mean</th>\n",
       "      <th>mcse_sd</th>\n",
       "      <th>ess_bulk</th>\n",
       "      <th>ess_tail</th>\n",
       "      <th>r_hat</th>\n",
       "    </tr>\n",
       "  </thead>\n",
       "  <tbody>\n",
       "    <tr>\n",
       "      <th>hier_alphaAct_mu[0]</th>\n",
       "      <td>-0.714</td>\n",
       "      <td>0.240</td>\n",
       "      <td>-1.143</td>\n",
       "      <td>-0.243</td>\n",
       "      <td>0.005</td>\n",
       "      <td>0.003</td>\n",
       "      <td>2429.0</td>\n",
       "      <td>4071.0</td>\n",
       "      <td>1.0</td>\n",
       "    </tr>\n",
       "    <tr>\n",
       "      <th>hier_alphaAct_mu[1]</th>\n",
       "      <td>-0.738</td>\n",
       "      <td>0.294</td>\n",
       "      <td>-1.306</td>\n",
       "      <td>-0.191</td>\n",
       "      <td>0.006</td>\n",
       "      <td>0.004</td>\n",
       "      <td>2304.0</td>\n",
       "      <td>3742.0</td>\n",
       "      <td>1.0</td>\n",
       "    </tr>\n",
       "    <tr>\n",
       "      <th>hier_alphaClr_mu[0]</th>\n",
       "      <td>-0.199</td>\n",
       "      <td>0.211</td>\n",
       "      <td>-0.597</td>\n",
       "      <td>0.209</td>\n",
       "      <td>0.003</td>\n",
       "      <td>0.002</td>\n",
       "      <td>4134.0</td>\n",
       "      <td>5290.0</td>\n",
       "      <td>1.0</td>\n",
       "    </tr>\n",
       "    <tr>\n",
       "      <th>hier_alphaClr_mu[1]</th>\n",
       "      <td>-0.013</td>\n",
       "      <td>0.293</td>\n",
       "      <td>-0.558</td>\n",
       "      <td>0.538</td>\n",
       "      <td>0.006</td>\n",
       "      <td>0.004</td>\n",
       "      <td>2622.0</td>\n",
       "      <td>3654.0</td>\n",
       "      <td>1.0</td>\n",
       "    </tr>\n",
       "    <tr>\n",
       "      <th>hier_weightAct_mu[0]</th>\n",
       "      <td>0.319</td>\n",
       "      <td>0.178</td>\n",
       "      <td>-0.015</td>\n",
       "      <td>0.659</td>\n",
       "      <td>0.003</td>\n",
       "      <td>0.002</td>\n",
       "      <td>2857.0</td>\n",
       "      <td>4036.0</td>\n",
       "      <td>1.0</td>\n",
       "    </tr>\n",
       "  </tbody>\n",
       "</table>\n",
       "</div>"
      ],
      "text/plain": [
       "                       mean     sd  hdi_3%  hdi_97%  mcse_mean  mcse_sd  \\\n",
       "hier_alphaAct_mu[0]  -0.714  0.240  -1.143   -0.243      0.005    0.003   \n",
       "hier_alphaAct_mu[1]  -0.738  0.294  -1.306   -0.191      0.006    0.004   \n",
       "hier_alphaClr_mu[0]  -0.199  0.211  -0.597    0.209      0.003    0.002   \n",
       "hier_alphaClr_mu[1]  -0.013  0.293  -0.558    0.538      0.006    0.004   \n",
       "hier_weightAct_mu[0]  0.319  0.178  -0.015    0.659      0.003    0.002   \n",
       "\n",
       "                      ess_bulk  ess_tail  r_hat  \n",
       "hier_alphaAct_mu[0]     2429.0    4071.0    1.0  \n",
       "hier_alphaAct_mu[1]     2304.0    3742.0    1.0  \n",
       "hier_alphaClr_mu[0]     4134.0    5290.0    1.0  \n",
       "hier_alphaClr_mu[1]     2622.0    3654.0    1.0  \n",
       "hier_weightAct_mu[0]    2857.0    4036.0    1.0  "
      ]
     },
     "execution_count": 3,
     "metadata": {},
     "output_type": "execute_result"
    }
   ],
   "source": [
    "az.summary(fit)[0:5]"
   ]
  },
  {
   "cell_type": "code",
   "execution_count": 4,
   "metadata": {},
   "outputs": [
    {
     "data": {
      "text/plain": [
       "{'lppd': -4115.864341061391,\n",
       " 'p_waic': 1316.0885350581862,\n",
       " 'waic': 10863.905752239156,\n",
       " 'waic_se': 0.7722985227402657}"
      ]
     },
     "execution_count": 4,
     "metadata": {},
     "output_type": "execute_result"
    }
   ],
   "source": [
    "log_lik = fit['log_lik']\n",
    "utils.waic(log_likelihood=log_lik)"
   ]
  },
  {
   "cell_type": "code",
   "execution_count": null,
   "metadata": {},
   "outputs": [],
   "source": []
  },
  {
   "cell_type": "markdown",
   "metadata": {},
   "source": [
    "### Model 3"
   ]
  },
  {
   "cell_type": "code",
   "execution_count": 2,
   "metadata": {},
   "outputs": [],
   "source": [
    "# Directory of pickle file\n",
    "pickelDir = '/mnt/projects/7TPD/bids/derivatives/fMRI_DA/data_BehModel/originalfMRIbehFiles/Model_secondOrder/hier/groups/hierRL_HC_PD_Model3.pkl'\n",
    "\"\"\"Loading the pickle file of model fit from the subject directory\"\"\"\n",
    "loadPkl = utils.load_pickle(load_path=pickelDir)\n",
    "fit = loadPkl['fit']"
   ]
  },
  {
   "cell_type": "code",
   "execution_count": 3,
   "metadata": {},
   "outputs": [
    {
     "data": {
      "text/html": [
       "<div>\n",
       "<style scoped>\n",
       "    .dataframe tbody tr th:only-of-type {\n",
       "        vertical-align: middle;\n",
       "    }\n",
       "\n",
       "    .dataframe tbody tr th {\n",
       "        vertical-align: top;\n",
       "    }\n",
       "\n",
       "    .dataframe thead th {\n",
       "        text-align: right;\n",
       "    }\n",
       "</style>\n",
       "<table border=\"1\" class=\"dataframe\">\n",
       "  <thead>\n",
       "    <tr style=\"text-align: right;\">\n",
       "      <th></th>\n",
       "      <th>mean</th>\n",
       "      <th>sd</th>\n",
       "      <th>hdi_3%</th>\n",
       "      <th>hdi_97%</th>\n",
       "      <th>mcse_mean</th>\n",
       "      <th>mcse_sd</th>\n",
       "      <th>ess_bulk</th>\n",
       "      <th>ess_tail</th>\n",
       "      <th>r_hat</th>\n",
       "    </tr>\n",
       "  </thead>\n",
       "  <tbody>\n",
       "    <tr>\n",
       "      <th>hier_alphaAct_mu[0]</th>\n",
       "      <td>-0.679</td>\n",
       "      <td>0.209</td>\n",
       "      <td>-1.073</td>\n",
       "      <td>-0.285</td>\n",
       "      <td>0.006</td>\n",
       "      <td>0.004</td>\n",
       "      <td>1413.0</td>\n",
       "      <td>2317.0</td>\n",
       "      <td>1.0</td>\n",
       "    </tr>\n",
       "    <tr>\n",
       "      <th>hier_alphaAct_mu[1]</th>\n",
       "      <td>-0.667</td>\n",
       "      <td>0.268</td>\n",
       "      <td>-1.179</td>\n",
       "      <td>-0.168</td>\n",
       "      <td>0.007</td>\n",
       "      <td>0.005</td>\n",
       "      <td>1481.0</td>\n",
       "      <td>2702.0</td>\n",
       "      <td>1.0</td>\n",
       "    </tr>\n",
       "    <tr>\n",
       "      <th>hier_alphaClr_mu[0]</th>\n",
       "      <td>-0.420</td>\n",
       "      <td>0.162</td>\n",
       "      <td>-0.726</td>\n",
       "      <td>-0.113</td>\n",
       "      <td>0.004</td>\n",
       "      <td>0.003</td>\n",
       "      <td>2093.0</td>\n",
       "      <td>3494.0</td>\n",
       "      <td>1.0</td>\n",
       "    </tr>\n",
       "    <tr>\n",
       "      <th>hier_alphaClr_mu[1]</th>\n",
       "      <td>-0.180</td>\n",
       "      <td>0.202</td>\n",
       "      <td>-0.552</td>\n",
       "      <td>0.205</td>\n",
       "      <td>0.005</td>\n",
       "      <td>0.003</td>\n",
       "      <td>1761.0</td>\n",
       "      <td>3601.0</td>\n",
       "      <td>1.0</td>\n",
       "    </tr>\n",
       "    <tr>\n",
       "      <th>hier_weightAct_mu[0, 0]</th>\n",
       "      <td>2.867</td>\n",
       "      <td>0.527</td>\n",
       "      <td>1.908</td>\n",
       "      <td>3.867</td>\n",
       "      <td>0.007</td>\n",
       "      <td>0.005</td>\n",
       "      <td>5647.0</td>\n",
       "      <td>5245.0</td>\n",
       "      <td>1.0</td>\n",
       "    </tr>\n",
       "  </tbody>\n",
       "</table>\n",
       "</div>"
      ],
      "text/plain": [
       "                          mean     sd  hdi_3%  hdi_97%  mcse_mean  mcse_sd  \\\n",
       "hier_alphaAct_mu[0]     -0.679  0.209  -1.073   -0.285      0.006    0.004   \n",
       "hier_alphaAct_mu[1]     -0.667  0.268  -1.179   -0.168      0.007    0.005   \n",
       "hier_alphaClr_mu[0]     -0.420  0.162  -0.726   -0.113      0.004    0.003   \n",
       "hier_alphaClr_mu[1]     -0.180  0.202  -0.552    0.205      0.005    0.003   \n",
       "hier_weightAct_mu[0, 0]  2.867  0.527   1.908    3.867      0.007    0.005   \n",
       "\n",
       "                         ess_bulk  ess_tail  r_hat  \n",
       "hier_alphaAct_mu[0]        1413.0    2317.0    1.0  \n",
       "hier_alphaAct_mu[1]        1481.0    2702.0    1.0  \n",
       "hier_alphaClr_mu[0]        2093.0    3494.0    1.0  \n",
       "hier_alphaClr_mu[1]        1761.0    3601.0    1.0  \n",
       "hier_weightAct_mu[0, 0]    5647.0    5245.0    1.0  "
      ]
     },
     "execution_count": 3,
     "metadata": {},
     "output_type": "execute_result"
    }
   ],
   "source": [
    "az.summary(fit)[0:5]"
   ]
  },
  {
   "cell_type": "code",
   "execution_count": 3,
   "metadata": {},
   "outputs": [
    {
     "data": {
      "text/plain": [
       "{'lppd': -3743.8046849664597,\n",
       " 'p_waic': 1637.5145480620265,\n",
       " 'waic': 10762.638466056973,\n",
       " 'waic_se': 0.9076300964538071}"
      ]
     },
     "execution_count": 3,
     "metadata": {},
     "output_type": "execute_result"
    }
   ],
   "source": [
    "log_lik = fit['log_lik']\n",
    "utils.waic(log_likelihood=log_lik)"
   ]
  },
  {
   "cell_type": "code",
   "execution_count": 4,
   "metadata": {},
   "outputs": [
    {
     "data": {
      "text/plain": [
       "(46, 2, 2, 8000)"
      ]
     },
     "execution_count": 4,
     "metadata": {},
     "output_type": "execute_result"
    }
   ],
   "source": [
    "fit['transfer_weightAct'].shape"
   ]
  },
  {
   "cell_type": "code",
   "execution_count": 33,
   "metadata": {},
   "outputs": [
    {
     "data": {
      "text/plain": [
       "(0.0, 1.0)"
      ]
     },
     "execution_count": 33,
     "metadata": {},
     "output_type": "execute_result"
    },
    {
     "data": {
      "image/png": "[encoded data removed]",
      "text/plain": [
       "<Figure size 640x480 with 1 Axes>"
      ]
     },
     "metadata": {},
     "output_type": "display_data"
    }
   ],
   "source": [
    "# Weghtening\n",
    "sns.histplot(fit['transfer_weightAct'][10, 1, 1, :], kde=True, stat='density', bins=100)\n",
    "plt.legend(['Clr-HC', 'Clr-PD'])\n",
    "plt.title('Weightening', fontsize=12)\n",
    "plt.ylabel('Density', fontsize=12)\n",
    "plt.xlabel('$w_{(A)}$', fontsize=14)\n",
    "plt.xlim(0, 1)"
   ]
  },
  {
   "cell_type": "markdown",
   "metadata": {},
   "source": [
    "### Model 4"
   ]
  },
  {
   "cell_type": "code",
   "execution_count": 2,
   "metadata": {},
   "outputs": [],
   "source": [
    "# Directory of pickle file\n",
    "pickelDir = '/mnt/projects/7TPD/bids/derivatives/fMRI_DA/data_BehModel/originalfMRIbehFiles/Model_secondOrder/hier/groups/hierRL_HC_PD_Model4.pkl'\n",
    "\"\"\"Loading the pickle file of model fit from the subject directory\"\"\"\n",
    "loadPkl = utils.load_pickle(load_path=pickelDir)\n",
    "fit = loadPkl['fit']"
   ]
  },
  {
   "cell_type": "code",
   "execution_count": 39,
   "metadata": {},
   "outputs": [
    {
     "data": {
      "text/plain": [
       "{'lppd': -3713.280860523602,\n",
       " 'p_waic': 1641.4050146273614,\n",
       " 'waic': 10709.371750301927,\n",
       " 'waic_se': 0.8902399236434352}"
      ]
     },
     "execution_count": 39,
     "metadata": {},
     "output_type": "execute_result"
    }
   ],
   "source": [
    "log_lik = fit['log_lik']\n",
    "utils.waic(log_likelihood=log_lik)"
   ]
  },
  {
   "cell_type": "code",
   "execution_count": null,
   "metadata": {},
   "outputs": [],
   "source": [
    "# Extracting posterior distributions for each of four main unkhown parameters\n",
    "alphaAct_ = fit[\"transfer_hier_alphaAct_mu\"] \n",
    "alphaClr_ = fit[\"transfer_hier_alphaClr_mu\"] \n",
    "weightAct_ = fit[\"transfer_hier_weightAct_mu\"] \n",
    "beta_ = fit[\"transfer_hier_sensitivity_mu\"]  \n",
    "# Figure of model fit results in two column and two rows\n",
    "fig = plt.figure(figsize=(10, 6), tight_layout=True)\n",
    "rows = 2\n",
    "columns = 2\n",
    "\n",
    "# Weghtening\n",
    "fig.add_subplot(rows, columns, 1)\n",
    "sns.histplot(weightAct_[0, 0], kde=True, stat='density', bins=100)\n",
    "sns.histplot(weightAct_[1, 0], kde=True, stat='density', bins=100)\n",
    "plt.legend(['Act-HC', 'Act-PD'])\n",
    "plt.title('Weightening', fontsize=12)\n",
    "plt.ylabel('Density', fontsize=12)\n",
    "plt.xlabel('$w_{(A)}$', fontsize=14)\n",
    "plt.xlim(.9, 1)\n"
   ]
  },
  {
   "cell_type": "code",
   "execution_count": 53,
   "metadata": {},
   "outputs": [
    {
     "data": {
      "text/plain": [
       "(2, 8000)"
      ]
     },
     "execution_count": 53,
     "metadata": {},
     "output_type": "execute_result"
    }
   ],
   "source": [
    "beta_[0].shape"
   ]
  },
  {
   "cell_type": "code",
   "execution_count": null,
   "metadata": {},
   "outputs": [],
   "source": []
  }
 ],
 "metadata": {
  "kernelspec": {
   "display_name": "Python 3 (ipykernel)",
   "language": "python",
   "name": "python3"
  },
  "language_info": {
   "codemirror_mode": {
    "name": "ipython",
    "version": 3
   },
   "file_extension": ".py",
   "mimetype": "text/x-python",
   "name": "python",
   "nbconvert_exporter": "python",
   "pygments_lexer": "ipython3",
   "version": "3.9.18"
  }
 },
 "nbformat": 4,
 "nbformat_minor": 5
}
