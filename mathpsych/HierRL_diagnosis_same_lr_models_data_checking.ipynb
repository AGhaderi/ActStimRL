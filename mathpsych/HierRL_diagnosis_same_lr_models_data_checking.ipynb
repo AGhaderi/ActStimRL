{
 "cells": [
  {
   "cell_type": "code",
   "execution_count": 1,
   "id": "e601d147",
   "metadata": {
    "scrolled": true
   },
   "outputs": [],
   "source": [
    "import numpy as np\n",
    "import pandas as pd\n",
    "import stan\n",
    "import matplotlib.pyplot as plt\n",
    "import seaborn as sns\n",
    "import sys\n",
    "sys.path.append('/mrhome/amingk/Documents/7TPD/ActStimRL')\n",
    "from Madule import utils\n",
    "import arviz as az\n",
    "from scipy import stats "
   ]
  },
  {
   "cell_type": "markdown",
   "id": "c13386cf",
   "metadata": {},
   "source": [
    "\n",
    "### Action Learning Value"
   ]
  },
  {
   "cell_type": "code",
   "execution_count": 1,
   "id": "986914ae",
   "metadata": {},
   "outputs": [
    {
     "ename": "NameError",
     "evalue": "name 'pd' is not defined",
     "output_type": "error",
     "traceback": [
      "\u001b[0;31m---------------------------------------------------------------------------\u001b[0m",
      "\u001b[0;31mNameError\u001b[0m                                 Traceback (most recent call last)",
      "Cell \u001b[0;32mIn[1], line 4\u001b[0m\n\u001b[1;32m      2\u001b[0m cond_act_stim \u001b[38;5;241m=\u001b[39m \u001b[38;5;124m'\u001b[39m\u001b[38;5;124mAct\u001b[39m\u001b[38;5;124m'\u001b[39m\n\u001b[1;32m      3\u001b[0m \u001b[38;5;66;03m# read collected data across data\u001b[39;00m\n\u001b[0;32m----> 4\u001b[0m behAll \u001b[38;5;241m=\u001b[39m \u001b[43mpd\u001b[49m\u001b[38;5;241m.\u001b[39mread_csv(\u001b[38;5;124m'\u001b[39m\u001b[38;5;124m/mnt/projects/7TPD/bids/derivatives/fMRI_DA/data_BehModel/originalfMRIbehFiles/AllBehData/behAll.csv\u001b[39m\u001b[38;5;124m'\u001b[39m)\n\u001b[1;32m      5\u001b[0m \u001b[38;5;66;03m# select Action value learning and parkinsons disease\u001b[39;00m\n\u001b[1;32m      6\u001b[0m behAll \u001b[38;5;241m=\u001b[39m behAll[(behAll[\u001b[38;5;124m'\u001b[39m\u001b[38;5;124mblock\u001b[39m\u001b[38;5;124m'\u001b[39m]\u001b[38;5;241m==\u001b[39mcond_act_stim)\u001b[38;5;241m&\u001b[39m(behAll[\u001b[38;5;124m'\u001b[39m\u001b[38;5;124mpatient\u001b[39m\u001b[38;5;124m'\u001b[39m]\u001b[38;5;241m==\u001b[39m\u001b[38;5;124m'\u001b[39m\u001b[38;5;124mPD\u001b[39m\u001b[38;5;124m'\u001b[39m)]\n",
      "\u001b[0;31mNameError\u001b[0m: name 'pd' is not defined"
     ]
    }
   ],
   "source": [
    "# select Act or Stim to model fit seperately\n",
    "cond_act_stim = 'Act'\n",
    "# read collected data across data\n",
    "behAll = pd.read_csv('/mnt/projects/7TPD/bids/derivatives/fMRI_DA/data_BehModel/originalfMRIbehFiles/AllBehData/behAll.csv')\n",
    "# select Action value learning and parkinsons disease\n",
    "behAll = behAll[(behAll['block']==cond_act_stim)&(behAll['patient']=='PD')]\n",
    "# the list of participant\n",
    "subList_PD = np.unique(behAll['sub_ID'])\n",
    "# number of models\n",
    "n_models =  8\n",
    "# declare waice variable\n",
    "log_waic_models = np.zeros(n_models)\n",
    "log_lppd_models = np.zeros(n_models)\n",
    "# loop over list of participants\n",
    "m = 5\n",
    "# main directory of saving\n",
    "mainScarch = '/mnt/scratch/projects/7TPD/amin'\n",
    "# pickle fine in the scratch folder\n",
    "pickelDir = f'{mainScarch}/realdata/hier/PD-HC/diagnosis/HierRL_diagnosis_same_lr_model{m+1}_data_{cond_act_stim}.pkl'\n",
    "\"\"\"Loading the pickle file of model fit from the subject directory\"\"\"\n",
    "loadPkl = utils.load_pickle(load_path=pickelDir)\n",
    "fit = loadPkl['fit'] \n",
    "# get the linkelihood and comarision assessment       \n",
    "log_lik = fit['log_lik']\n",
    "print(log_lik.shape)\n",
    "log_assessement = utils.waic(log_likelihood=log_lik)\n",
    "log_waic_models = log_assessement['waic']\n",
    "log_lppd_models = log_assessement['lppd']\n",
    "print('waic: ', np.round(log_waic_models, 1), 'lppd: ', np.round(-log_lppd_models, 1))"
   ]
  },
  {
   "cell_type": "code",
   "execution_count": 3,
   "id": "98836ee1",
   "metadata": {},
   "outputs": [
    {
     "data": {
      "text/plain": [
       "{'lppd': -24200.376780719085,\n",
       " 'p_waic': 9810.032354486755,\n",
       " 'waic': 68020.81827041168,\n",
       " 'waic_se': 3.3081728912080144}"
      ]
     },
     "execution_count": 3,
     "metadata": {},
     "output_type": "execute_result"
    }
   ],
   "source": [
    "log_assessement"
   ]
  },
  {
   "cell_type": "code",
   "execution_count": null,
   "id": "e0920aa8",
   "metadata": {},
   "outputs": [],
   "source": [
    "# waic meaure\n",
    "print('waic: ', np.round(log_waic_models, 1), 'lppd: ', np.round(-log_lppd_models, 1))"
   ]
  },
  {
   "cell_type": "code",
   "execution_count": null,
   "id": "8d63f970",
   "metadata": {},
   "outputs": [],
   "source": [
    "68011.9 lppd:  24201.9"
   ]
  },
  {
   "cell_type": "code",
   "execution_count": 2,
   "id": "e5584d97",
   "metadata": {},
   "outputs": [
    {
     "name": "stdout",
     "output_type": "stream",
     "text": [
      "Model 0\n",
      "model:  1 , waic:  68014.0 , lppd:  24200.9\n",
      "Model 1\n"
     ]
    },
    {
     "ename": "",
     "evalue": "",
     "output_type": "error",
     "traceback": [
      "\u001b[1;31mThe Kernel crashed while executing code in the current cell or a previous cell. \n",
      "\u001b[1;31mPlease review the code in the cell(s) to identify a possible cause of the failure. \n",
      "\u001b[1;31mClick <a href='https://aka.ms/vscodeJupyterKernelCrash'>here</a> for more info. \n",
      "\u001b[1;31mView Jupyter <a href='command:jupyter.viewOutput'>log</a> for further details."
     ]
    }
   ],
   "source": [
    "# select Act or Stim to model fit seperately\n",
    "cond_act_stim = 'Stim'\n",
    "# read collected data across data\n",
    "behAll = pd.read_csv('/mnt/projects/7TPD/bids/derivatives/fMRI_DA/data_BehModel/originalfMRIbehFiles/AllBehData/behAll.csv')\n",
    "# select Action value learning and parkinsons disease\n",
    "behAll = behAll[(behAll['block']==cond_act_stim)&(behAll['patient']=='PD')]\n",
    "# the list of participant\n",
    "subList_PD = np.unique(behAll['sub_ID'])\n",
    "# number of models\n",
    "n_models =  8\n",
    "# loop over list of participants\n",
    "for m in range(n_models):\n",
    "    print(f'Model {m}')\n",
    "    # main directory of saving\n",
    "    mainScarch = '/mnt/scratch/projects/7TPD/amin'\n",
    "    # pickle fine in the scratch folder\n",
    "    pickelDir = f'{mainScarch}/realdata/hier/PD-HC/diagnosis/HierRL_diagnosis_same_lr_model{m+1}_data_{cond_act_stim}.pkl'\n",
    "    \"\"\"Loading the pickle file of model fit from the subject directory\"\"\"\n",
    "    loadPkl = utils.load_pickle(load_path=pickelDir)\n",
    "    fit = loadPkl['fit'] \n",
    "    # get the linkelihood and comarision assessment       \n",
    "    log_lik = fit['log_lik']\n",
    "    log_assessement = utils.waic(log_likelihood=log_lik)\n",
    "    print('model: ', str(m+1) , ', waic: ', np.round(log_assessement['waic'], 1), ', lppd: ', np.round(-log_assessement['lppd'], 1))"
   ]
  },
  {
   "cell_type": "code",
   "execution_count": 35,
   "id": "18991b67",
   "metadata": {},
   "outputs": [
    {
     "data": {
      "text/plain": [
       "('141640.3', '52275.6')"
      ]
     },
     "execution_count": 35,
     "metadata": {},
     "output_type": "execute_result"
    }
   ],
   "source": [
    "# waic meaure\n",
    "str(np.round(log_waic_models, 1)), str(np.round(-log_lppd_models, 1))"
   ]
  },
  {
   "cell_type": "code",
   "execution_count": null,
   "id": "b04650cd",
   "metadata": {},
   "outputs": [],
   "source": []
  },
  {
   "cell_type": "code",
   "execution_count": 4,
   "id": "7262e1ff",
   "metadata": {},
   "outputs": [
    {
     "ename": "",
     "evalue": "",
     "output_type": "error",
     "traceback": [
      "\u001b[1;31mThe Kernel crashed while executing code in the current cell or a previous cell. \n",
      "\u001b[1;31mPlease review the code in the cell(s) to identify a possible cause of the failure. \n",
      "\u001b[1;31mClick <a href='https://aka.ms/vscodeJupyterKernelCrash'>here</a> for more info. \n",
      "\u001b[1;31mView Jupyter <a href='command:jupyter.viewOutput'>log</a> for further details."
     ]
    }
   ],
   "source": [
    "# select Act or Stim to model fit seperately\n",
    "cond_act_stim = 'Stim'\n",
    "# read collected data across data\n",
    "behAll = pd.read_csv('/mnt/projects/7TPD/bids/derivatives/fMRI_DA/data_BehModel/originalfMRIbehFiles/AllBehData/behAll.csv')\n",
    "# select Action value learning and parkinsons disease\n",
    "behAll = behAll[(behAll['block']==cond_act_stim)&(behAll['patient']=='PD')]\n",
    "# loop over list of participants\n",
    "mainScarch = '/mnt/scratch/projects/7TPD/amin'\n",
    "# The adrees name of pickle file\n",
    "pickelDir = f'{mainScarch}/realdata/hier/PD/diagnosis/HierRL_diagnosis_same_lr_model1_data_{cond_act_stim}.pkl'\n",
    "\"\"\"Loading the pickle file of model fit from the subject directory\"\"\"\n",
    "loadPkl = utils.load_pickle(load_path=pickelDir)\n",
    "fit = loadPkl['fit'] \n",
    "# get the linkelihood and comarision assessment       \n",
    "log_lik = fit['log_lik']\n",
    "print(log_lik.shape)\n",
    "log_assessement = utils.waic(log_likelihood=log_lik)\n",
    "log_waic_models = log_assessement['waic']\n",
    "log_lppd_models = log_assessement['lppd']"
   ]
  },
  {
   "cell_type": "code",
   "execution_count": null,
   "id": "c4be04dc",
   "metadata": {},
   "outputs": [
    {
     "data": {
      "text/plain": [
       "('66397.9', '22858.5')"
      ]
     },
     "execution_count": 3,
     "metadata": {},
     "output_type": "execute_result"
    }
   ],
   "source": [
    "# waic meaure\n",
    "str(np.round(log_waic_models, 1)), str(np.round(-log_lppd_models, 1))"
   ]
  },
  {
   "cell_type": "code",
   "execution_count": 27,
   "id": "1a19cd9a",
   "metadata": {},
   "outputs": [
    {
     "data": {
      "text/plain": [
       "<matplotlib.collections.LineCollection at 0x7fecefabe130>"
      ]
     },
     "execution_count": 27,
     "metadata": {},
     "output_type": "execute_result"
    },
    {
     "data": {
      "image/png": "[encoded data removed]",
      "text/plain": [
       "<Figure size 640x480 with 1 Axes>"
      ]
     },
     "metadata": {},
     "output_type": "display_data"
    }
   ],
   "source": [
    "import plots\n",
    "\n",
    "plots.plot_posterior(x=fit['transfer_hier_alpha_mu'].flatten(), xlabel='Boundary', ylabel='Density')\n",
    "plt.vlines(0, 0, 1,linestyles='dotted')\n"
   ]
  },
  {
   "cell_type": "code",
   "execution_count": null,
   "id": "72451a4e",
   "metadata": {},
   "outputs": [],
   "source": []
  }
 ],
 "metadata": {
  "kernelspec": {
   "display_name": "Python 3 (ipykernel)",
   "language": "python",
   "name": "python3"
  },
  "language_info": {
   "codemirror_mode": {
    "name": "ipython",
    "version": 3
   },
   "file_extension": ".py",
   "mimetype": "text/x-python",
   "name": "python",
   "nbconvert_exporter": "python",
   "pygments_lexer": "ipython3",
   "version": "3.9.18"
  }
 },
 "nbformat": 4,
 "nbformat_minor": 5
}
