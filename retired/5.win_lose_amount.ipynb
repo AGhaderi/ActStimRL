{
 "cells": [
  {
   "cell_type": "code",
   "execution_count": 109,
   "id": "d13904f8",
   "metadata": {},
   "outputs": [],
   "source": [
    "import numpy as np\n",
    "import matplotlib.pyplot as plt\n",
    "import pandas as pd\n",
    "from scipy.io import loadmat\n",
    "import os\n",
    "import seaborn as sns\n",
    "import sys\n",
    "sys.path.append('..')\n",
    "from madule import plots\n",
    "from scipy import stats\n",
    "from statsmodels.stats.anova import AnovaRM"
   ]
  },
  {
   "cell_type": "code",
   "execution_count": 110,
   "id": "63ee00bb",
   "metadata": {},
   "outputs": [],
   "source": [
    "# read collected data across data\n",
    "behAll = pd.read_csv('/mnt/projects/7TPD/bids/derivatives/fMRI_DA/data_BehModel/originalfMRIbehFiles/AllBehData/behAll.csv')"
   ]
  },
  {
   "cell_type": "markdown",
   "id": "2a60cf36",
   "metadata": {},
   "source": [
    "### Proportion across tials, win plus amount\n",
    "\n",
    "- Win stay and large amount\n",
    "- win stay and lower amount\n",
    "- loss shift and larger amount\n",
    "- loss shift and lower amount"
   ]
  },
  {
   "cell_type": "code",
   "execution_count": 130,
   "id": "bb65a13e",
   "metadata": {},
   "outputs": [],
   "source": [
    "# Find chosen win amount for each trial\n",
    "chosenAmount = behAll['leftChosen']*behAll['winAmtLeft'] + (1-behAll['leftChosen'])*behAll['winAmtRight'] \n",
    "behAll['chosenWinAmt'] = chosenAmount"
   ]
  },
  {
   "cell_type": "code",
   "execution_count": 212,
   "id": "3f6192ed",
   "metadata": {},
   "outputs": [
    {
     "name": "stderr",
     "output_type": "stream",
     "text": [
      "/tmp/ipykernel_3994635/3409424162.py:52: RuntimeWarning: Mean of empty slice.\n",
      "  'win_stay': win_stay.mean(),  'loss_stay':loss_stay.mean()}\n",
      "/mrhome/amingk/anaconda3/lib/python3.10/site-packages/numpy/core/_methods.py:190: RuntimeWarning: invalid value encountered in double_scalars\n",
      "  ret = ret.dtype.type(ret / rcount)\n",
      "/tmp/ipykernel_3994635/3409424162.py:52: RuntimeWarning: Mean of empty slice.\n",
      "  'win_stay': win_stay.mean(),  'loss_stay':loss_stay.mean()}\n",
      "/mrhome/amingk/anaconda3/lib/python3.10/site-packages/numpy/core/_methods.py:190: RuntimeWarning: invalid value encountered in double_scalars\n",
      "  ret = ret.dtype.type(ret / rcount)\n",
      "/tmp/ipykernel_3994635/3409424162.py:52: RuntimeWarning: Mean of empty slice.\n",
      "  'win_stay': win_stay.mean(),  'loss_stay':loss_stay.mean()}\n",
      "/mrhome/amingk/anaconda3/lib/python3.10/site-packages/numpy/core/_methods.py:190: RuntimeWarning: invalid value encountered in double_scalars\n",
      "  ret = ret.dtype.type(ret / rcount)\n",
      "/tmp/ipykernel_3994635/3409424162.py:52: RuntimeWarning: Mean of empty slice.\n",
      "  'win_stay': win_stay.mean(),  'loss_stay':loss_stay.mean()}\n",
      "/mrhome/amingk/anaconda3/lib/python3.10/site-packages/numpy/core/_methods.py:190: RuntimeWarning: invalid value encountered in double_scalars\n",
      "  ret = ret.dtype.type(ret / rcount)\n",
      "/tmp/ipykernel_3994635/3409424162.py:52: RuntimeWarning: Mean of empty slice.\n",
      "  'win_stay': win_stay.mean(),  'loss_stay':loss_stay.mean()}\n",
      "/mrhome/amingk/anaconda3/lib/python3.10/site-packages/numpy/core/_methods.py:190: RuntimeWarning: invalid value encountered in double_scalars\n",
      "  ret = ret.dtype.type(ret / rcount)\n",
      "/tmp/ipykernel_3994635/3409424162.py:52: RuntimeWarning: Mean of empty slice.\n",
      "  'win_stay': win_stay.mean(),  'loss_stay':loss_stay.mean()}\n",
      "/mrhome/amingk/anaconda3/lib/python3.10/site-packages/numpy/core/_methods.py:190: RuntimeWarning: invalid value encountered in double_scalars\n",
      "  ret = ret.dtype.type(ret / rcount)\n",
      "/tmp/ipykernel_3994635/3409424162.py:52: RuntimeWarning: Mean of empty slice.\n",
      "  'win_stay': win_stay.mean(),  'loss_stay':loss_stay.mean()}\n",
      "/mrhome/amingk/anaconda3/lib/python3.10/site-packages/numpy/core/_methods.py:190: RuntimeWarning: invalid value encountered in double_scalars\n",
      "  ret = ret.dtype.type(ret / rcount)\n",
      "/tmp/ipykernel_3994635/3409424162.py:52: RuntimeWarning: Mean of empty slice.\n",
      "  'win_stay': win_stay.mean(),  'loss_stay':loss_stay.mean()}\n",
      "/mrhome/amingk/anaconda3/lib/python3.10/site-packages/numpy/core/_methods.py:190: RuntimeWarning: invalid value encountered in double_scalars\n",
      "  ret = ret.dtype.type(ret / rcount)\n",
      "/tmp/ipykernel_3994635/3409424162.py:52: RuntimeWarning: Mean of empty slice.\n",
      "  'win_stay': win_stay.mean(),  'loss_stay':loss_stay.mean()}\n",
      "/mrhome/amingk/anaconda3/lib/python3.10/site-packages/numpy/core/_methods.py:190: RuntimeWarning: invalid value encountered in double_scalars\n",
      "  ret = ret.dtype.type(ret / rcount)\n",
      "/tmp/ipykernel_3994635/3409424162.py:52: RuntimeWarning: Mean of empty slice.\n",
      "  'win_stay': win_stay.mean(),  'loss_stay':loss_stay.mean()}\n",
      "/mrhome/amingk/anaconda3/lib/python3.10/site-packages/numpy/core/_methods.py:190: RuntimeWarning: invalid value encountered in double_scalars\n",
      "  ret = ret.dtype.type(ret / rcount)\n",
      "/tmp/ipykernel_3994635/3409424162.py:52: RuntimeWarning: Mean of empty slice.\n",
      "  'win_stay': win_stay.mean(),  'loss_stay':loss_stay.mean()}\n",
      "/mrhome/amingk/anaconda3/lib/python3.10/site-packages/numpy/core/_methods.py:190: RuntimeWarning: invalid value encountered in double_scalars\n",
      "  ret = ret.dtype.type(ret / rcount)\n",
      "/tmp/ipykernel_3994635/3409424162.py:52: RuntimeWarning: Mean of empty slice.\n",
      "  'win_stay': win_stay.mean(),  'loss_stay':loss_stay.mean()}\n",
      "/mrhome/amingk/anaconda3/lib/python3.10/site-packages/numpy/core/_methods.py:190: RuntimeWarning: invalid value encountered in double_scalars\n",
      "  ret = ret.dtype.type(ret / rcount)\n",
      "/tmp/ipykernel_3994635/3409424162.py:52: RuntimeWarning: Mean of empty slice.\n",
      "  'win_stay': win_stay.mean(),  'loss_stay':loss_stay.mean()}\n",
      "/mrhome/amingk/anaconda3/lib/python3.10/site-packages/numpy/core/_methods.py:190: RuntimeWarning: invalid value encountered in double_scalars\n",
      "  ret = ret.dtype.type(ret / rcount)\n"
     ]
    }
   ],
   "source": [
    "# Create empty dataframe to save proportion win stay and lose shift for each record\n",
    "df_win_loss = pd.DataFrame()\n",
    "\n",
    "# List of subjects\n",
    "subList = np.unique(behAll.sub_ID)\n",
    "for sub in subList:\n",
    "    for session in range(2):\n",
    "        for run in range(2):\n",
    "            for block in ['Act', 'Stim']:\n",
    "                \n",
    "                # Take color or action value learning, one  \n",
    "                behAllCond = behAll.loc[(behAll['session']==session+1)&(behAll['run']==run+1)&(behAll['block']==block)&(behAll['sub_ID']==sub)]\n",
    "                # get reverse\n",
    "                reverse = np.unique(behAllCond.reverse)[0]\n",
    "                # get group label\n",
    "                group = np.unique(behAllCond.group)[0]\n",
    "                \n",
    "                # number of winning reward for action value learning\n",
    "                n_win = np.sum((behAllCond['correctChoice']==1)& (behAllCond['chosenWinAmt']<50))\n",
    "                win_stay = np.zeros(n_win)\n",
    "                if block=='Act':\n",
    "                    j = 0\n",
    "                    for i in range(len(behAllCond)-1):\n",
    "                        if behAllCond['correctChoice'].to_numpy()[i]==1 and behAllCond['chosenWinAmt'].to_numpy()[i]<50:\n",
    "                            win_stay[j] = behAllCond['pushed'].to_numpy()[i]==behAllCond['pushed'].to_numpy()[i+1]\n",
    "                            j+=1\n",
    "                else:\n",
    "                    j = 0\n",
    "                    for i in range(len(behAllCond)-1):\n",
    "                        if behAllCond['correctChoice'].to_numpy()[i]==1 and behAllCond['chosenWinAmt'].to_numpy()[i]<50:\n",
    "                            win_stay[j] = behAllCond['yellowChosen'].to_numpy()[i]==behAllCond['yellowChosen'].to_numpy()[i+1]\n",
    "                            j+=1\n",
    "\n",
    "                # number of punishment for action value learning\n",
    "                n_loss = np.sum((behAllCond['correctChoice']==0) & (behAllCond['chosenWinAmt']<50))\n",
    "                loss_stay = np.zeros(n_loss)\n",
    "                if block=='Act':\n",
    "                    j = 0\n",
    "                    for i in range(len(behAllCond)-1):\n",
    "                        if behAllCond['correctChoice'].to_numpy()[i]==0 and behAllCond['chosenWinAmt'].to_numpy()[i]<50:\n",
    "                            loss_stay[j] = behAllCond['pushed'].to_numpy()[i]==behAllCond['pushed'].to_numpy()[i+1]\n",
    "                            j+=1\n",
    "                else:\n",
    "                    j = 0\n",
    "                    for i in range(len(behAllCond)-1):\n",
    "                        if behAllCond['correctChoice'].to_numpy()[i]==0 and behAllCond['chosenWinAmt'].to_numpy()[i]<50:\n",
    "                            loss_stay[j] = behAllCond['yellowChosen'].to_numpy()[i]==behAllCond['yellowChosen'].to_numpy()[i+1]\n",
    "                            j+=1\n",
    "                \n",
    "                # dictionary for each record\n",
    "                dic = {'session':session+1, 'run':run+1, 'block':block, 'sub_ID':sub, 'reverse':reverse, 'group':group, \n",
    "                      'win_stay': win_stay.mean(),  'loss_stay':loss_stay.mean()}\n",
    "                # Put the dictionary into dataframe\n",
    "                df_win_loss = pd.concat([pd.DataFrame([dic]), df_win_loss])\n",
    "                \n",
    "            \n",
    "                "
   ]
  },
  {
   "cell_type": "code",
   "execution_count": 208,
   "id": "92a581d1",
   "metadata": {},
   "outputs": [
    {
     "data": {
      "text/html": [
       "<div>\n",
       "<style scoped>\n",
       "    .dataframe tbody tr th:only-of-type {\n",
       "        vertical-align: middle;\n",
       "    }\n",
       "\n",
       "    .dataframe tbody tr th {\n",
       "        vertical-align: top;\n",
       "    }\n",
       "\n",
       "    .dataframe thead th {\n",
       "        text-align: right;\n",
       "    }\n",
       "</style>\n",
       "<table border=\"1\" class=\"dataframe\">\n",
       "  <thead>\n",
       "    <tr style=\"text-align: right;\">\n",
       "      <th></th>\n",
       "      <th>group</th>\n",
       "      <th>win_stay</th>\n",
       "    </tr>\n",
       "  </thead>\n",
       "  <tbody>\n",
       "    <tr>\n",
       "      <th>0</th>\n",
       "      <td>1</td>\n",
       "      <td>0.705175</td>\n",
       "    </tr>\n",
       "    <tr>\n",
       "      <th>1</th>\n",
       "      <td>2</td>\n",
       "      <td>0.752803</td>\n",
       "    </tr>\n",
       "    <tr>\n",
       "      <th>2</th>\n",
       "      <td>3</td>\n",
       "      <td>0.715222</td>\n",
       "    </tr>\n",
       "  </tbody>\n",
       "</table>\n",
       "</div>"
      ],
      "text/plain": [
       "   group  win_stay\n",
       "0      1  0.705175\n",
       "1      2  0.752803\n",
       "2      3  0.715222"
      ]
     },
     "execution_count": 208,
     "metadata": {},
     "output_type": "execute_result"
    }
   ],
   "source": [
    "df_win_loss.groupby(['group'], as_index=False)['win_stay'].mean()"
   ]
  },
  {
   "cell_type": "code",
   "execution_count": 210,
   "id": "b7a2b3fb",
   "metadata": {},
   "outputs": [
    {
     "data": {
      "text/html": [
       "<div>\n",
       "<style scoped>\n",
       "    .dataframe tbody tr th:only-of-type {\n",
       "        vertical-align: middle;\n",
       "    }\n",
       "\n",
       "    .dataframe tbody tr th {\n",
       "        vertical-align: top;\n",
       "    }\n",
       "\n",
       "    .dataframe thead th {\n",
       "        text-align: right;\n",
       "    }\n",
       "</style>\n",
       "<table border=\"1\" class=\"dataframe\">\n",
       "  <thead>\n",
       "    <tr style=\"text-align: right;\">\n",
       "      <th></th>\n",
       "      <th>group</th>\n",
       "      <th>loss_stay</th>\n",
       "    </tr>\n",
       "  </thead>\n",
       "  <tbody>\n",
       "    <tr>\n",
       "      <th>0</th>\n",
       "      <td>1</td>\n",
       "      <td>0.530720</td>\n",
       "    </tr>\n",
       "    <tr>\n",
       "      <th>1</th>\n",
       "      <td>2</td>\n",
       "      <td>0.536093</td>\n",
       "    </tr>\n",
       "    <tr>\n",
       "      <th>2</th>\n",
       "      <td>3</td>\n",
       "      <td>0.482898</td>\n",
       "    </tr>\n",
       "  </tbody>\n",
       "</table>\n",
       "</div>"
      ],
      "text/plain": [
       "   group  loss_stay\n",
       "0      1   0.530720\n",
       "1      2   0.536093\n",
       "2      3   0.482898"
      ]
     },
     "execution_count": 210,
     "metadata": {},
     "output_type": "execute_result"
    }
   ],
   "source": [
    "df_win_loss.groupby(['group'], as_index=False)['loss_stay'].mean()"
   ]
  },
  {
   "cell_type": "code",
   "execution_count": 213,
   "id": "4cb2a7de",
   "metadata": {},
   "outputs": [
    {
     "data": {
      "text/html": [
       "<div>\n",
       "<style scoped>\n",
       "    .dataframe tbody tr th:only-of-type {\n",
       "        vertical-align: middle;\n",
       "    }\n",
       "\n",
       "    .dataframe tbody tr th {\n",
       "        vertical-align: top;\n",
       "    }\n",
       "\n",
       "    .dataframe thead th {\n",
       "        text-align: right;\n",
       "    }\n",
       "</style>\n",
       "<table border=\"1\" class=\"dataframe\">\n",
       "  <thead>\n",
       "    <tr style=\"text-align: right;\">\n",
       "      <th></th>\n",
       "      <th>group</th>\n",
       "      <th>win_stay</th>\n",
       "    </tr>\n",
       "  </thead>\n",
       "  <tbody>\n",
       "    <tr>\n",
       "      <th>0</th>\n",
       "      <td>1</td>\n",
       "      <td>0.755191</td>\n",
       "    </tr>\n",
       "    <tr>\n",
       "      <th>1</th>\n",
       "      <td>2</td>\n",
       "      <td>0.795031</td>\n",
       "    </tr>\n",
       "    <tr>\n",
       "      <th>2</th>\n",
       "      <td>3</td>\n",
       "      <td>0.808614</td>\n",
       "    </tr>\n",
       "  </tbody>\n",
       "</table>\n",
       "</div>"
      ],
      "text/plain": [
       "   group  win_stay\n",
       "0      1  0.755191\n",
       "1      2  0.795031\n",
       "2      3  0.808614"
      ]
     },
     "execution_count": 213,
     "metadata": {},
     "output_type": "execute_result"
    }
   ],
   "source": [
    "df_win_loss.groupby(['group'], as_index=False)['win_stay'].mean()"
   ]
  },
  {
   "cell_type": "code",
   "execution_count": 214,
   "id": "e1abb32f",
   "metadata": {},
   "outputs": [
    {
     "data": {
      "text/html": [
       "<div>\n",
       "<style scoped>\n",
       "    .dataframe tbody tr th:only-of-type {\n",
       "        vertical-align: middle;\n",
       "    }\n",
       "\n",
       "    .dataframe tbody tr th {\n",
       "        vertical-align: top;\n",
       "    }\n",
       "\n",
       "    .dataframe thead th {\n",
       "        text-align: right;\n",
       "    }\n",
       "</style>\n",
       "<table border=\"1\" class=\"dataframe\">\n",
       "  <thead>\n",
       "    <tr style=\"text-align: right;\">\n",
       "      <th></th>\n",
       "      <th>group</th>\n",
       "      <th>loss_stay</th>\n",
       "    </tr>\n",
       "  </thead>\n",
       "  <tbody>\n",
       "    <tr>\n",
       "      <th>0</th>\n",
       "      <td>1</td>\n",
       "      <td>0.531708</td>\n",
       "    </tr>\n",
       "    <tr>\n",
       "      <th>1</th>\n",
       "      <td>2</td>\n",
       "      <td>0.579105</td>\n",
       "    </tr>\n",
       "    <tr>\n",
       "      <th>2</th>\n",
       "      <td>3</td>\n",
       "      <td>0.517873</td>\n",
       "    </tr>\n",
       "  </tbody>\n",
       "</table>\n",
       "</div>"
      ],
      "text/plain": [
       "   group  loss_stay\n",
       "0      1   0.531708\n",
       "1      2   0.579105\n",
       "2      3   0.517873"
      ]
     },
     "execution_count": 214,
     "metadata": {},
     "output_type": "execute_result"
    }
   ],
   "source": [
    "df_win_loss.groupby(['group'], as_index=False)['loss_stay'].mean()"
   ]
  },
  {
   "cell_type": "code",
   "execution_count": null,
   "id": "b7f8f694",
   "metadata": {},
   "outputs": [],
   "source": []
  },
  {
   "cell_type": "code",
   "execution_count": 198,
   "id": "3944c775",
   "metadata": {},
   "outputs": [
    {
     "data": {
      "text/plain": [
       "Text(0, 0.5, 'P(stay|non-reward)')"
      ]
     },
     "execution_count": 198,
     "metadata": {},
     "output_type": "execute_result"
    },
    {
     "data": {
      "image/png": "[encoded data removed]",
      "text/plain": [
       "<Figure size 1000x700 with 2 Axes>"
      ]
     },
     "metadata": {},
     "output_type": "display_data"
    }
   ],
   "source": [
    "fig = plt.figure(figsize=(10,7), tight_layout=True)\n",
    "row = 2\n",
    "column = 2\n",
    "\n",
    "# Win stay\n",
    "fig.add_subplot(row, column, 1)\n",
    "sns.barplot(data = df_win_loss, x='group', y='win_stay', hue='block',  width=.5, errorbar=\"se\", palette = 'Blues')\n",
    "plt.title('Last trial rewarded- win stay', fontsize='12')\n",
    "plt.xlabel('Group', fontsize='12')\n",
    "plt.ylabel('P(stay|reward)', fontsize='12')\n",
    "\n",
    "# Loss stay\n",
    "fig.add_subplot(row, column, 2)\n",
    "sns.barplot(data = df_win_loss, x='group', y='loss_stay', hue='block',  width=.5, errorbar=\"se\", palette = 'Blues')\n",
    "plt.title('Last trial no rewarded- loss stay', fontsize='12')\n",
    "plt.xlabel('Group', fontsize='12')\n",
    "plt.ylabel('P(stay|non-reward)', fontsize='12')\n"
   ]
  },
  {
   "cell_type": "code",
   "execution_count": 193,
   "id": "d39146fe",
   "metadata": {},
   "outputs": [
    {
     "data": {
      "text/plain": [
       "Text(0, 0.5, 'P(stay|non-reward)')"
      ]
     },
     "execution_count": 193,
     "metadata": {},
     "output_type": "execute_result"
    },
    {
     "data": {
      "image/png": "[encoded data removed]",
      "text/plain": [
       "<Figure size 1000x700 with 2 Axes>"
      ]
     },
     "metadata": {},
     "output_type": "display_data"
    }
   ],
   "source": [
    "fig = plt.figure(figsize=(10,7), tight_layout=True)\n",
    "row = 2\n",
    "column = 2\n",
    "\n",
    "# Win stay\n",
    "fig.add_subplot(row, column, 1)\n",
    "sns.barplot(data = df_win_loss, x='group', y='win_stay', hue='block',  width=.5, errorbar=\"se\", palette = 'Blues')\n",
    "plt.title('Last trial rewarded- win stay', fontsize='12')\n",
    "plt.xlabel('Group', fontsize='12')\n",
    "plt.ylabel('P(stay|reward)', fontsize='12')\n",
    "\n",
    "# Loss stay\n",
    "fig.add_subplot(row, column, 2)\n",
    "sns.barplot(data = df_win_loss, x='group', y='loss_stay', hue='block',  width=.5, errorbar=\"se\", palette = 'Blues')\n",
    "plt.title('Last trial no rewarded- loss stay', fontsize='12')\n",
    "plt.xlabel('Group', fontsize='12')\n",
    "plt.ylabel('P(stay|non-reward)', fontsize='12')\n"
   ]
  },
  {
   "cell_type": "code",
   "execution_count": 145,
   "id": "f1cf397b",
   "metadata": {},
   "outputs": [
    {
     "name": "stdout",
     "output_type": "stream",
     "text": [
      "                  Anova\n",
      "=========================================\n",
      "            F Value Num DF  Den DF Pr > F\n",
      "-----------------------------------------\n",
      "group        0.0219 1.0000 21.0000 0.8838\n",
      "block        3.7797 1.0000 21.0000 0.0654\n",
      "group:block  0.5049 1.0000 21.0000 0.4852\n",
      "=========================================\n",
      "\n"
     ]
    }
   ],
   "source": [
    "anov = AnovaRM(data = df_win_loss[df_win_loss['group']!=2], depvar='win_stay', subject='sub_ID', within=['group', 'block'], between=None, aggregate_func='mean')\n",
    "print(anov.fit())"
   ]
  },
  {
   "cell_type": "code",
   "execution_count": 11,
   "id": "2ed0b7c9",
   "metadata": {},
   "outputs": [
    {
     "name": "stdout",
     "output_type": "stream",
     "text": [
      "                  Anova\n",
      "=========================================\n",
      "            F Value Num DF  Den DF Pr > F\n",
      "-----------------------------------------\n",
      "group        0.4798 1.0000 21.0000 0.4961\n",
      "block        2.5717 1.0000 21.0000 0.1237\n",
      "group:block  0.0046 1.0000 21.0000 0.9463\n",
      "=========================================\n",
      "\n"
     ]
    }
   ],
   "source": [
    "anov = AnovaRM(data = df_win_loss[df_win_loss['group']!=2], depvar='win_stay', subject='sub_ID', within=['group', 'block'], between=None, aggregate_func='mean')\n",
    "print(anov.fit())"
   ]
  },
  {
   "cell_type": "code",
   "execution_count": null,
   "id": "0498c7bc",
   "metadata": {},
   "outputs": [],
   "source": []
  },
  {
   "cell_type": "code",
   "execution_count": null,
   "id": "e7d3fe1e",
   "metadata": {},
   "outputs": [],
   "source": []
  }
 ],
 "metadata": {
  "kernelspec": {
   "display_name": "Python 3 (ipykernel)",
   "language": "python",
   "name": "python3"
  },
  "language_info": {
   "codemirror_mode": {
    "name": "ipython",
    "version": 3
   },
   "file_extension": ".py",
   "mimetype": "text/x-python",
   "name": "python",
   "nbconvert_exporter": "python",
   "pygments_lexer": "ipython3",
   "version": "3.10.9"
  }
 },
 "nbformat": 4,
 "nbformat_minor": 5
}
