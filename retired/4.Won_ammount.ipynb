{
 "cells": [
  {
   "cell_type": "code",
   "execution_count": 2,
   "id": "b3e7fc4d",
   "metadata": {},
   "outputs": [],
   "source": [
    "import matplotlib.pyplot as plt\n",
    "import pandas as pd\n",
    "import seaborn as sns\n",
    "from scipy import stats"
   ]
  },
  {
   "cell_type": "code",
   "execution_count": 39,
   "id": "0364fcc3",
   "metadata": {},
   "outputs": [],
   "source": [
    "# Read pooled data\n",
    "behAll = pd.read_csv('/mnt/projects/7TPD/bids/derivatives/fMRI_DA/data_BehModel/originalfMRIbehFiles/AllBehData/behAll.csv')\n",
    "# Rename some columns label and entities\n",
    "behAll = behAll.rename(columns={'wonAmount                ':'wonAmount'})"
   ]
  },
  {
   "cell_type": "code",
   "execution_count": 42,
   "id": "b1836d47",
   "metadata": {},
   "outputs": [
    {
     "data": {
      "image/png": "[encoded data removed]",
      "text/plain": [
       "<Figure size 600x400 with 1 Axes>"
      ]
     },
     "metadata": {},
     "output_type": "display_data"
    },
    {
     "data": {
      "text/plain": [
       "<Figure size 640x480 with 0 Axes>"
      ]
     },
     "metadata": {},
     "output_type": "display_data"
    }
   ],
   "source": [
    "# Plot of won amount for each group\n",
    "fig = plt.figure(figsize=(6, 4), tight_layout = True)\n",
    "# accumulated won ammount for each participant, block and group label\n",
    "behAll_wonAmount = behAll.groupby(['group', 'block', 'sub_ID'], as_index=False)['wonAmount'].sum()\n",
    "# We have two session1 and 2 for helathy control, so we should divide it by 2 to match with On and OFF medication\n",
    "behAll_wonAmount.loc[behAll_wonAmount['group']==2,'wonAmount'] = behAll_wonAmount[behAll_wonAmount['group']==2]['wonAmount']/2\n",
    "ax = sns.barplot(data = behAll_wonAmount, x='group', y='wonAmount', hue='block', width=.5)\n",
    "# Change the label of legend\n",
    "new_title = 'Condition'\n",
    "ax.legend_.set_title(new_title)\n",
    "for t, l in zip(ax.legend_.texts, ['Act', 'Clr']):\n",
    "    t.set_text(l)\n",
    "plt.ylabel('Totla amount')\n",
    "plt.xlabel('Group label')\n",
    "plt.show(g)\n",
    "plt.savefig('../figures/accumulated_amount.png', dpi=300)"
   ]
  },
  {
   "cell_type": "code",
   "execution_count": 45,
   "id": "c4686c09",
   "metadata": {},
   "outputs": [
    {
     "name": "stdout",
     "output_type": "stream",
     "text": [
      "group  block\n",
      "1      Act      2351.409091\n",
      "       Stim     2171.000000\n",
      "2      Act      2304.354167\n",
      "       Stim     2112.895833\n",
      "3      Act      2269.727273\n",
      "       Stim     2024.227273\n",
      "Name: wonAmount, dtype: float64\n"
     ]
    }
   ],
   "source": [
    "print(behAll_wonAmount.groupby(['group', 'block'])['wonAmount'].mean())"
   ]
  },
  {
   "cell_type": "code",
   "execution_count": 270,
   "id": "02b7ea49",
   "metadata": {},
   "outputs": [
    {
     "data": {
      "text/plain": [
       "group  block\n",
       "1      Act      394.042741\n",
       "       Stim     366.373216\n",
       "2      Act      297.748562\n",
       "       Stim     280.532722\n",
       "3      Act      385.875650\n",
       "       Stim     276.347768\n",
       "Name: wonAmount                , dtype: float64"
      ]
     },
     "execution_count": 270,
     "metadata": {},
     "output_type": "execute_result"
    }
   ],
   "source": [
    "print(behAll_wonAmount.groupby(['group', 'block'])['wonAmount'].std())"
   ]
  },
  {
   "cell_type": "code",
   "execution_count": 46,
   "id": "bde7b913",
   "metadata": {},
   "outputs": [
    {
     "data": {
      "text/plain": [
       "TtestResult(statistic=-1.7123038538082895, pvalue=0.09404454621622002, df=43)"
      ]
     },
     "execution_count": 46,
     "metadata": {},
     "output_type": "execute_result"
    }
   ],
   "source": [
    "stats.ttest_rel(behAll_wonAmount[behAll_wonAmount['group']==3]['wonAmount'],\n",
    "behAll_wonAmount[behAll_wonAmount['group']==1]['wonAmount'])"
   ]
  },
  {
   "cell_type": "code",
   "execution_count": null,
   "id": "49de282d",
   "metadata": {},
   "outputs": [],
   "source": []
  }
 ],
 "metadata": {
  "kernelspec": {
   "display_name": "Python 3 (ipykernel)",
   "language": "python",
   "name": "python3"
  },
  "language_info": {
   "codemirror_mode": {
    "name": "ipython",
    "version": 3
   },
   "file_extension": ".py",
   "mimetype": "text/x-python",
   "name": "python",
   "nbconvert_exporter": "python",
   "pygments_lexer": "ipython3",
   "version": "3.10.9"
  }
 },
 "nbformat": 4,
 "nbformat_minor": 5
}
