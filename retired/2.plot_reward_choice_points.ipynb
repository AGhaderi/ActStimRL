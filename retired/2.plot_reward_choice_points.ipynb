{
 "cells": [
  {
   "cell_type": "code",
   "execution_count": 2,
   "id": "2f1ee843",
   "metadata": {},
   "outputs": [],
   "source": [
    "import numpy as np\n",
    "import pandas as pd\n",
    "import sys\n",
    "sys.path.append('..')\n",
    "from madule import plots"
   ]
  },
  {
   "cell_type": "code",
   "execution_count": 3,
   "id": "85479017",
   "metadata": {},
   "outputs": [],
   "source": [
    "\"\"\"Plots of choice responses for each individuals.\n",
    "In this plot all feasturs of pushing/pulling and yellow chosen/ blue chosen are shown in one plot.\n",
    "The both choices and rewarded option Are seperated for each feature.\n",
    "\"\"\"\n",
    "\n",
    "# List of subjects\n",
    "subList = ['sub-004', 'sub-010', 'sub-012', 'sub-025', 'sub-026', 'sub-029', 'sub-030',\n",
    "           'sub-033', 'sub-034', 'sub-036', 'sub-040', 'sub-041', 'sub-042', 'sub-044', \n",
    "           'sub-045', 'sub-047', 'sub-048', 'sub-052', 'sub-054', 'sub-056', 'sub-059', \n",
    "           'sub-060', 'sub-064', 'sub-065', 'sub-067', 'sub-069', 'sub-070', 'sub-071', \n",
    "           'sub-074', 'sub-075', 'sub-076', 'sub-077', 'sub-078', 'sub-079', 'sub-080', \n",
    "           'sub-081', 'sub-082', 'sub-083', 'sub-085', 'sub-087', 'sub-088', 'sub-089', \n",
    "           'sub-090', 'sub-092', 'sub-108', 'sub-109']\n",
    " \n",
    "for subName in subList:\n",
    "    # Main directory of the subject\n",
    "    subMainDirec = '/mnt/projects/7TPD/bids/derivatives/fMRI_DA/data_BehModel/originalfMRIbehFiles/'\n",
    "    # Directory of main dataset for each participant\n",
    "    dirc = subMainDirec + subName + '/' + subName + '_achieva7t_task-DA_beh.csv'\n",
    "    # Read the excel file\n",
    "    data = pd.read_csv(dirc)\n",
    "    # Condition sequences for each particiapnt\n",
    "    blocks = data.groupby(['session', 'run'])['block'].unique().to_numpy()\n",
    "    blocks = np.array([blocks[0], blocks[1], blocks[2], blocks[3]]).flatten()\n",
    "    #save file name\n",
    "    saveFile = subMainDirec + subName + '/' + subName + '_achieva7t_task-DA_beh.png'\n",
    "    # Plot by a pre implemented madule\n",
    "    plots.plotChosenCorrect(data = data, blocks = blocks, subName = subName, saveFile = saveFile)"
   ]
  },
  {
   "cell_type": "code",
   "execution_count": null,
   "id": "4c8d6e2e",
   "metadata": {},
   "outputs": [],
   "source": []
  }
 ],
 "metadata": {
  "kernelspec": {
   "display_name": "Python 3 (ipykernel)",
   "language": "python",
   "name": "python3"
  },
  "language_info": {
   "codemirror_mode": {
    "name": "ipython",
    "version": 3
   },
   "file_extension": ".py",
   "mimetype": "text/x-python",
   "name": "python",
   "nbconvert_exporter": "python",
   "pygments_lexer": "ipython3",
   "version": "3.10.9"
  }
 },
 "nbformat": 4,
 "nbformat_minor": 5
}
