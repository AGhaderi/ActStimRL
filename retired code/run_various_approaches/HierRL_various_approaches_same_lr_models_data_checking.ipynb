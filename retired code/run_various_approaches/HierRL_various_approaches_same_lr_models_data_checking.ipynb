{
 "cells": [
  {
   "cell_type": "code",
   "execution_count": 1,
   "id": "e601d147",
   "metadata": {
    "scrolled": true
   },
   "outputs": [],
   "source": [
    "import numpy as np\n",
    "import pandas as pd\n",
    "import stan\n",
    "import matplotlib.pyplot as plt\n",
    "import seaborn as sns\n",
    "import sys\n",
    "sys.path.append('/mrhome/amingk/Documents/7TPD/ActStimRL')\n",
    "from Madule import utils\n",
    "import arviz as az\n",
    "from scipy import stats "
   ]
  },
  {
   "cell_type": "markdown",
   "id": "c13386cf",
   "metadata": {},
   "source": [
    "### Action Learning Value"
   ]
  },
  {
   "cell_type": "code",
   "execution_count": 8,
   "id": "986914ae",
   "metadata": {},
   "outputs": [
    {
     "name": "stdout",
     "output_type": "stream",
     "text": [
      "(3445, 50000)\n"
     ]
    }
   ],
   "source": [
    "# select Act or Stim to model fit seperately\n",
    "cond_act_stim = 'Act'\n",
    "mainScarch = '/mnt/scratch/projects/7TPD/amin/'\n",
    "# pickle fine in the scratch folder\n",
    "pickelDir = f'{mainScarch}/realdata/hier/PD/various_approaches/HierRL_non_comp_medication_same_2lr_model1_data_{cond_act_stim}.pkl'\n",
    "\"\"\"Loading the pickle file of model fit from the subject directory\"\"\"\n",
    "loadPkl = utils.load_pickle(load_path=pickelDir)\n",
    "fit = loadPkl['fit'] \n",
    "# get the linkelihood and comarision assessment       \n",
    "log_lik = fit['log_lik']\n",
    "print(log_lik.shape)\n",
    "log_assessement = utils.waic(log_likelihood=log_lik)\n",
    "log_waic_models = log_assessement['waic']\n",
    "log_lppd_models = log_assessement['lppd']"
   ]
  },
  {
   "cell_type": "code",
   "execution_count": 9,
   "id": "18991b67",
   "metadata": {},
   "outputs": [
    {
     "name": "stdout",
     "output_type": "stream",
     "text": [
      "waic:  65366.4\n",
      "lppd:  -22713.0\n"
     ]
    }
   ],
   "source": [
    "# waic meaure\n",
    "print('waic: ', str(np.round(log_waic_models, 1)))\n",
    "print('lppd: ', str(np.round(log_lppd_models, 1)))"
   ]
  },
  {
   "cell_type": "code",
   "execution_count": 14,
   "id": "21a5f9cc",
   "metadata": {},
   "outputs": [
    {
     "name": "stdout",
     "output_type": "stream",
     "text": [
      "(3445, 50000)\n"
     ]
    }
   ],
   "source": [
    "# select Act or Stim to model fit seperately\n",
    "cond_act_stim = 'Act'\n",
    "mainScarch = '/mnt/scratch/projects/7TPD/amin/'\n",
    "# pickle fine in the scratch folder\n",
    "pickelDir = f'{mainScarch}/realdata/hier/PD/various_approaches/HierRL_non_comp_medication_same_lr_model1_data_{cond_act_stim}.pkl'\n",
    "\"\"\"Loading the pickle file of model fit from the subject directory\"\"\"\n",
    "loadPkl = utils.load_pickle(load_path=pickelDir)\n",
    "fit = loadPkl['fit'] \n",
    "# get the linkelihood and comarision assessment       \n",
    "log_lik = fit['log_lik']\n",
    "print(log_lik.shape)\n",
    "log_assessement = utils.waic(log_likelihood=log_lik)\n",
    "log_waic_models = log_assessement['waic']\n",
    "log_lppd_models = log_assessement['lppd']"
   ]
  },
  {
   "cell_type": "code",
   "execution_count": 15,
   "id": "0d0c2a5c",
   "metadata": {},
   "outputs": [
    {
     "name": "stdout",
     "output_type": "stream",
     "text": [
      "waic:  65582.7\n",
      "lppd:  -22999.3\n"
     ]
    }
   ],
   "source": [
    "# waic meaure\n",
    "print('waic: ', str(np.round(log_waic_models, 1)))\n",
    "print('lppd: ', str(np.round(log_lppd_models, 1)))"
   ]
  },
  {
   "cell_type": "code",
   "execution_count": 17,
   "id": "7e395e45",
   "metadata": {},
   "outputs": [
    {
     "name": "stdout",
     "output_type": "stream",
     "text": [
      "(3445, 50000)\n"
     ]
    }
   ],
   "source": [
    "# RL model without weighting parameter\n",
    "cond_act_stim = 'Act'\n",
    "mainScarch = '/mnt/scratch/projects/7TPD/amin/'\n",
    "# pickle fine in the scratch folder\n",
    "pickelDir = f'{mainScarch}/realdata/hier/PD/various_approaches/HierRL_non_comp_non_w_medication_same_lr_model1_data_{cond_act_stim}.pkl'\n",
    "\"\"\"Loading the pickle file of model fit from the subject directory\"\"\"\n",
    "loadPkl = utils.load_pickle(load_path=pickelDir)\n",
    "fit = loadPkl['fit'] \n",
    "# get the linkelihood and comarision assessment       \n",
    "log_lik = fit['log_lik']\n",
    "print(log_lik.shape)\n",
    "log_assessement = utils.waic(log_likelihood=log_lik)\n",
    "log_waic_models = log_assessement['waic']\n",
    "log_lppd_models = log_assessement['lppd']"
   ]
  },
  {
   "cell_type": "code",
   "execution_count": 18,
   "id": "90013933",
   "metadata": {},
   "outputs": [
    {
     "name": "stdout",
     "output_type": "stream",
     "text": [
      "waic:  141640.3\n",
      "lppd:  -52275.6\n"
     ]
    }
   ],
   "source": [
    "# waic meaure\n",
    "print('waic: ', str(np.round(log_waic_models, 1)))\n",
    "print('lppd: ', str(np.round(log_lppd_models, 1)))"
   ]
  },
  {
   "cell_type": "code",
   "execution_count": 21,
   "id": "c8dca4b8",
   "metadata": {},
   "outputs": [
    {
     "name": "stdout",
     "output_type": "stream",
     "text": [
      "(3445, 50000)\n"
     ]
    }
   ],
   "source": [
    "# RL model with mixutre model\n",
    "cond_act_stim = 'Act'\n",
    "mainScarch = '/mnt/scratch/projects/7TPD/amin/'\n",
    "# pickle fine in the scratch folder\n",
    "pickelDir = f'{mainScarch}/realdata/hier/PD/various_approaches/HierRL_non_comp_mixture_medication_same_lr_model1_data_{cond_act_stim}.pkl'\n",
    "\"\"\"Loading the pickle file of model fit from the subject directory\"\"\"\n",
    "loadPkl = utils.load_pickle(load_path=pickelDir)\n",
    "fit = loadPkl['fit'] \n",
    "# get the linkelihood and comarision assessment       \n",
    "log_lik = fit['log_lik']\n",
    "print(log_lik.shape)\n",
    "log_assessement = utils.waic(log_likelihood=log_lik)\n",
    "log_waic_models = log_assessement['waic']\n",
    "log_lppd_models = log_assessement['lppd']"
   ]
  },
  {
   "cell_type": "code",
   "execution_count": 22,
   "id": "f7e52bab",
   "metadata": {},
   "outputs": [
    {
     "name": "stdout",
     "output_type": "stream",
     "text": [
      "waic:  65585.0\n",
      "lppd:  -22952.7\n"
     ]
    }
   ],
   "source": [
    "# waic meaure\n",
    "print('waic: ', str(np.round(log_waic_models, 1)))\n",
    "print('lppd: ', str(np.round(log_lppd_models, 1)))"
   ]
  },
  {
   "cell_type": "code",
   "execution_count": null,
   "id": "8cf50fe8",
   "metadata": {},
   "outputs": [],
   "source": []
  }
 ],
 "metadata": {
  "kernelspec": {
   "display_name": "Python 3 (ipykernel)",
   "language": "python",
   "name": "python3"
  },
  "language_info": {
   "codemirror_mode": {
    "name": "ipython",
    "version": 3
   },
   "file_extension": ".py",
   "mimetype": "text/x-python",
   "name": "python",
   "nbconvert_exporter": "python",
   "pygments_lexer": "ipython3",
   "version": "3.9.18"
  }
 },
 "nbformat": 4,
 "nbformat_minor": 5
}
