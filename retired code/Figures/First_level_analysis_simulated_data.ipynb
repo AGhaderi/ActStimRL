{
 "cells": [
  {
   "cell_type": "code",
   "execution_count": 1,
   "id": "9d5a9a26",
   "metadata": {},
   "outputs": [],
   "source": [
    "import numpy as np\n",
    "import matplotlib.pyplot as plt\n",
    "import pandas as pd\n",
    "import seaborn as sns\n",
    "from scipy import stats\n",
    "import sys\n",
    "sys.path.append('..')\n",
    "from madule import utils\n",
    "from madule import plots\n",
    "from statsmodels.stats.anova import AnovaRM"
   ]
  },
  {
   "cell_type": "code",
   "execution_count": 2,
   "id": "ec193b73",
   "metadata": {},
   "outputs": [],
   "source": [
    "\"\"\"Plot the figures of simulated data\"\"\"\n",
    "# Simulation's number\n",
    "simNumber = 7\n",
    "\n",
    "# List of subjects\n",
    "subList = ['sub-004', 'sub-010', 'sub-012', 'sub-025', 'sub-026', 'sub-029', 'sub-030',\n",
    "           'sub-033', 'sub-034', 'sub-036', 'sub-040', 'sub-041', 'sub-042', 'sub-045',\n",
    "           'sub-047', 'sub-048', 'sub-052', 'sub-054', 'sub-056', 'sub-059', 'sub-060',\n",
    "           'sub-064', 'sub-065', 'sub-067', 'sub-069', 'sub-070', 'sub-071', 'sub-074',\n",
    "           'sub-075', 'sub-076', 'sub-077', 'sub-078', 'sub-079', 'sub-080', 'sub-081',\n",
    "           'sub-082', 'sub-083', 'sub-085', 'sub-087', 'sub-088', 'sub-089', 'sub-090',\n",
    "           'sub-092', 'sub-108', 'sub-109']\n",
    "# Main directory of the simupated participatns\n",
    "parent_dir = '/mnt/projects/7TPD/bids/derivatives/fMRI_DA/data_BehModel/simulation/'\n",
    "# Loop over list of participatns\n",
    "for subName in subList:\n",
    "    direct  = parent_dir + subName + '/' + str(simNumber) + '/'\n",
    "    # Read predefined task design with true parameters\n",
    "    simulated_data = pd.read_csv(direct + subName +'-simulated-data-with-task-design-true-param.csv')\n",
    "    # Save file name\n",
    "    saveFile = parent_dir + subName + '/' + str(simNumber) + '/' + subName +'_simData'\n",
    "    plots.plotChosenCorrect(data = simulated_data, subName = subName, saveFile = saveFile)"
   ]
  },
  {
   "cell_type": "code",
   "execution_count": null,
   "id": "a8be3a8e",
   "metadata": {},
   "outputs": [],
   "source": []
  },
  {
   "cell_type": "code",
   "execution_count": 70,
   "id": "ce1a1b7a",
   "metadata": {},
   "outputs": [],
   "source": [
    "\"\"\"Choice Proportion and RT for group label 2\"\"\"\n",
    "# Save concatenated data over group lable 2\n",
    "dataAllGroup2 = dataAll.loc[dataAll['group']=='2']\n",
    "dataAllGroup2.to_csv('/mnt/projects/7TPD/bids/derivatives/fMRI_DA/data_BehModel/First-level-analysis/Sim/simALLGroup2_' + str(simNumber) + '.csv', index=False)"
   ]
  },
  {
   "cell_type": "code",
   "execution_count": 71,
   "id": "89497e98",
   "metadata": {},
   "outputs": [
    {
     "data": {
      "text/html": [
       "<table class=\"simpletable\">\n",
       "<tr>\n",
       "        <td></td>        <th>F Value</th> <th>Num DF</th> <th>Den DF</th>  <th>Pr > F</th>\n",
       "</tr>\n",
       "<tr>\n",
       "  <th>session</th>       <td>0.8416</td>  <td>1.0000</td> <td>22.0000</td> <td>0.3689</td>\n",
       "</tr>\n",
       "<tr>\n",
       "  <th>block</th>         <td>2.2782</td>  <td>1.0000</td> <td>22.0000</td> <td>0.1454</td>\n",
       "</tr>\n",
       "<tr>\n",
       "  <th>session:block</th> <td>0.1701</td>  <td>1.0000</td> <td>22.0000</td> <td>0.6840</td>\n",
       "</tr>\n",
       "</table>"
      ],
      "text/plain": [
       "<class 'statsmodels.iolib.summary2.Summary'>\n",
       "\"\"\"\n",
       "                   Anova\n",
       "===========================================\n",
       "              F Value Num DF  Den DF Pr > F\n",
       "-------------------------------------------\n",
       "session        0.8416 1.0000 22.0000 0.3689\n",
       "block          2.2782 1.0000 22.0000 0.1454\n",
       "session:block  0.1701 1.0000 22.0000 0.6840\n",
       "===========================================\n",
       "\n",
       "\"\"\""
      ]
     },
     "execution_count": 71,
     "metadata": {},
     "output_type": "execute_result"
    }
   ],
   "source": [
    "# Repeated mesure ANOVA in choice proportion\n",
    "aovrm2way = AnovaRM(data = dataAllGroup2, depvar='correctChoice', subject = 'sub_ID',\n",
    "                    within=['session','block'], aggregate_func='mean')\n",
    "res2way = aovrm2way.fit()\n",
    "res2way.summary()"
   ]
  },
  {
   "cell_type": "markdown",
   "id": "1cfb483a",
   "metadata": {},
   "source": [
    "## Choice Proportion and RT in Group 1 and 2"
   ]
  },
  {
   "cell_type": "code",
   "execution_count": 72,
   "id": "7a9dd09e",
   "metadata": {},
   "outputs": [],
   "source": [
    "## Choice Proportion and RT in Group 1 and 3\n",
    "dataAllGroup13 = dataAll.loc[(dataAll['group']=='1') | (dataAll['group']=='3')]\n",
    "dataAllGroup13.to_csv('/mnt/projects/7TPD/bids/derivatives/fMRI_DA/data_BehModel/First-level-analysis/Sim/simALLGroup3_' + str(simNumber) + '.csv', index=False)"
   ]
  },
  {
   "cell_type": "code",
   "execution_count": 76,
   "id": "99076451",
   "metadata": {},
   "outputs": [
    {
     "data": {
      "text/html": [
       "<table class=\"simpletable\">\n",
       "<tr>\n",
       "       <td></td>       <th>F Value</th> <th>Num DF</th> <th>Den DF</th>  <th>Pr > F</th>\n",
       "</tr>\n",
       "<tr>\n",
       "  <th>group</th>       <td>0.0799</td>  <td>1.0000</td> <td>20.0000</td> <td>0.7804</td>\n",
       "</tr>\n",
       "<tr>\n",
       "  <th>block</th>       <td>2.4946</td>  <td>1.0000</td> <td>20.0000</td> <td>0.1299</td>\n",
       "</tr>\n",
       "<tr>\n",
       "  <th>group:block</th> <td>0.0092</td>  <td>1.0000</td> <td>20.0000</td> <td>0.9246</td>\n",
       "</tr>\n",
       "</table>"
      ],
      "text/plain": [
       "<class 'statsmodels.iolib.summary2.Summary'>\n",
       "\"\"\"\n",
       "                  Anova\n",
       "=========================================\n",
       "            F Value Num DF  Den DF Pr > F\n",
       "-----------------------------------------\n",
       "group        0.0799 1.0000 20.0000 0.7804\n",
       "block        2.4946 1.0000 20.0000 0.1299\n",
       "group:block  0.0092 1.0000 20.0000 0.9246\n",
       "=========================================\n",
       "\n",
       "\"\"\""
      ]
     },
     "execution_count": 76,
     "metadata": {},
     "output_type": "execute_result"
    }
   ],
   "source": [
    "# Repeated mesure ANOVA across session in choice proportion\n",
    "aovrm2way = AnovaRM(data = dataAllGroup13, depvar='correctChoice', subject = 'sub_ID',\n",
    "                    within=['session','block'], aggregate_func='mean')\n",
    "res2way = aovrm2way.fit()\n",
    "res2way.summary()"
   ]
  },
  {
   "cell_type": "markdown",
   "id": "0a71c394",
   "metadata": {},
   "source": [
    "## Figure of simulated data"
   ]
  },
  {
   "cell_type": "code",
   "execution_count": 10,
   "id": "5294110e",
   "metadata": {
    "scrolled": true
   },
   "outputs": [],
   "source": []
  },
  {
   "cell_type": "code",
   "execution_count": null,
   "id": "3d57a0d9",
   "metadata": {},
   "outputs": [],
   "source": []
  },
  {
   "cell_type": "code",
   "execution_count": null,
   "id": "81c890e9",
   "metadata": {},
   "outputs": [],
   "source": []
  }
 ],
 "metadata": {
  "kernelspec": {
   "display_name": "Python 3 (ipykernel)",
   "language": "python",
   "name": "python3"
  },
  "language_info": {
   "codemirror_mode": {
    "name": "ipython",
    "version": 3
   },
   "file_extension": ".py",
   "mimetype": "text/x-python",
   "name": "python",
   "nbconvert_exporter": "python",
   "pygments_lexer": "ipython3",
   "version": "3.10.9"
  }
 },
 "nbformat": 4,
 "nbformat_minor": 5
}
