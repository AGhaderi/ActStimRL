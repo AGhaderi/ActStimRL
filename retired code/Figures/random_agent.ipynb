{
 "cells": [
  {
   "cell_type": "code",
   "execution_count": 1,
   "id": "d13904f8",
   "metadata": {},
   "outputs": [],
   "source": [
    "import numpy as np\n",
    "import matplotlib.pyplot as plt\n",
    "import pandas as pd\n",
    "from scipy.io import loadmat\n",
    "import os\n",
    "import seaborn as sns\n",
    "import sys\n",
    "sys.path.append('..')\n",
    "from madule import plots\n",
    "from scipy import stats\n",
    "from statsmodels.stats.anova import AnovaRM"
   ]
  },
  {
   "cell_type": "code",
   "execution_count": 2,
   "id": "63ee00bb",
   "metadata": {},
   "outputs": [],
   "source": [
    "# read collected data across data\n",
    "behAll = pd.read_csv('/mnt/projects/7TPD/bids/derivatives/fMRI_DA/data_BehModel/originalfMRIbehFiles/AllBehData/behAll.csv')\n"
   ]
  },
  {
   "cell_type": "code",
   "execution_count": 4,
   "id": "6fee2055",
   "metadata": {},
   "outputs": [
    {
     "data": {
      "text/plain": [
       "Index(['session', 'run', 'stimActFirst', 'block', 'stimActBlock',\n",
       "       'trialNumber', 'stimOnset', 'yellowOnLeftSide',\n",
       "       'leftCanBePushed                ', 'winAmtLeft', 'winAmtRight',\n",
       "       'winAmtYellow', 'winAmtBlue', 'winAmtPushable', 'winAmtPullable', 'RT',\n",
       "       'actUsrResp                ', 'invalResp', 'yellowChosen', 'leftChosen',\n",
       "       'pushed', 'endOfMoveTime', 'decFBjitOnset                ', 'FBOnset',\n",
       "       'yellowCorrect', 'pushCorrect', 'correctChoice',\n",
       "       'wonAmount                ', 'totalAmount', 'ITIOnset', 'reverse',\n",
       "       'sub_ID', 'group', 'patient'],\n",
       "      dtype='object')"
      ]
     },
     "execution_count": 4,
     "metadata": {},
     "output_type": "execute_result"
    }
   ],
   "source": [
    "behAll.columns"
   ]
  },
  {
   "cell_type": "code",
   "execution_count": 22,
   "id": "e49b43cd",
   "metadata": {},
   "outputs": [],
   "source": [
    "behAll['pushedAgent'] = np.random.binomial(1, .5, len(behAll))"
   ]
  },
  {
   "cell_type": "code",
   "execution_count": 23,
   "id": "53898628",
   "metadata": {},
   "outputs": [
    {
     "data": {
      "text/plain": [
       "1"
      ]
     },
     "execution_count": 23,
     "metadata": {},
     "output_type": "execute_result"
    }
   ],
   "source": [
    "np.random.binomial(1, .5)"
   ]
  },
  {
   "cell_type": "code",
   "execution_count": 24,
   "id": "9e4d4ad6",
   "metadata": {},
   "outputs": [
    {
     "data": {
      "text/plain": [
       "0.5047519944502254"
      ]
     },
     "execution_count": 24,
     "metadata": {},
     "output_type": "execute_result"
    }
   ],
   "source": [
    "(behAll['pushedAgent']*behAll['pushCorrect']+(1-behAll['pushedAgent'])*(1-behAll['pushCorrect'])).mean()"
   ]
  },
  {
   "cell_type": "code",
   "execution_count": 14,
   "id": "8c00ec2b",
   "metadata": {},
   "outputs": [
    {
     "data": {
      "text/plain": [
       "0.4939299340964273"
      ]
     },
     "execution_count": 14,
     "metadata": {},
     "output_type": "execute_result"
    }
   ],
   "source": [
    "(behAll['correctChoice']).mean()"
   ]
  },
  {
   "cell_type": "code",
   "execution_count": null,
   "id": "e7568ec0",
   "metadata": {},
   "outputs": [],
   "source": []
  }
 ],
 "metadata": {
  "kernelspec": {
   "display_name": "Python 3 (ipykernel)",
   "language": "python",
   "name": "python3"
  },
  "language_info": {
   "codemirror_mode": {
    "name": "ipython",
    "version": 3
   },
   "file_extension": ".py",
   "mimetype": "text/x-python",
   "name": "python",
   "nbconvert_exporter": "python",
   "pygments_lexer": "ipython3",
   "version": "3.10.9"
  }
 },
 "nbformat": 4,
 "nbformat_minor": 5
}
