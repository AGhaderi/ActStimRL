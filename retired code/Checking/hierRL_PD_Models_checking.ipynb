{
 "cells": [
  {
   "cell_type": "code",
   "execution_count": 12,
   "id": "e601d147",
   "metadata": {
    "scrolled": true
   },
   "outputs": [],
   "source": [
    "import numpy as np\n",
    "import pandas as pd\n",
    "import stan\n",
    "import matplotlib.pyplot as plt\n",
    "import seaborn as sns\n",
    "import sys\n",
    "sys.path.append('/mrhome/amingk/Documents/7TPD/ActStimRL')\n",
    "from Madule import utils, plots\n",
    "import arviz as az"
   ]
  },
  {
   "cell_type": "markdown",
   "metadata": {},
   "source": [
    "### Model 1"
   ]
  },
  {
   "cell_type": "code",
   "execution_count": 2,
   "id": "4cdc7e41",
   "metadata": {
    "scrolled": true
   },
   "outputs": [],
   "source": [
    "# Directory of pickle file\n",
    "pickelDir = '/mnt/projects/7TPD/bids/derivatives/fMRI_DA/data_BehModel/originalfMRIbehFiles/Model_secondOrder/hier/group13/pool/hierRL_PD_Model1.pkl'\n",
    "\"\"\"Loading the pickle file of model fit from the subject directory\"\"\"\n",
    "loadPkl = utils.load_pickle(load_path=pickelDir)\n",
    "fit = loadPkl['fit']"
   ]
  },
  {
   "cell_type": "code",
   "execution_count": 3,
   "metadata": {},
   "outputs": [
    {
     "data": {
      "text/html": [
       "<div>\n",
       "<style scoped>\n",
       "    .dataframe tbody tr th:only-of-type {\n",
       "        vertical-align: middle;\n",
       "    }\n",
       "\n",
       "    .dataframe tbody tr th {\n",
       "        vertical-align: top;\n",
       "    }\n",
       "\n",
       "    .dataframe thead th {\n",
       "        text-align: right;\n",
       "    }\n",
       "</style>\n",
       "<table border=\"1\" class=\"dataframe\">\n",
       "  <thead>\n",
       "    <tr style=\"text-align: right;\">\n",
       "      <th></th>\n",
       "      <th>mean</th>\n",
       "      <th>sd</th>\n",
       "      <th>hdi_3%</th>\n",
       "      <th>hdi_97%</th>\n",
       "      <th>mcse_mean</th>\n",
       "      <th>mcse_sd</th>\n",
       "      <th>ess_bulk</th>\n",
       "      <th>ess_tail</th>\n",
       "      <th>r_hat</th>\n",
       "    </tr>\n",
       "  </thead>\n",
       "  <tbody>\n",
       "    <tr>\n",
       "      <th>hier_alphaAct_mu</th>\n",
       "      <td>-0.791</td>\n",
       "      <td>0.140</td>\n",
       "      <td>-1.055</td>\n",
       "      <td>-0.528</td>\n",
       "      <td>0.001</td>\n",
       "      <td>0.001</td>\n",
       "      <td>13631.0</td>\n",
       "      <td>17492.0</td>\n",
       "      <td>1.0</td>\n",
       "    </tr>\n",
       "    <tr>\n",
       "      <th>hier_alphaClr_mu</th>\n",
       "      <td>-0.047</td>\n",
       "      <td>0.167</td>\n",
       "      <td>-0.350</td>\n",
       "      <td>0.279</td>\n",
       "      <td>0.002</td>\n",
       "      <td>0.001</td>\n",
       "      <td>8792.0</td>\n",
       "      <td>15440.0</td>\n",
       "      <td>1.0</td>\n",
       "    </tr>\n",
       "    <tr>\n",
       "      <th>hier_weightAct_mu</th>\n",
       "      <td>0.299</td>\n",
       "      <td>0.119</td>\n",
       "      <td>0.072</td>\n",
       "      <td>0.517</td>\n",
       "      <td>0.001</td>\n",
       "      <td>0.001</td>\n",
       "      <td>9048.0</td>\n",
       "      <td>14542.0</td>\n",
       "      <td>1.0</td>\n",
       "    </tr>\n",
       "    <tr>\n",
       "      <th>hier_sensitivity_mu</th>\n",
       "      <td>-3.429</td>\n",
       "      <td>0.090</td>\n",
       "      <td>-3.600</td>\n",
       "      <td>-3.262</td>\n",
       "      <td>0.001</td>\n",
       "      <td>0.001</td>\n",
       "      <td>7321.0</td>\n",
       "      <td>11857.0</td>\n",
       "      <td>1.0</td>\n",
       "    </tr>\n",
       "    <tr>\n",
       "      <th>hier_alphaAct_sd</th>\n",
       "      <td>0.486</td>\n",
       "      <td>0.056</td>\n",
       "      <td>0.380</td>\n",
       "      <td>0.590</td>\n",
       "      <td>0.000</td>\n",
       "      <td>0.000</td>\n",
       "      <td>27111.0</td>\n",
       "      <td>20193.0</td>\n",
       "      <td>1.0</td>\n",
       "    </tr>\n",
       "  </tbody>\n",
       "</table>\n",
       "</div>"
      ],
      "text/plain": [
       "                      mean     sd  hdi_3%  hdi_97%  mcse_mean  mcse_sd  \\\n",
       "hier_alphaAct_mu    -0.791  0.140  -1.055   -0.528      0.001    0.001   \n",
       "hier_alphaClr_mu    -0.047  0.167  -0.350    0.279      0.002    0.001   \n",
       "hier_weightAct_mu    0.299  0.119   0.072    0.517      0.001    0.001   \n",
       "hier_sensitivity_mu -3.429  0.090  -3.600   -3.262      0.001    0.001   \n",
       "hier_alphaAct_sd     0.486  0.056   0.380    0.590      0.000    0.000   \n",
       "\n",
       "                     ess_bulk  ess_tail  r_hat  \n",
       "hier_alphaAct_mu      13631.0   17492.0    1.0  \n",
       "hier_alphaClr_mu       8792.0   15440.0    1.0  \n",
       "hier_weightAct_mu      9048.0   14542.0    1.0  \n",
       "hier_sensitivity_mu    7321.0   11857.0    1.0  \n",
       "hier_alphaAct_sd      27111.0   20193.0    1.0  "
      ]
     },
     "execution_count": 3,
     "metadata": {},
     "output_type": "execute_result"
    }
   ],
   "source": [
    "az.summary(fit)[0:5]"
   ]
  },
  {
   "cell_type": "code",
   "execution_count": 4,
   "metadata": {},
   "outputs": [
    {
     "data": {
      "text/plain": [
       "{'lppd': -13108.6214459545,\n",
       " 'p_waic': 4041.2746410359514,\n",
       " 'waic': 34299.7921739809,\n",
       " 'waic_se': 1.929562785226239}"
      ]
     },
     "execution_count": 4,
     "metadata": {},
     "output_type": "execute_result"
    }
   ],
   "source": [
    "log_lik = fit['log_lik']\n",
    "utils.waic(log_likelihood=log_lik)"
   ]
  },
  {
   "cell_type": "markdown",
   "metadata": {},
   "source": [
    "### Model 2"
   ]
  },
  {
   "cell_type": "code",
   "execution_count": 5,
   "metadata": {},
   "outputs": [],
   "source": [
    "# Directory of pickle file\n",
    "pickelDir = '/mnt/projects/7TPD/bids/derivatives/fMRI_DA/data_BehModel/originalfMRIbehFiles/Model_secondOrder/hier/group13/pool/hierRL_PD_Model2.pkl'\n",
    "\"\"\"Loading the pickle file of model fit from the subject directory\"\"\"\n",
    "loadPkl = utils.load_pickle(load_path=pickelDir)\n",
    "fit = loadPkl['fit']"
   ]
  },
  {
   "cell_type": "code",
   "execution_count": 6,
   "metadata": {},
   "outputs": [
    {
     "data": {
      "text/html": [
       "<div>\n",
       "<style scoped>\n",
       "    .dataframe tbody tr th:only-of-type {\n",
       "        vertical-align: middle;\n",
       "    }\n",
       "\n",
       "    .dataframe tbody tr th {\n",
       "        vertical-align: top;\n",
       "    }\n",
       "\n",
       "    .dataframe thead th {\n",
       "        text-align: right;\n",
       "    }\n",
       "</style>\n",
       "<table border=\"1\" class=\"dataframe\">\n",
       "  <thead>\n",
       "    <tr style=\"text-align: right;\">\n",
       "      <th></th>\n",
       "      <th>mean</th>\n",
       "      <th>sd</th>\n",
       "      <th>hdi_3%</th>\n",
       "      <th>hdi_97%</th>\n",
       "      <th>mcse_mean</th>\n",
       "      <th>mcse_sd</th>\n",
       "      <th>ess_bulk</th>\n",
       "      <th>ess_tail</th>\n",
       "      <th>r_hat</th>\n",
       "    </tr>\n",
       "  </thead>\n",
       "  <tbody>\n",
       "    <tr>\n",
       "      <th>hier_alphaAct_mu</th>\n",
       "      <td>-0.627</td>\n",
       "      <td>0.138</td>\n",
       "      <td>-0.892</td>\n",
       "      <td>-0.368</td>\n",
       "      <td>0.002</td>\n",
       "      <td>0.001</td>\n",
       "      <td>6941.0</td>\n",
       "      <td>12430.0</td>\n",
       "      <td>1.0</td>\n",
       "    </tr>\n",
       "    <tr>\n",
       "      <th>hier_alphaClr_mu</th>\n",
       "      <td>-0.241</td>\n",
       "      <td>0.134</td>\n",
       "      <td>-0.489</td>\n",
       "      <td>0.016</td>\n",
       "      <td>0.002</td>\n",
       "      <td>0.001</td>\n",
       "      <td>7151.0</td>\n",
       "      <td>13531.0</td>\n",
       "      <td>1.0</td>\n",
       "    </tr>\n",
       "    <tr>\n",
       "      <th>hier_weightAct_mu[0]</th>\n",
       "      <td>1.584</td>\n",
       "      <td>0.255</td>\n",
       "      <td>1.108</td>\n",
       "      <td>2.047</td>\n",
       "      <td>0.002</td>\n",
       "      <td>0.002</td>\n",
       "      <td>12828.0</td>\n",
       "      <td>13245.0</td>\n",
       "      <td>1.0</td>\n",
       "    </tr>\n",
       "    <tr>\n",
       "      <th>hier_weightAct_mu[1]</th>\n",
       "      <td>-0.716</td>\n",
       "      <td>0.161</td>\n",
       "      <td>-1.020</td>\n",
       "      <td>-0.414</td>\n",
       "      <td>0.002</td>\n",
       "      <td>0.001</td>\n",
       "      <td>11475.0</td>\n",
       "      <td>15826.0</td>\n",
       "      <td>1.0</td>\n",
       "    </tr>\n",
       "    <tr>\n",
       "      <th>hier_sensitivity_mu</th>\n",
       "      <td>-3.300</td>\n",
       "      <td>0.088</td>\n",
       "      <td>-3.467</td>\n",
       "      <td>-3.137</td>\n",
       "      <td>0.001</td>\n",
       "      <td>0.001</td>\n",
       "      <td>4555.0</td>\n",
       "      <td>8829.0</td>\n",
       "      <td>1.0</td>\n",
       "    </tr>\n",
       "  </tbody>\n",
       "</table>\n",
       "</div>"
      ],
      "text/plain": [
       "                       mean     sd  hdi_3%  hdi_97%  mcse_mean  mcse_sd  \\\n",
       "hier_alphaAct_mu     -0.627  0.138  -0.892   -0.368      0.002    0.001   \n",
       "hier_alphaClr_mu     -0.241  0.134  -0.489    0.016      0.002    0.001   \n",
       "hier_weightAct_mu[0]  1.584  0.255   1.108    2.047      0.002    0.002   \n",
       "hier_weightAct_mu[1] -0.716  0.161  -1.020   -0.414      0.002    0.001   \n",
       "hier_sensitivity_mu  -3.300  0.088  -3.467   -3.137      0.001    0.001   \n",
       "\n",
       "                      ess_bulk  ess_tail  r_hat  \n",
       "hier_alphaAct_mu        6941.0   12430.0    1.0  \n",
       "hier_alphaClr_mu        7151.0   13531.0    1.0  \n",
       "hier_weightAct_mu[0]   12828.0   13245.0    1.0  \n",
       "hier_weightAct_mu[1]   11475.0   15826.0    1.0  \n",
       "hier_sensitivity_mu     4555.0    8829.0    1.0  "
      ]
     },
     "execution_count": 6,
     "metadata": {},
     "output_type": "execute_result"
    }
   ],
   "source": [
    "az.summary(fit)[0:5]"
   ]
  },
  {
   "cell_type": "code",
   "execution_count": 7,
   "metadata": {},
   "outputs": [
    {
     "data": {
      "text/plain": [
       "{'lppd': -11931.602927253181,\n",
       " 'p_waic': 5065.835455618183,\n",
       " 'waic': 33994.87676574273,\n",
       " 'waic_se': 2.2975048694371263}"
      ]
     },
     "execution_count": 7,
     "metadata": {},
     "output_type": "execute_result"
    }
   ],
   "source": [
    "log_lik = fit['log_lik']\n",
    "utils.waic(log_likelihood=log_lik)"
   ]
  },
  {
   "cell_type": "markdown",
   "metadata": {},
   "source": [
    "### Model 3"
   ]
  },
  {
   "cell_type": "code",
   "execution_count": 8,
   "metadata": {},
   "outputs": [],
   "source": [
    "# Directory of pickle file\n",
    "pickelDir = '/mnt/projects/7TPD/bids/derivatives/fMRI_DA/data_BehModel/originalfMRIbehFiles/Model_secondOrder/hier/group13/pool/hierRL_PD_Model3.pkl'\n",
    "\"\"\"Loading the pickle file of model fit from the subject directory\"\"\"\n",
    "loadPkl = utils.load_pickle(load_path=pickelDir)\n",
    "fit = loadPkl['fit']"
   ]
  },
  {
   "cell_type": "code",
   "execution_count": 9,
   "metadata": {},
   "outputs": [
    {
     "data": {
      "text/html": [
       "<div>\n",
       "<style scoped>\n",
       "    .dataframe tbody tr th:only-of-type {\n",
       "        vertical-align: middle;\n",
       "    }\n",
       "\n",
       "    .dataframe tbody tr th {\n",
       "        vertical-align: top;\n",
       "    }\n",
       "\n",
       "    .dataframe thead th {\n",
       "        text-align: right;\n",
       "    }\n",
       "</style>\n",
       "<table border=\"1\" class=\"dataframe\">\n",
       "  <thead>\n",
       "    <tr style=\"text-align: right;\">\n",
       "      <th></th>\n",
       "      <th>mean</th>\n",
       "      <th>sd</th>\n",
       "      <th>hdi_3%</th>\n",
       "      <th>hdi_97%</th>\n",
       "      <th>mcse_mean</th>\n",
       "      <th>mcse_sd</th>\n",
       "      <th>ess_bulk</th>\n",
       "      <th>ess_tail</th>\n",
       "      <th>r_hat</th>\n",
       "    </tr>\n",
       "  </thead>\n",
       "  <tbody>\n",
       "    <tr>\n",
       "      <th>hier_alphaAct_mu[0, 0]</th>\n",
       "      <td>-0.661</td>\n",
       "      <td>0.155</td>\n",
       "      <td>-0.947</td>\n",
       "      <td>-0.367</td>\n",
       "      <td>0.002</td>\n",
       "      <td>0.001</td>\n",
       "      <td>9052.0</td>\n",
       "      <td>13081.0</td>\n",
       "      <td>1.0</td>\n",
       "    </tr>\n",
       "    <tr>\n",
       "      <th>hier_alphaAct_mu[0, 1]</th>\n",
       "      <td>-2.346</td>\n",
       "      <td>0.453</td>\n",
       "      <td>-3.206</td>\n",
       "      <td>-1.524</td>\n",
       "      <td>0.003</td>\n",
       "      <td>0.002</td>\n",
       "      <td>18939.0</td>\n",
       "      <td>17341.0</td>\n",
       "      <td>1.0</td>\n",
       "    </tr>\n",
       "    <tr>\n",
       "      <th>hier_alphaAct_mu[1, 0]</th>\n",
       "      <td>-0.353</td>\n",
       "      <td>0.157</td>\n",
       "      <td>-0.648</td>\n",
       "      <td>-0.061</td>\n",
       "      <td>0.002</td>\n",
       "      <td>0.001</td>\n",
       "      <td>9018.0</td>\n",
       "      <td>13498.0</td>\n",
       "      <td>1.0</td>\n",
       "    </tr>\n",
       "    <tr>\n",
       "      <th>hier_alphaAct_mu[1, 1]</th>\n",
       "      <td>-1.755</td>\n",
       "      <td>0.409</td>\n",
       "      <td>-2.521</td>\n",
       "      <td>-1.005</td>\n",
       "      <td>0.003</td>\n",
       "      <td>0.002</td>\n",
       "      <td>15676.0</td>\n",
       "      <td>15369.0</td>\n",
       "      <td>1.0</td>\n",
       "    </tr>\n",
       "    <tr>\n",
       "      <th>hier_alphaClr_mu[0, 0]</th>\n",
       "      <td>0.451</td>\n",
       "      <td>0.821</td>\n",
       "      <td>-1.124</td>\n",
       "      <td>2.050</td>\n",
       "      <td>0.006</td>\n",
       "      <td>0.005</td>\n",
       "      <td>19511.0</td>\n",
       "      <td>15344.0</td>\n",
       "      <td>1.0</td>\n",
       "    </tr>\n",
       "  </tbody>\n",
       "</table>\n",
       "</div>"
      ],
      "text/plain": [
       "                         mean     sd  hdi_3%  hdi_97%  mcse_mean  mcse_sd  \\\n",
       "hier_alphaAct_mu[0, 0] -0.661  0.155  -0.947   -0.367      0.002    0.001   \n",
       "hier_alphaAct_mu[0, 1] -2.346  0.453  -3.206   -1.524      0.003    0.002   \n",
       "hier_alphaAct_mu[1, 0] -0.353  0.157  -0.648   -0.061      0.002    0.001   \n",
       "hier_alphaAct_mu[1, 1] -1.755  0.409  -2.521   -1.005      0.003    0.002   \n",
       "hier_alphaClr_mu[0, 0]  0.451  0.821  -1.124    2.050      0.006    0.005   \n",
       "\n",
       "                        ess_bulk  ess_tail  r_hat  \n",
       "hier_alphaAct_mu[0, 0]    9052.0   13081.0    1.0  \n",
       "hier_alphaAct_mu[0, 1]   18939.0   17341.0    1.0  \n",
       "hier_alphaAct_mu[1, 0]    9018.0   13498.0    1.0  \n",
       "hier_alphaAct_mu[1, 1]   15676.0   15369.0    1.0  \n",
       "hier_alphaClr_mu[0, 0]   19511.0   15344.0    1.0  "
      ]
     },
     "execution_count": 9,
     "metadata": {},
     "output_type": "execute_result"
    }
   ],
   "source": [
    "az.summary(fit)[0:5]"
   ]
  },
  {
   "cell_type": "code",
   "execution_count": 10,
   "metadata": {},
   "outputs": [
    {
     "data": {
      "text/plain": [
       "{'lppd': -11796.352792649772,\n",
       " 'p_waic': 4989.397833519057,\n",
       " 'waic': 33571.50125233766,\n",
       " 'waic_se': 2.28216607677386}"
      ]
     },
     "execution_count": 10,
     "metadata": {},
     "output_type": "execute_result"
    }
   ],
   "source": [
    "log_lik = fit['log_lik']\n",
    "utils.waic(log_likelihood=log_lik)"
   ]
  },
  {
   "cell_type": "markdown",
   "metadata": {},
   "source": [
    "### Model 4"
   ]
  },
  {
   "cell_type": "code",
   "execution_count": 13,
   "metadata": {},
   "outputs": [],
   "source": [
    "# Directory of pickle file\n",
    "pickelDir = '/mnt/projects/7TPD/bids/derivatives/fMRI_DA/data_BehModel/originalfMRIbehFiles/Model_secondOrder/hier/group13/pool/hierRL_PD_Model4.pkl'\n",
    "\"\"\"Loading the pickle file of model fit from the subject directory\"\"\"\n",
    "loadPkl = utils.load_pickle(load_path=pickelDir)\n",
    "fit = loadPkl['fit']"
   ]
  },
  {
   "cell_type": "code",
   "execution_count": 15,
   "metadata": {},
   "outputs": [
    {
     "data": {
      "text/html": [
       "<div>\n",
       "<style scoped>\n",
       "    .dataframe tbody tr th:only-of-type {\n",
       "        vertical-align: middle;\n",
       "    }\n",
       "\n",
       "    .dataframe tbody tr th {\n",
       "        vertical-align: top;\n",
       "    }\n",
       "\n",
       "    .dataframe thead th {\n",
       "        text-align: right;\n",
       "    }\n",
       "</style>\n",
       "<table border=\"1\" class=\"dataframe\">\n",
       "  <thead>\n",
       "    <tr style=\"text-align: right;\">\n",
       "      <th></th>\n",
       "      <th>mean</th>\n",
       "      <th>sd</th>\n",
       "      <th>hdi_3%</th>\n",
       "      <th>hdi_97%</th>\n",
       "      <th>mcse_mean</th>\n",
       "      <th>mcse_sd</th>\n",
       "      <th>ess_bulk</th>\n",
       "      <th>ess_tail</th>\n",
       "      <th>r_hat</th>\n",
       "    </tr>\n",
       "  </thead>\n",
       "  <tbody>\n",
       "    <tr>\n",
       "      <th>hier_alphaAct_mu[0, 0]</th>\n",
       "      <td>-0.671</td>\n",
       "      <td>0.153</td>\n",
       "      <td>-0.961</td>\n",
       "      <td>-0.384</td>\n",
       "      <td>0.002</td>\n",
       "      <td>0.001</td>\n",
       "      <td>9008.0</td>\n",
       "      <td>14420.0</td>\n",
       "      <td>1.0</td>\n",
       "    </tr>\n",
       "    <tr>\n",
       "      <th>hier_alphaAct_mu[0, 1]</th>\n",
       "      <td>-2.368</td>\n",
       "      <td>0.452</td>\n",
       "      <td>-3.228</td>\n",
       "      <td>-1.530</td>\n",
       "      <td>0.003</td>\n",
       "      <td>0.002</td>\n",
       "      <td>18221.0</td>\n",
       "      <td>15648.0</td>\n",
       "      <td>1.0</td>\n",
       "    </tr>\n",
       "    <tr>\n",
       "      <th>hier_alphaAct_mu[1, 0]</th>\n",
       "      <td>-0.354</td>\n",
       "      <td>0.158</td>\n",
       "      <td>-0.652</td>\n",
       "      <td>-0.055</td>\n",
       "      <td>0.002</td>\n",
       "      <td>0.001</td>\n",
       "      <td>7582.0</td>\n",
       "      <td>12960.0</td>\n",
       "      <td>1.0</td>\n",
       "    </tr>\n",
       "    <tr>\n",
       "      <th>hier_alphaAct_mu[1, 1]</th>\n",
       "      <td>-1.927</td>\n",
       "      <td>0.401</td>\n",
       "      <td>-2.663</td>\n",
       "      <td>-1.193</td>\n",
       "      <td>0.003</td>\n",
       "      <td>0.002</td>\n",
       "      <td>15753.0</td>\n",
       "      <td>14473.0</td>\n",
       "      <td>1.0</td>\n",
       "    </tr>\n",
       "    <tr>\n",
       "      <th>hier_alphaClr_mu[0, 0]</th>\n",
       "      <td>0.773</td>\n",
       "      <td>0.807</td>\n",
       "      <td>-0.719</td>\n",
       "      <td>2.361</td>\n",
       "      <td>0.006</td>\n",
       "      <td>0.005</td>\n",
       "      <td>16692.0</td>\n",
       "      <td>12741.0</td>\n",
       "      <td>1.0</td>\n",
       "    </tr>\n",
       "  </tbody>\n",
       "</table>\n",
       "</div>"
      ],
      "text/plain": [
       "                         mean     sd  hdi_3%  hdi_97%  mcse_mean  mcse_sd  \\\n",
       "hier_alphaAct_mu[0, 0] -0.671  0.153  -0.961   -0.384      0.002    0.001   \n",
       "hier_alphaAct_mu[0, 1] -2.368  0.452  -3.228   -1.530      0.003    0.002   \n",
       "hier_alphaAct_mu[1, 0] -0.354  0.158  -0.652   -0.055      0.002    0.001   \n",
       "hier_alphaAct_mu[1, 1] -1.927  0.401  -2.663   -1.193      0.003    0.002   \n",
       "hier_alphaClr_mu[0, 0]  0.773  0.807  -0.719    2.361      0.006    0.005   \n",
       "\n",
       "                        ess_bulk  ess_tail  r_hat  \n",
       "hier_alphaAct_mu[0, 0]    9008.0   14420.0    1.0  \n",
       "hier_alphaAct_mu[0, 1]   18221.0   15648.0    1.0  \n",
       "hier_alphaAct_mu[1, 0]    7582.0   12960.0    1.0  \n",
       "hier_alphaAct_mu[1, 1]   15753.0   14473.0    1.0  \n",
       "hier_alphaClr_mu[0, 0]   16692.0   12741.0    1.0  "
      ]
     },
     "execution_count": 15,
     "metadata": {},
     "output_type": "execute_result"
    }
   ],
   "source": [
    "az.summary(fit)[0:5]"
   ]
  },
  {
   "cell_type": "code",
   "execution_count": 14,
   "metadata": {},
   "outputs": [
    {
     "data": {
      "text/plain": [
       "{'lppd': -11765.869678754496,\n",
       " 'p_waic': 5011.70268159204,\n",
       " 'waic': 33555.144720693075,\n",
       " 'waic_se': 2.2773655360011142}"
      ]
     },
     "execution_count": 14,
     "metadata": {},
     "output_type": "execute_result"
    }
   ],
   "source": [
    "log_lik = fit['log_lik']\n",
    "utils.waic(log_likelihood=log_lik)"
   ]
  },
  {
   "cell_type": "code",
   "execution_count": 95,
   "metadata": {},
   "outputs": [
    {
     "data": {
      "text/plain": [
       "(0.0, 1.0)"
      ]
     },
     "execution_count": 95,
     "metadata": {},
     "output_type": "execute_result"
    },
    {
     "data": {
      "image/png": "[encoded data removed]",
      "text/plain": [
       "<Figure size 1500x400 with 2 Axes>"
      ]
     },
     "metadata": {},
     "output_type": "display_data"
    }
   ],
   "source": [
    "# Weghtening\n",
    "weightAct_hier = fit[\"transfer_hier_weightAct_mu\"] \n",
    "transfer_weightAct_parts = fit[\"transfer_weightAct\"]\n",
    "\n",
    "# Figure of model fit results in two column and two rows\n",
    "fig = plt.figure(figsize=(15, 5), tight_layout=True)\n",
    "rows = 1\n",
    "columns = 2\n",
    "\n",
    "fig.add_subplot(rows, columns, 1)\n",
    "sns.histplot(weightAct_hier[0], kde=True, stat='density', bins=100)\n",
    "sns.kdeplot(transfer_weightAct_parts[0, 0,: ].T, alpha = .3, common_norm=False, color='gray', label ='individual')\n",
    "for i in range(1, transfer_weightAct_parts.shape[0]):\n",
    "    sns.kdeplot(transfer_weightAct_parts[i, 0,: ].T, alpha = .3, common_norm=False, color='gray')\n",
    "plt.legend(['group', 'individual'])\n",
    "plt.title('Weightening fro Action value learning', fontsize=12)\n",
    "plt.ylabel('Density', fontsize=12)\n",
    "plt.xlabel('$w_{(A)}$', fontsize=14)\n",
    "plt.xlim(.3, 1) \n",
    "\n",
    "\n",
    "fig.add_subplot(rows, columns, 2)\n",
    "sns.histplot(weightAct_hier[1], kde=True, stat='density', bins=100, color='red')\n",
    "sns.kdeplot(transfer_weightAct_parts[0, 1,: ].T, alpha = .8, common_norm=False, color='gray', label ='individual')\n",
    "for i in range(1, transfer_weightAct_parts.shape[0]):\n",
    "    sns.kdeplot(transfer_weightAct_parts[i, 1,: ].T, alpha = .8, common_norm=False, color='gray')\n",
    "plt.legend(['group', 'individual'])\n",
    "plt.title('Weightening fro Color value learning', fontsize=12)\n",
    "plt.ylabel('Density', fontsize=12)\n",
    "plt.xlabel('$w_{(A)}$', fontsize=14)\n",
    "plt.xlim(0, 1) \n"
   ]
  },
  {
   "cell_type": "markdown",
   "metadata": {},
   "source": [
    "### Model 5\n",
    "\n"
   ]
  },
  {
   "cell_type": "code",
   "execution_count": 17,
   "metadata": {},
   "outputs": [],
   "source": [
    "# Directory of pickle file\n",
    "pickelDir = '/mnt/projects/7TPD/bids/derivatives/fMRI_DA/data_BehModel/originalfMRIbehFiles/Model_secondOrder/hier/group13/pool/hierRL_PD_Model5.pkl'\n",
    "\"\"\"Loading the pickle file of model fit from the subject directory\"\"\"\n",
    "loadPkl = utils.load_pickle(load_path=pickelDir)\n",
    "fit = loadPkl['fit']"
   ]
  },
  {
   "cell_type": "code",
   "execution_count": 19,
   "metadata": {},
   "outputs": [
    {
     "data": {
      "text/html": [
       "<div>\n",
       "<style scoped>\n",
       "    .dataframe tbody tr th:only-of-type {\n",
       "        vertical-align: middle;\n",
       "    }\n",
       "\n",
       "    .dataframe tbody tr th {\n",
       "        vertical-align: top;\n",
       "    }\n",
       "\n",
       "    .dataframe thead th {\n",
       "        text-align: right;\n",
       "    }\n",
       "</style>\n",
       "<table border=\"1\" class=\"dataframe\">\n",
       "  <thead>\n",
       "    <tr style=\"text-align: right;\">\n",
       "      <th></th>\n",
       "      <th>mean</th>\n",
       "      <th>sd</th>\n",
       "      <th>hdi_3%</th>\n",
       "      <th>hdi_97%</th>\n",
       "      <th>mcse_mean</th>\n",
       "      <th>mcse_sd</th>\n",
       "      <th>ess_bulk</th>\n",
       "      <th>ess_tail</th>\n",
       "      <th>r_hat</th>\n",
       "    </tr>\n",
       "  </thead>\n",
       "  <tbody>\n",
       "    <tr>\n",
       "      <th>hier_alphaAct_mu[0]</th>\n",
       "      <td>-0.505</td>\n",
       "      <td>0.132</td>\n",
       "      <td>-0.750</td>\n",
       "      <td>-0.255</td>\n",
       "      <td>0.002</td>\n",
       "      <td>0.001</td>\n",
       "      <td>7631.0</td>\n",
       "      <td>12524.0</td>\n",
       "      <td>1.0</td>\n",
       "    </tr>\n",
       "    <tr>\n",
       "      <th>hier_alphaAct_mu[1]</th>\n",
       "      <td>-2.079</td>\n",
       "      <td>0.373</td>\n",
       "      <td>-2.796</td>\n",
       "      <td>-1.428</td>\n",
       "      <td>0.003</td>\n",
       "      <td>0.002</td>\n",
       "      <td>16445.0</td>\n",
       "      <td>15821.0</td>\n",
       "      <td>1.0</td>\n",
       "    </tr>\n",
       "    <tr>\n",
       "      <th>hier_alphaClr_mu[0]</th>\n",
       "      <td>0.204</td>\n",
       "      <td>0.750</td>\n",
       "      <td>-1.212</td>\n",
       "      <td>1.677</td>\n",
       "      <td>0.006</td>\n",
       "      <td>0.004</td>\n",
       "      <td>14211.0</td>\n",
       "      <td>14960.0</td>\n",
       "      <td>1.0</td>\n",
       "    </tr>\n",
       "    <tr>\n",
       "      <th>hier_alphaClr_mu[1]</th>\n",
       "      <td>-0.225</td>\n",
       "      <td>0.138</td>\n",
       "      <td>-0.492</td>\n",
       "      <td>0.031</td>\n",
       "      <td>0.002</td>\n",
       "      <td>0.001</td>\n",
       "      <td>6563.0</td>\n",
       "      <td>12825.0</td>\n",
       "      <td>1.0</td>\n",
       "    </tr>\n",
       "    <tr>\n",
       "      <th>hier_weightAct_mu[0, 0]</th>\n",
       "      <td>1.498</td>\n",
       "      <td>0.326</td>\n",
       "      <td>0.945</td>\n",
       "      <td>2.099</td>\n",
       "      <td>0.003</td>\n",
       "      <td>0.003</td>\n",
       "      <td>11488.0</td>\n",
       "      <td>8944.0</td>\n",
       "      <td>1.0</td>\n",
       "    </tr>\n",
       "  </tbody>\n",
       "</table>\n",
       "</div>"
      ],
      "text/plain": [
       "                          mean     sd  hdi_3%  hdi_97%  mcse_mean  mcse_sd  \\\n",
       "hier_alphaAct_mu[0]     -0.505  0.132  -0.750   -0.255      0.002    0.001   \n",
       "hier_alphaAct_mu[1]     -2.079  0.373  -2.796   -1.428      0.003    0.002   \n",
       "hier_alphaClr_mu[0]      0.204  0.750  -1.212    1.677      0.006    0.004   \n",
       "hier_alphaClr_mu[1]     -0.225  0.138  -0.492    0.031      0.002    0.001   \n",
       "hier_weightAct_mu[0, 0]  1.498  0.326   0.945    2.099      0.003    0.003   \n",
       "\n",
       "                         ess_bulk  ess_tail  r_hat  \n",
       "hier_alphaAct_mu[0]        7631.0   12524.0    1.0  \n",
       "hier_alphaAct_mu[1]       16445.0   15821.0    1.0  \n",
       "hier_alphaClr_mu[0]       14211.0   14960.0    1.0  \n",
       "hier_alphaClr_mu[1]        6563.0   12825.0    1.0  \n",
       "hier_weightAct_mu[0, 0]   11488.0    8944.0    1.0  "
      ]
     },
     "execution_count": 19,
     "metadata": {},
     "output_type": "execute_result"
    }
   ],
   "source": [
    "az.summary(fit)[0:5]"
   ]
  },
  {
   "cell_type": "code",
   "execution_count": 18,
   "metadata": {},
   "outputs": [
    {
     "data": {
      "text/plain": [
       "{'lppd': -11911.606856249351,\n",
       " 'p_waic': 5049.020883800279,\n",
       " 'waic': 33921.25548009926,\n",
       " 'waic_se': 2.2984920389768866}"
      ]
     },
     "execution_count": 18,
     "metadata": {},
     "output_type": "execute_result"
    }
   ],
   "source": [
    "log_lik = fit['log_lik']\n",
    "utils.waic(log_likelihood=log_lik)"
   ]
  },
  {
   "cell_type": "markdown",
   "metadata": {},
   "source": [
    "### Model 6"
   ]
  },
  {
   "cell_type": "code",
   "execution_count": 21,
   "metadata": {},
   "outputs": [],
   "source": [
    "# Directory of pickle file\n",
    "pickelDir = '/mnt/projects/7TPD/bids/derivatives/fMRI_DA/data_BehModel/originalfMRIbehFiles/Model_secondOrder/hier/group13/pool/hierRL_PD_Model6.pkl'\n",
    "\"\"\"Loading the pickle file of model fit from the subject directory\"\"\"\n",
    "loadPkl = utils.load_pickle(load_path=pickelDir)\n",
    "fit = loadPkl['fit']"
   ]
  },
  {
   "cell_type": "code",
   "execution_count": 23,
   "metadata": {},
   "outputs": [
    {
     "data": {
      "text/html": [
       "<div>\n",
       "<style scoped>\n",
       "    .dataframe tbody tr th:only-of-type {\n",
       "        vertical-align: middle;\n",
       "    }\n",
       "\n",
       "    .dataframe tbody tr th {\n",
       "        vertical-align: top;\n",
       "    }\n",
       "\n",
       "    .dataframe thead th {\n",
       "        text-align: right;\n",
       "    }\n",
       "</style>\n",
       "<table border=\"1\" class=\"dataframe\">\n",
       "  <thead>\n",
       "    <tr style=\"text-align: right;\">\n",
       "      <th></th>\n",
       "      <th>mean</th>\n",
       "      <th>sd</th>\n",
       "      <th>hdi_3%</th>\n",
       "      <th>hdi_97%</th>\n",
       "      <th>mcse_mean</th>\n",
       "      <th>mcse_sd</th>\n",
       "      <th>ess_bulk</th>\n",
       "      <th>ess_tail</th>\n",
       "      <th>r_hat</th>\n",
       "    </tr>\n",
       "  </thead>\n",
       "  <tbody>\n",
       "    <tr>\n",
       "      <th>hier_alphaAct_mu[0, 0]</th>\n",
       "      <td>-0.639</td>\n",
       "      <td>0.153</td>\n",
       "      <td>-0.925</td>\n",
       "      <td>-0.352</td>\n",
       "      <td>0.002</td>\n",
       "      <td>0.001</td>\n",
       "      <td>9316.0</td>\n",
       "      <td>13311.0</td>\n",
       "      <td>1.0</td>\n",
       "    </tr>\n",
       "    <tr>\n",
       "      <th>hier_alphaAct_mu[0, 1]</th>\n",
       "      <td>-2.276</td>\n",
       "      <td>0.454</td>\n",
       "      <td>-3.201</td>\n",
       "      <td>-1.508</td>\n",
       "      <td>0.003</td>\n",
       "      <td>0.003</td>\n",
       "      <td>17789.0</td>\n",
       "      <td>15430.0</td>\n",
       "      <td>1.0</td>\n",
       "    </tr>\n",
       "    <tr>\n",
       "      <th>hier_alphaAct_mu[1, 0]</th>\n",
       "      <td>-0.344</td>\n",
       "      <td>0.160</td>\n",
       "      <td>-0.638</td>\n",
       "      <td>-0.038</td>\n",
       "      <td>0.002</td>\n",
       "      <td>0.001</td>\n",
       "      <td>7569.0</td>\n",
       "      <td>13343.0</td>\n",
       "      <td>1.0</td>\n",
       "    </tr>\n",
       "    <tr>\n",
       "      <th>hier_alphaAct_mu[1, 1]</th>\n",
       "      <td>-1.821</td>\n",
       "      <td>0.384</td>\n",
       "      <td>-2.534</td>\n",
       "      <td>-1.105</td>\n",
       "      <td>0.003</td>\n",
       "      <td>0.002</td>\n",
       "      <td>16036.0</td>\n",
       "      <td>16468.0</td>\n",
       "      <td>1.0</td>\n",
       "    </tr>\n",
       "    <tr>\n",
       "      <th>hier_alphaClr_mu[0, 0]</th>\n",
       "      <td>0.415</td>\n",
       "      <td>0.674</td>\n",
       "      <td>-0.823</td>\n",
       "      <td>1.723</td>\n",
       "      <td>0.005</td>\n",
       "      <td>0.004</td>\n",
       "      <td>17595.0</td>\n",
       "      <td>16454.0</td>\n",
       "      <td>1.0</td>\n",
       "    </tr>\n",
       "  </tbody>\n",
       "</table>\n",
       "</div>"
      ],
      "text/plain": [
       "                         mean     sd  hdi_3%  hdi_97%  mcse_mean  mcse_sd  \\\n",
       "hier_alphaAct_mu[0, 0] -0.639  0.153  -0.925   -0.352      0.002    0.001   \n",
       "hier_alphaAct_mu[0, 1] -2.276  0.454  -3.201   -1.508      0.003    0.003   \n",
       "hier_alphaAct_mu[1, 0] -0.344  0.160  -0.638   -0.038      0.002    0.001   \n",
       "hier_alphaAct_mu[1, 1] -1.821  0.384  -2.534   -1.105      0.003    0.002   \n",
       "hier_alphaClr_mu[0, 0]  0.415  0.674  -0.823    1.723      0.005    0.004   \n",
       "\n",
       "                        ess_bulk  ess_tail  r_hat  \n",
       "hier_alphaAct_mu[0, 0]    9316.0   13311.0    1.0  \n",
       "hier_alphaAct_mu[0, 1]   17789.0   15430.0    1.0  \n",
       "hier_alphaAct_mu[1, 0]    7569.0   13343.0    1.0  \n",
       "hier_alphaAct_mu[1, 1]   16036.0   16468.0    1.0  \n",
       "hier_alphaClr_mu[0, 0]   17595.0   16454.0    1.0  "
      ]
     },
     "execution_count": 23,
     "metadata": {},
     "output_type": "execute_result"
    }
   ],
   "source": [
    "az.summary(fit)[0:5]"
   ]
  },
  {
   "cell_type": "code",
   "execution_count": 22,
   "metadata": {},
   "outputs": [
    {
     "data": {
      "text/plain": [
       "{'lppd': -11867.154055838493,\n",
       " 'p_waic': 5043.7999614225,\n",
       " 'waic': 33821.908034521985,\n",
       " 'waic_se': 2.2892888196667274}"
      ]
     },
     "execution_count": 22,
     "metadata": {},
     "output_type": "execute_result"
    }
   ],
   "source": [
    "log_lik = fit['log_lik']\n",
    "utils.waic(log_likelihood=log_lik)"
   ]
  },
  {
   "cell_type": "markdown",
   "metadata": {},
   "source": [
    "### Model 7"
   ]
  },
  {
   "cell_type": "code",
   "execution_count": 3,
   "metadata": {},
   "outputs": [],
   "source": [
    "# Directory of pickle file\n",
    "pickelDir = '/mnt/projects/7TPD/bids/derivatives/fMRI_DA/data_BehModel/originalfMRIbehFiles/Model_secondOrder/hier/group13/pool/hierRL_PD_Model7.pkl'\n",
    "\"\"\"Loading the pickle file of model fit from the subject directory\"\"\"\n",
    "loadPkl = utils.load_pickle(load_path=pickelDir)\n",
    "fit = loadPkl['fit']"
   ]
  },
  {
   "cell_type": "code",
   "execution_count": 5,
   "metadata": {},
   "outputs": [
    {
     "data": {
      "text/html": [
       "<div>\n",
       "<style scoped>\n",
       "    .dataframe tbody tr th:only-of-type {\n",
       "        vertical-align: middle;\n",
       "    }\n",
       "\n",
       "    .dataframe tbody tr th {\n",
       "        vertical-align: top;\n",
       "    }\n",
       "\n",
       "    .dataframe thead th {\n",
       "        text-align: right;\n",
       "    }\n",
       "</style>\n",
       "<table border=\"1\" class=\"dataframe\">\n",
       "  <thead>\n",
       "    <tr style=\"text-align: right;\">\n",
       "      <th></th>\n",
       "      <th>mean</th>\n",
       "      <th>sd</th>\n",
       "      <th>hdi_3%</th>\n",
       "      <th>hdi_97%</th>\n",
       "      <th>mcse_mean</th>\n",
       "      <th>mcse_sd</th>\n",
       "      <th>ess_bulk</th>\n",
       "      <th>ess_tail</th>\n",
       "      <th>r_hat</th>\n",
       "    </tr>\n",
       "  </thead>\n",
       "  <tbody>\n",
       "    <tr>\n",
       "      <th>hier_alphaAct_mu[0]</th>\n",
       "      <td>-0.542</td>\n",
       "      <td>0.135</td>\n",
       "      <td>-0.798</td>\n",
       "      <td>-0.291</td>\n",
       "      <td>0.002</td>\n",
       "      <td>0.001</td>\n",
       "      <td>6285.0</td>\n",
       "      <td>10918.0</td>\n",
       "      <td>1.0</td>\n",
       "    </tr>\n",
       "    <tr>\n",
       "      <th>hier_alphaAct_mu[1]</th>\n",
       "      <td>-2.289</td>\n",
       "      <td>0.382</td>\n",
       "      <td>-2.994</td>\n",
       "      <td>-1.586</td>\n",
       "      <td>0.003</td>\n",
       "      <td>0.002</td>\n",
       "      <td>14313.0</td>\n",
       "      <td>12936.0</td>\n",
       "      <td>1.0</td>\n",
       "    </tr>\n",
       "    <tr>\n",
       "      <th>hier_alphaClr_mu[0, 0]</th>\n",
       "      <td>0.799</td>\n",
       "      <td>0.808</td>\n",
       "      <td>-0.714</td>\n",
       "      <td>2.393</td>\n",
       "      <td>0.007</td>\n",
       "      <td>0.005</td>\n",
       "      <td>16242.0</td>\n",
       "      <td>10800.0</td>\n",
       "      <td>1.0</td>\n",
       "    </tr>\n",
       "    <tr>\n",
       "      <th>hier_alphaClr_mu[0, 1]</th>\n",
       "      <td>-0.291</td>\n",
       "      <td>0.142</td>\n",
       "      <td>-0.554</td>\n",
       "      <td>-0.018</td>\n",
       "      <td>0.001</td>\n",
       "      <td>0.001</td>\n",
       "      <td>10664.0</td>\n",
       "      <td>15344.0</td>\n",
       "      <td>1.0</td>\n",
       "    </tr>\n",
       "    <tr>\n",
       "      <th>hier_alphaClr_mu[1, 0]</th>\n",
       "      <td>0.658</td>\n",
       "      <td>0.895</td>\n",
       "      <td>-1.062</td>\n",
       "      <td>2.353</td>\n",
       "      <td>0.009</td>\n",
       "      <td>0.006</td>\n",
       "      <td>9980.0</td>\n",
       "      <td>12920.0</td>\n",
       "      <td>1.0</td>\n",
       "    </tr>\n",
       "  </tbody>\n",
       "</table>\n",
       "</div>"
      ],
      "text/plain": [
       "                         mean     sd  hdi_3%  hdi_97%  mcse_mean  mcse_sd  \\\n",
       "hier_alphaAct_mu[0]    -0.542  0.135  -0.798   -0.291      0.002    0.001   \n",
       "hier_alphaAct_mu[1]    -2.289  0.382  -2.994   -1.586      0.003    0.002   \n",
       "hier_alphaClr_mu[0, 0]  0.799  0.808  -0.714    2.393      0.007    0.005   \n",
       "hier_alphaClr_mu[0, 1] -0.291  0.142  -0.554   -0.018      0.001    0.001   \n",
       "hier_alphaClr_mu[1, 0]  0.658  0.895  -1.062    2.353      0.009    0.006   \n",
       "\n",
       "                        ess_bulk  ess_tail  r_hat  \n",
       "hier_alphaAct_mu[0]       6285.0   10918.0    1.0  \n",
       "hier_alphaAct_mu[1]      14313.0   12936.0    1.0  \n",
       "hier_alphaClr_mu[0, 0]   16242.0   10800.0    1.0  \n",
       "hier_alphaClr_mu[0, 1]   10664.0   15344.0    1.0  \n",
       "hier_alphaClr_mu[1, 0]    9980.0   12920.0    1.0  "
      ]
     },
     "execution_count": 5,
     "metadata": {},
     "output_type": "execute_result"
    }
   ],
   "source": [
    "az.summary(fit)[0:5]"
   ]
  },
  {
   "cell_type": "code",
   "execution_count": 4,
   "metadata": {},
   "outputs": [
    {
     "data": {
      "text/plain": [
       "{'lppd': -11800.845774670337,\n",
       " 'p_waic': 4993.266857977451,\n",
       " 'waic': 33588.22526529558,\n",
       " 'waic_se': 2.2711555160801264}"
      ]
     },
     "execution_count": 4,
     "metadata": {},
     "output_type": "execute_result"
    }
   ],
   "source": [
    "log_lik = fit['log_lik']\n",
    "utils.waic(log_likelihood=log_lik)"
   ]
  },
  {
   "cell_type": "markdown",
   "metadata": {},
   "source": [
    "### Model 8"
   ]
  },
  {
   "cell_type": "code",
   "execution_count": 6,
   "metadata": {},
   "outputs": [],
   "source": [
    "# Directory of pickle file\n",
    "pickelDir = '/mnt/projects/7TPD/bids/derivatives/fMRI_DA/data_BehModel/originalfMRIbehFiles/Model_secondOrder/hier/group13/pool/hierRL_PD_Model8.pkl'\n",
    "\"\"\"Loading the pickle file of model fit from the subject directory\"\"\"\n",
    "loadPkl = utils.load_pickle(load_path=pickelDir)\n",
    "fit = loadPkl['fit']"
   ]
  },
  {
   "cell_type": "code",
   "execution_count": null,
   "metadata": {},
   "outputs": [],
   "source": [
    "az.summary(fit)[0:5]"
   ]
  },
  {
   "cell_type": "code",
   "execution_count": 7,
   "metadata": {},
   "outputs": [
    {
     "data": {
      "text/plain": [
       "{'lppd': -11742.499948327903,\n",
       " 'p_waic': 5039.568519984123,\n",
       " 'waic': 33564.136936624054,\n",
       " 'waic_se': 2.2952430197466556}"
      ]
     },
     "execution_count": 7,
     "metadata": {},
     "output_type": "execute_result"
    }
   ],
   "source": [
    "log_lik = fit['log_lik']\n",
    "utils.waic(log_likelihood=log_lik)"
   ]
  },
  {
   "cell_type": "markdown",
   "metadata": {},
   "source": [
    "### Model 9"
   ]
  },
  {
   "cell_type": "code",
   "execution_count": 8,
   "metadata": {},
   "outputs": [],
   "source": [
    "# Directory of pickle file\n",
    "pickelDir = '/mnt/projects/7TPD/bids/derivatives/fMRI_DA/data_BehModel/originalfMRIbehFiles/Model_secondOrder/hier/group13/pool/hierRL_PD_Model9.pkl'\n",
    "\"\"\"Loading the pickle file of model fit from the subject directory\"\"\"\n",
    "loadPkl = utils.load_pickle(load_path=pickelDir)\n",
    "fit = loadPkl['fit']"
   ]
  },
  {
   "cell_type": "code",
   "execution_count": 10,
   "metadata": {},
   "outputs": [
    {
     "data": {
      "text/html": [
       "<div>\n",
       "<style scoped>\n",
       "    .dataframe tbody tr th:only-of-type {\n",
       "        vertical-align: middle;\n",
       "    }\n",
       "\n",
       "    .dataframe tbody tr th {\n",
       "        vertical-align: top;\n",
       "    }\n",
       "\n",
       "    .dataframe thead th {\n",
       "        text-align: right;\n",
       "    }\n",
       "</style>\n",
       "<table border=\"1\" class=\"dataframe\">\n",
       "  <thead>\n",
       "    <tr style=\"text-align: right;\">\n",
       "      <th></th>\n",
       "      <th>mean</th>\n",
       "      <th>sd</th>\n",
       "      <th>hdi_3%</th>\n",
       "      <th>hdi_97%</th>\n",
       "      <th>mcse_mean</th>\n",
       "      <th>mcse_sd</th>\n",
       "      <th>ess_bulk</th>\n",
       "      <th>ess_tail</th>\n",
       "      <th>r_hat</th>\n",
       "    </tr>\n",
       "  </thead>\n",
       "  <tbody>\n",
       "    <tr>\n",
       "      <th>hier_alphaAct_mu[0, 0]</th>\n",
       "      <td>-0.638</td>\n",
       "      <td>0.153</td>\n",
       "      <td>-0.921</td>\n",
       "      <td>-0.350</td>\n",
       "      <td>0.002</td>\n",
       "      <td>0.001</td>\n",
       "      <td>10244.0</td>\n",
       "      <td>15778.0</td>\n",
       "      <td>1.0</td>\n",
       "    </tr>\n",
       "    <tr>\n",
       "      <th>hier_alphaAct_mu[0, 1]</th>\n",
       "      <td>-2.271</td>\n",
       "      <td>0.463</td>\n",
       "      <td>-3.149</td>\n",
       "      <td>-1.438</td>\n",
       "      <td>0.003</td>\n",
       "      <td>0.002</td>\n",
       "      <td>21079.0</td>\n",
       "      <td>17207.0</td>\n",
       "      <td>1.0</td>\n",
       "    </tr>\n",
       "    <tr>\n",
       "      <th>hier_alphaAct_mu[1, 0]</th>\n",
       "      <td>-0.384</td>\n",
       "      <td>0.154</td>\n",
       "      <td>-0.666</td>\n",
       "      <td>-0.088</td>\n",
       "      <td>0.002</td>\n",
       "      <td>0.001</td>\n",
       "      <td>8077.0</td>\n",
       "      <td>14134.0</td>\n",
       "      <td>1.0</td>\n",
       "    </tr>\n",
       "    <tr>\n",
       "      <th>hier_alphaAct_mu[1, 1]</th>\n",
       "      <td>-1.903</td>\n",
       "      <td>0.379</td>\n",
       "      <td>-2.631</td>\n",
       "      <td>-1.241</td>\n",
       "      <td>0.003</td>\n",
       "      <td>0.002</td>\n",
       "      <td>14744.0</td>\n",
       "      <td>14657.0</td>\n",
       "      <td>1.0</td>\n",
       "    </tr>\n",
       "    <tr>\n",
       "      <th>hier_alphaClr_mu[0, 0]</th>\n",
       "      <td>0.689</td>\n",
       "      <td>0.825</td>\n",
       "      <td>-0.915</td>\n",
       "      <td>2.252</td>\n",
       "      <td>0.007</td>\n",
       "      <td>0.005</td>\n",
       "      <td>16716.0</td>\n",
       "      <td>12284.0</td>\n",
       "      <td>1.0</td>\n",
       "    </tr>\n",
       "  </tbody>\n",
       "</table>\n",
       "</div>"
      ],
      "text/plain": [
       "                         mean     sd  hdi_3%  hdi_97%  mcse_mean  mcse_sd  \\\n",
       "hier_alphaAct_mu[0, 0] -0.638  0.153  -0.921   -0.350      0.002    0.001   \n",
       "hier_alphaAct_mu[0, 1] -2.271  0.463  -3.149   -1.438      0.003    0.002   \n",
       "hier_alphaAct_mu[1, 0] -0.384  0.154  -0.666   -0.088      0.002    0.001   \n",
       "hier_alphaAct_mu[1, 1] -1.903  0.379  -2.631   -1.241      0.003    0.002   \n",
       "hier_alphaClr_mu[0, 0]  0.689  0.825  -0.915    2.252      0.007    0.005   \n",
       "\n",
       "                        ess_bulk  ess_tail  r_hat  \n",
       "hier_alphaAct_mu[0, 0]   10244.0   15778.0    1.0  \n",
       "hier_alphaAct_mu[0, 1]   21079.0   17207.0    1.0  \n",
       "hier_alphaAct_mu[1, 0]    8077.0   14134.0    1.0  \n",
       "hier_alphaAct_mu[1, 1]   14744.0   14657.0    1.0  \n",
       "hier_alphaClr_mu[0, 0]   16716.0   12284.0    1.0  "
      ]
     },
     "execution_count": 10,
     "metadata": {},
     "output_type": "execute_result"
    }
   ],
   "source": [
    "az.summary(fit)[0:5]"
   ]
  },
  {
   "cell_type": "code",
   "execution_count": 9,
   "metadata": {},
   "outputs": [
    {
     "data": {
      "text/plain": [
       "{'lppd': -11897.08634112901,\n",
       " 'p_waic': 5034.8286677464075,\n",
       " 'waic': 33863.830017750835,\n",
       " 'waic_se': 2.2856839210961373}"
      ]
     },
     "execution_count": 9,
     "metadata": {},
     "output_type": "execute_result"
    }
   ],
   "source": [
    "log_lik = fit['log_lik']\n",
    "utils.waic(log_likelihood=log_lik)"
   ]
  },
  {
   "cell_type": "code",
   "execution_count": null,
   "metadata": {},
   "outputs": [],
   "source": []
  },
  {
   "cell_type": "code",
   "execution_count": null,
   "metadata": {},
   "outputs": [],
   "source": []
  },
  {
   "cell_type": "code",
   "execution_count": null,
   "metadata": {},
   "outputs": [],
   "source": []
  },
  {
   "cell_type": "code",
   "execution_count": null,
   "metadata": {},
   "outputs": [],
   "source": [
    "alphaAct_ = fit[\"transfer_alphaAct\"] \n",
    "alphaClr_ = fit[\"transfer_alphaClr\"] \n",
    "weightAct_ = fit[\"transfer_weightAct\"] \n",
    "beta_ = fit[\"transfer_sensitivity\"]  \n",
    "\n",
    "plots.plot_posterior(data=weightAct_[1].T, xlabel='Boundary', ylabel='Density',  color=sns.husl_palette(4, h=.7), legend=['a', 'b', 'c', 'd'])\n"
   ]
  }
 ],
 "metadata": {
  "kernelspec": {
   "display_name": "Python 3 (ipykernel)",
   "language": "python",
   "name": "python3"
  },
  "language_info": {
   "codemirror_mode": {
    "name": "ipython",
    "version": 3
   },
   "file_extension": ".py",
   "mimetype": "text/x-python",
   "name": "python",
   "nbconvert_exporter": "python",
   "pygments_lexer": "ipython3",
   "version": "3.9.18"
  }
 },
 "nbformat": 4,
 "nbformat_minor": 5
}
