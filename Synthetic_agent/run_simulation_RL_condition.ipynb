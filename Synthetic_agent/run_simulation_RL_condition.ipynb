{
 "cells": [
  {
   "cell_type": "code",
   "execution_count": 1,
   "id": "e3066f1d",
   "metadata": {},
   "outputs": [],
   "source": [
    "import numpy as np\n",
    "import pandas as pd\n",
    "import sys\n",
    "sys.path.append('..')\n",
    "from Madule import simulation\n",
    "from Madule import plots\n",
    "import os"
   ]
  },
  {
   "cell_type": "code",
   "execution_count": 2,
   "id": "207c955a",
   "metadata": {},
   "outputs": [],
   "source": [
    "\"\"\"Generate True values of Hierarchical parameters\"\"\"\n",
    "# Simulation number\n",
    "simNumber = 1\n",
    "\n",
    "# Set mean and STD\n",
    "hier_alphaAct_pos_mu = np.array([[1,1], [1.5,1]])\n",
    "hier_alphaAct_neg_mu =  np.array([[.5,.3], [1,.5]])\n",
    "hier_alphaClr_pos_mu = np.array([[.5,-.5], [2,.5]])\n",
    "hier_alphaClr_neg_mu = np.array([[.1,-1], [1.5,.5]])\n",
    "hier_weight_mu = np.array([[.5, .5], [1,-1]])\n",
    "hier_sensitivity_mu = np.array([[.4, .5], [.6, -6]])\n",
    "hier_alpha_sd = np.array([.1])\n",
    "hier_weight_sd = np.array([1.5])\n",
    "hier_sensitivity_sd = np.array([1.1])\n"
   ]
  },
  {
   "cell_type": "code",
   "execution_count": 3,
   "id": "d4c268a6",
   "metadata": {},
   "outputs": [],
   "source": [
    "parent_dir  = '/mnt/scratch/projects/7TPD/amin/simulation'\n",
    "# Check existing directory of subject name forlder and simulation number\n",
    "if not os.path.isdir(f'{parent_dir}/{str(simNumber)}'):\n",
    "    os.makedirs(f'{parent_dir}/{str(simNumber)}') "
   ]
  },
  {
   "cell_type": "code",
   "execution_count": 4,
   "id": "aa719dcf",
   "metadata": {},
   "outputs": [
    {
     "name": "stdout",
     "output_type": "stream",
     "text": [
      "All true parameters for each participant have been generated and saved successfully!\n"
     ]
    }
   ],
   "source": [
    "\"\"\"True values of individual-level parameters are randomly taken from predefined hierarchical level parameters, \n",
    "Therfpre, call trueParamAllParts function to generate and save true parameters for each participant\"\"\"\n",
    "simulation.generating_hier_grand_truth(hier_alphaAct_pos_mu=hier_alphaAct_pos_mu, hier_alphaAct_neg_mu=hier_alphaAct_neg_mu,\n",
    "                              hier_alphaClr_pos_mu=hier_alphaClr_pos_mu, hier_alphaClr_neg_mu=hier_alphaClr_neg_mu,\n",
    "                              hier_weight_mu=hier_weight_mu, hier_sensitivity_mu=hier_sensitivity_mu,\n",
    "                              hier_alpha_sd=hier_alpha_sd, hier_weight_sd=hier_weight_sd, hier_sensitivity_sd=hier_sensitivity_sd,\n",
    "                              simNumber=simNumber)"
   ]
  },
  {
   "cell_type": "code",
   "execution_count": 5,
   "id": "a551ffa8",
   "metadata": {},
   "outputs": [
    {
     "name": "stdout",
     "output_type": "stream",
     "text": [
      "All simulations have been done successfully!\n"
     ]
    }
   ],
   "source": [
    "# The Final step is to simulate data from the grand truth parameters that has been generated from previous step\n",
    "simulation.simulate_hier_rl(simNumber=simNumber)"
   ]
  },
  {
   "cell_type": "code",
   "execution_count": 8,
   "id": "b1d7cd12",
   "metadata": {},
   "outputs": [],
   "source": [
    "\"\"\"Pooling data all data and then save it\"\"\"\n",
    "# List of subjects\n",
    "subList = ['sub-004', 'sub-010', 'sub-012', 'sub-025', 'sub-026', 'sub-029', 'sub-030',\n",
    "            'sub-033', 'sub-034', 'sub-036', 'sub-040', 'sub-041', 'sub-042', 'sub-044', \n",
    "            'sub-045', 'sub-047', 'sub-048', 'sub-052', 'sub-054', 'sub-056', 'sub-059', \n",
    "            'sub-060', 'sub-064', 'sub-065', 'sub-067', 'sub-069', 'sub-070', 'sub-071', \n",
    "            'sub-074', 'sub-075', 'sub-076', 'sub-077', 'sub-078', 'sub-079', 'sub-080', \n",
    "            'sub-081', 'sub-082', 'sub-083', 'sub-085', 'sub-087', 'sub-088', 'sub-089', \n",
    "            'sub-090', 'sub-092', 'sub-108', 'sub-109']\n",
    " # Dataframe for concatenating data\n",
    "dataAll = pd.DataFrame([])\n",
    "# Loop over list of participatns\n",
    "for subName in subList:\n",
    "    # Directory of simulated data\n",
    "    parent_dir  = '/mnt/scratch/projects/7TPD/amin/simulation'\n",
    "    # Directory of the especifit simulated participant\n",
    "    dirc = f'{parent_dir}/{str(simNumber)}/{subName}/{subName}-sim-task-design-true-param.csv'\n",
    "    # Read the simulated participant\n",
    "    data = pd.read_csv(dirc)\n",
    "    # Set the new column of the participants' name\n",
    "    data['sub_ID'] = subName\n",
    " \n",
    "    # Concatenating each dataframe\n",
    "    dataAll = pd.concat([dataAll, data])    \n",
    "    \n",
    "# Save concatenated data over all particiapnts\n",
    "dataAll.to_csv(f'{parent_dir}/{str(simNumber)}/{str(simNumber)}-all-sim-task-design-true-param.csv', index=False)"
   ]
  },
  {
   "cell_type": "markdown",
   "id": "3ab56a70",
   "metadata": {},
   "source": [
    " ### plot choice correct"
   ]
  },
  {
   "cell_type": "code",
   "execution_count": 11,
   "id": "7fdf1e69",
   "metadata": {},
   "outputs": [],
   "source": [
    "# List of subjects\n",
    "rawBehAll = pd.read_csv('/mnt/projects/7TPD/bids/derivatives/fMRI_DA/Amin/AllBehData/rawBehAll.csv')\n",
    "# list of subjects\n",
    "subList = rawBehAll['sub_ID'].unique()\n",
    " \n",
    "for subName in subList:\n",
    "    # Directory of simulated data\n",
    "    parent_dir  = '/mnt/scratch/projects/7TPD/amin/simulation'\n",
    "    # Directory of the especifit simulated participant\n",
    "    dirc = f'{parent_dir}/{str(simNumber)}/{subName}/{subName}-sim-task-design-true-param.csv'\n",
    "    # Read the excel file\n",
    "    data = pd.read_csv(dirc)\n",
    "    # Condition sequences for each particiapnt\n",
    "    blocks = data.groupby(['session', 'run'])['block'].unique().to_numpy()\n",
    "    blocks = np.array([blocks[0], blocks[1], blocks[2], blocks[3]]).flatten()\n",
    "    #save file name\n",
    "    saveFile = f'{parent_dir}/{str(simNumber)}/{subName}/{subName}-achieva7t_task-DA_beh.png'\n",
    "\n",
    "    # Plot by a pre implemented madule\n",
    "    plots.plotChosenCorrect(data = data, blocks = blocks, subName = subName, saveFile = saveFile)"
   ]
  },
  {
   "cell_type": "code",
   "execution_count": null,
   "id": "56a613f1",
   "metadata": {},
   "outputs": [],
   "source": []
  },
  {
   "cell_type": "code",
   "execution_count": null,
   "id": "37428f62",
   "metadata": {},
   "outputs": [],
   "source": []
  },
  {
   "cell_type": "code",
   "execution_count": 7,
   "id": "a04023fd",
   "metadata": {},
   "outputs": [
    {
     "data": {
      "text/plain": [
       "array(['sub-004', 'sub-010', 'sub-012', 'sub-025', 'sub-026', 'sub-029',\n",
       "       'sub-030', 'sub-033', 'sub-034', 'sub-036', 'sub-040', 'sub-041',\n",
       "       'sub-042', 'sub-044', 'sub-045', 'sub-047', 'sub-048', 'sub-052',\n",
       "       'sub-054', 'sub-056', 'sub-059', 'sub-060', 'sub-064', 'sub-065',\n",
       "       'sub-067', 'sub-069', 'sub-070', 'sub-071', 'sub-074', 'sub-075',\n",
       "       'sub-076', 'sub-077', 'sub-078', 'sub-079', 'sub-080', 'sub-081',\n",
       "       'sub-082', 'sub-083', 'sub-085', 'sub-087', 'sub-088', 'sub-089',\n",
       "       'sub-090', 'sub-092', 'sub-108', 'sub-109'], dtype=object)"
      ]
     },
     "execution_count": 7,
     "metadata": {},
     "output_type": "execute_result"
    }
   ],
   "source": [
    "subList"
   ]
  },
  {
   "cell_type": "code",
   "execution_count": null,
   "id": "c667a243",
   "metadata": {},
   "outputs": [],
   "source": []
  }
 ],
 "metadata": {
  "kernelspec": {
   "display_name": "7tpd",
   "language": "python",
   "name": "python3"
  },
  "language_info": {
   "codemirror_mode": {
    "name": "ipython",
    "version": 3
   },
   "file_extension": ".py",
   "mimetype": "text/x-python",
   "name": "python",
   "nbconvert_exporter": "python",
   "pygments_lexer": "ipython3",
   "version": "3.9.18"
  }
 },
 "nbformat": 4,
 "nbformat_minor": 5
}
