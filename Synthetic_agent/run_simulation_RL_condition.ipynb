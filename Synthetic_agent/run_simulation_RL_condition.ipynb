{
 "cells": [
  {
   "cell_type": "code",
   "execution_count": 1,
   "id": "e3066f1d",
   "metadata": {},
   "outputs": [],
   "source": [
    "import numpy as np\n",
    "import pandas as pd\n",
    "import sys\n",
    "sys.path.append('..')\n",
    "from Madule import simulation\n",
    "from Madule import plots"
   ]
  },
  {
   "cell_type": "code",
   "execution_count": 2,
   "id": "207c955a",
   "metadata": {},
   "outputs": [],
   "source": [
    "\"\"\"Generate True values of Hierarchical parameters\"\"\"\n",
    "# Simulation number\n",
    "simNumber = 11\n",
    "\n",
    "\"Set mean and STD of Learning rate for Action Value Conditions\"\n",
    "alphaAct_mu = np.array([[.1,.3], [.3,.1]])\n",
    "alphaAct_sd = np.array(.2)\n",
    "\n",
    "\"Set mean and STD of Learning rate for Color Value Conditions\"\n",
    "alphaClr_mu = np.array([[.1,.3], [.3,.1]])\n",
    "alphaClr_sd = np.array(.2)\n",
    "\n",
    "\"Set mean and STD of Relative Contribution Parameter\"\n",
    "weightAct_mu = np.array([[.8,.2], [.9,.1]])\n",
    "weightAct_sd = np.array(.2)\n",
    "\n",
    "\"Set mean and STD of Sensitivity Parameter\"\n",
    "beta_mu = np.array([[.02, .04], [.01, .06]])\n",
    "beta_sd = np.array(0.04)"
   ]
  },
  {
   "cell_type": "code",
   "execution_count": 3,
   "id": "aa719dcf",
   "metadata": {},
   "outputs": [
    {
     "name": "stdout",
     "output_type": "stream",
     "text": [
      "All true parameters for each participant have been generated and saved successfully!\n"
     ]
    }
   ],
   "source": [
    "\"\"\"True values of individual-level parameters are randomly taken from predefined hierarchical level parameters, \n",
    "Therfpre, call trueParamAllParts function to generate and save true parameters for each participant\"\"\"\n",
    "simulation.set_true_all_parts(alphaAct_mu_arg=alphaAct_mu, alphaAct_sd_arg=alphaAct_sd,\n",
    "                              alphaClr_mu_arg=alphaClr_mu, alphaClr_sd_arg=alphaClr_sd,\n",
    "                              weightAct_mu_arg=weightAct_mu, weightAct_sd_arg=weightAct_sd,\n",
    "                              beta_mu_arg=beta_mu, beta_sd_arg=beta_sd,\n",
    "                              simNumber_arg=simNumber)"
   ]
  },
  {
   "cell_type": "code",
   "execution_count": 4,
   "id": "a551ffa8",
   "metadata": {},
   "outputs": [
    {
     "name": "stdout",
     "output_type": "stream",
     "text": [
      "All simulations have been done successfully!\n"
     ]
    }
   ],
   "source": [
    "# The Final step is to simulate data from the grand truth parameters that has been generated from previous step\n",
    "simulation.simulate_data_true_params(simNumber=simNumber)"
   ]
  },
  {
   "cell_type": "code",
   "execution_count": 5,
   "id": "b1d7cd12",
   "metadata": {},
   "outputs": [],
   "source": [
    "\"\"\"Pooling data all data and then save it\"\"\"\n",
    "# List of subjects\n",
    "subList = ['sub-004', 'sub-010', 'sub-012', 'sub-025', 'sub-026', 'sub-029', 'sub-030',\n",
    "            'sub-033', 'sub-034', 'sub-036', 'sub-040', 'sub-041', 'sub-042', 'sub-044', \n",
    "            'sub-045', 'sub-047', 'sub-048', 'sub-052', 'sub-054', 'sub-056', 'sub-059', \n",
    "            'sub-060', 'sub-064', 'sub-065', 'sub-067', 'sub-069', 'sub-070', 'sub-071', \n",
    "            'sub-074', 'sub-075', 'sub-076', 'sub-077', 'sub-078', 'sub-079', 'sub-080', \n",
    "            'sub-081', 'sub-082', 'sub-083', 'sub-085', 'sub-087', 'sub-088', 'sub-089', \n",
    "            'sub-090', 'sub-092', 'sub-108', 'sub-109']\n",
    " # Dataframe for concatenating data\n",
    "dataAll = pd.DataFrame([])\n",
    "# Loop over list of participatns\n",
    "for subName in subList:\n",
    "    # Main directory of the simupated participatns\n",
    "    parent_dir = '/mnt/projects/7TPD/bids/derivatives/fMRI_DA/data_BehModel/originalfMRIbehFiles/simulation/'\n",
    "    # Directory of the especifit simulated participant\n",
    "    dirc = parent_dir + str(simNumber) + '/' + subName + '/' +subName +'-simulated-task-design-true-param.csv'\n",
    "    # Read the simulated participant\n",
    "    data = pd.read_csv(dirc)\n",
    "    # Set the new column of the participants' name\n",
    "    data['sub_ID'] = subName\n",
    " \n",
    "    # Concatenating each dataframe\n",
    "    dataAll = pd.concat([dataAll, data])    \n",
    "    \n",
    "# Save concatenated data over all particiapnts\n",
    "dataAll.to_csv(parent_dir + str(simNumber) + '/' +'All-simulated-task-design-true-param.csv', index=False)"
   ]
  },
  {
   "cell_type": "markdown",
   "id": "3ab56a70",
   "metadata": {},
   "source": [
    " ### plot choice correct"
   ]
  },
  {
   "cell_type": "code",
   "execution_count": 6,
   "id": "7fdf1e69",
   "metadata": {},
   "outputs": [],
   "source": [
    "# List of subjects\n",
    "subList = ['sub-004', 'sub-010', 'sub-012', 'sub-025', 'sub-026', 'sub-029', 'sub-030',\n",
    "           'sub-033', 'sub-034', 'sub-036', 'sub-040', 'sub-041', 'sub-042', 'sub-044', \n",
    "           'sub-045', 'sub-047', 'sub-048', 'sub-052', 'sub-054', 'sub-056', 'sub-059', \n",
    "           'sub-060', 'sub-064', 'sub-065', 'sub-067', 'sub-069', 'sub-070', 'sub-071', \n",
    "           'sub-074', 'sub-075', 'sub-076', 'sub-077', 'sub-078', 'sub-079', 'sub-080', \n",
    "           'sub-081', 'sub-082', 'sub-083', 'sub-085', 'sub-087', 'sub-088', 'sub-089', \n",
    "           'sub-090', 'sub-092', 'sub-108', 'sub-109']\n",
    " \n",
    "for subName in subList:\n",
    "    # Main directory of the subject\n",
    "    parent_dir = '/mnt/projects/7TPD/bids/derivatives/fMRI_DA/data_BehModel/originalfMRIbehFiles/simulation/'\n",
    "    # Directory of the especifit simulated participant\n",
    "    dirc = parent_dir + str(simNumber) + '/' + subName + '/' +subName +'-simulated-task-design-true-param.csv'\n",
    "    # Read the excel file\n",
    "    data = pd.read_csv(dirc)\n",
    "    # Condition sequences for each particiapnt\n",
    "    blocks = data.groupby(['session', 'run'])['block'].unique().to_numpy()\n",
    "    blocks = np.array([blocks[0], blocks[1], blocks[2], blocks[3]]).flatten()\n",
    "    #save file name\n",
    "    saveFile = parent_dir + str(simNumber) + '/' + subName + '/' +subName +'-achieva7t_task-DA_beh.png'\n",
    "\n",
    "    # Plot by a pre implemented madule\n",
    "    plots.plotChosenCorrect(data = data, blocks = blocks, subName = subName, saveFile = saveFile)"
   ]
  },
  {
   "cell_type": "code",
   "execution_count": null,
   "metadata": {},
   "outputs": [],
   "source": [
    "# List of subjects\n",
    "subList = ['sub-004', 'sub-010', 'sub-012', 'sub-025', 'sub-026', 'sub-029', 'sub-030',\n",
    "           'sub-033', 'sub-034', 'sub-036', 'sub-040', 'sub-041', 'sub-042', 'sub-044', \n",
    "           'sub-045', 'sub-047', 'sub-048', 'sub-052', 'sub-054', 'sub-056', 'sub-059', \n",
    "           'sub-060', 'sub-064', 'sub-065', 'sub-067', 'sub-069', 'sub-070', 'sub-071', \n",
    "           'sub-074', 'sub-075', 'sub-076', 'sub-077', 'sub-078', 'sub-079', 'sub-080', \n",
    "           'sub-081', 'sub-082', 'sub-083', 'sub-085', 'sub-087', 'sub-088', 'sub-089', \n",
    "           'sub-090', 'sub-092', 'sub-108', 'sub-109']\n",
    " \n",
    "for subName in subList:\n",
    "    # Main directory of the subject\n",
    "    parent_dir = '/mnt/projects/7TPD/bids/derivatives/fMRI_DA/data_BehModel/originalfMRIbehFiles/simulation/'\n",
    "    # Directory of the especifit simulated participant\n",
    "    dirc = parent_dir + str(simNumber) + '/' + subName + '/' +subName +'-simulated-task-design-true-param.csv'\n",
    "    # Read the excel file\n",
    "    data = pd.read_csv(dirc)\n",
    "    # Condition sequences for each particiapnt\n",
    "    blocks = data.groupby(['session', 'run'])['block'].unique().to_numpy()\n",
    "    blocks = np.array([blocks[0], blocks[1], blocks[2], blocks[3]]).flatten()\n",
    "    #save file name\n",
    "    saveFile = parent_dir + str(simNumber) + '/' + subName + '/' +subName +'-achieva7t_task-DA_beh_modified5.png'\n",
    "\n",
    "    # Plot by a pre implemented madule\n",
    "    plots.plotChosenCorrect_modified5(data = data, blocks = blocks, subName = subName, saveFile = saveFile)"
   ]
  },
  {
   "cell_type": "code",
   "execution_count": null,
   "id": "56a613f1",
   "metadata": {},
   "outputs": [],
   "source": []
  },
  {
   "cell_type": "code",
   "execution_count": null,
   "id": "37428f62",
   "metadata": {},
   "outputs": [],
   "source": []
  }
 ],
 "metadata": {
  "kernelspec": {
   "display_name": "Python 3 (ipykernel)",
   "language": "python",
   "name": "python3"
  },
  "language_info": {
   "codemirror_mode": {
    "name": "ipython",
    "version": 3
   },
   "file_extension": ".py",
   "mimetype": "text/x-python",
   "name": "python",
   "nbconvert_exporter": "python",
   "pygments_lexer": "ipython3",
   "version": "3.9.18"
  }
 },
 "nbformat": 4,
 "nbformat_minor": 5
}
