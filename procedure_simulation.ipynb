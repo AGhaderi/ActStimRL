{
 "cells": [
  {
   "cell_type": "code",
   "execution_count": 5,
   "id": "9d5a9a26",
   "metadata": {},
   "outputs": [],
   "source": [
    "import numpy as np\n",
    "import matplotlib.pyplot as plt\n",
    "import pandas as pd\n",
    "from scipy.io import loadmat\n",
    "import os\n",
    "import seaborn as sns\n",
    "from scipy import stats\n",
    "from madule.simulation import *"
   ]
  },
  {
   "cell_type": "code",
   "execution_count": 6,
   "id": "add665fd",
   "metadata": {},
   "outputs": [],
   "source": [
    "np.random.seed(123)"
   ]
  },
  {
   "cell_type": "markdown",
   "id": "ad0626d1",
   "metadata": {},
   "source": [
    "### Generate True Parameters For each Participant on Hierarchical level"
   ]
  },
  {
   "cell_type": "code",
   "execution_count": 7,
   "id": "fb29d22c",
   "metadata": {},
   "outputs": [
    {
     "name": "stdout",
     "output_type": "stream",
     "text": [
      "All true parameters for each participant have been done successfully!\n"
     ]
    }
   ],
   "source": [
    "\"\"\"Parameter recovery assessment.\n",
    "True parameters for each participant are taken from hierarchical level parameters\"\"\"\n",
    "\n",
    "# Number of simulation\n",
    "simNumber = 1\n",
    "\n",
    "# Set mean and std of unkown parameters from uniform distribution between 0 and 1\n",
    "alphaAct_mu = np.round(np.random.rand(2, 2), 2)\n",
    "alphaAct_sd = np.round(np.random.rand(2, 2), 2)\n",
    "\n",
    "alphaClr_mu = np.round(np.random.rand(2, 2), 2)\n",
    "alphaClr_sd = np.round(np.random.rand(2, 2), 2)\n",
    "\n",
    "weghtAct_mu = np.round(np.random.rand(2, 2), 2)\n",
    "weghtAct_sd = np.round(np.random.rand(2, 2), 2)\n",
    "\n",
    "beta_mu = 5*np.round(np.random.rand(2, 2), 2)\n",
    "beta_sd = 5*np.round(np.random.rand(2, 2), 2)\n",
    "\n",
    "# call trueParam function to generate and save true parameters for each participant\n",
    "trueParamAllParts(alphaAct_mu=alphaAct_mu, alphaAct_sd=alphaAct_sd,\n",
    "          alphaClr_mu=alphaClr_mu, alphaClr_sd=alphaClr_sd,\n",
    "          weghtAct_mu=weghtAct_mu, weghtAct_sd=weghtAct_sd,\n",
    "          beta_mu=beta_mu, beta_sd=beta_sd,\n",
    "          simNumber=simNumber)"
   ]
  },
  {
   "cell_type": "markdown",
   "id": "bde4d78b",
   "metadata": {},
   "source": [
    "## Simulation RL Data"
   ]
  },
  {
   "cell_type": "code",
   "execution_count": 8,
   "id": "73ada780",
   "metadata": {},
   "outputs": [
    {
     "name": "stdout",
     "output_type": "stream",
     "text": [
      "All simulations have been done successfully!\n"
     ]
    },
    {
     "name": "stderr",
     "output_type": "stream",
     "text": [
      "/home/amingk/Documents/T7PD/ActStimRL/madule/simulation.py:10: RuntimeWarning: overflow encountered in exp\n",
      "  denom = np.sum([nom + np.exp(values[1]*beta)])\n",
      "/home/amingk/Documents/T7PD/ActStimRL/madule/simulation.py:9: RuntimeWarning: overflow encountered in exp\n",
      "  nom = np.exp(values[0]*beta)\n",
      "/home/amingk/Documents/T7PD/ActStimRL/madule/simulation.py:11: RuntimeWarning: invalid value encountered in double_scalars\n",
      "  return nom/denom\n",
      "/home/amingk/Documents/T7PD/ActStimRL/madule/simulation.py:10: RuntimeWarning: overflow encountered in exp\n",
      "  denom = np.sum([nom + np.exp(values[1]*beta)])\n"
     ]
    }
   ],
   "source": [
    "simulateActClrAllParts(simNumber=1)"
   ]
  },
  {
   "cell_type": "code",
   "execution_count": null,
   "id": "b4adf3ed",
   "metadata": {},
   "outputs": [],
   "source": []
  }
 ],
 "metadata": {
  "kernelspec": {
   "display_name": "Python 3 (ipykernel)",
   "language": "python",
   "name": "python3"
  },
  "language_info": {
   "codemirror_mode": {
    "name": "ipython",
    "version": 3
   },
   "file_extension": ".py",
   "mimetype": "text/x-python",
   "name": "python",
   "nbconvert_exporter": "python",
   "pygments_lexer": "ipython3",
   "version": "3.10.9"
  }
 },
 "nbformat": 4,
 "nbformat_minor": 5
}
