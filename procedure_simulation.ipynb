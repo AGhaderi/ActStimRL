{
 "cells": [
  {
   "cell_type": "code",
   "execution_count": 1,
   "id": "9d5a9a26",
   "metadata": {},
   "outputs": [],
   "source": [
    "import numpy as np\n",
    "import matplotlib.pyplot as plt\n",
    "import pandas as pd\n",
    "from scipy.io import loadmat\n",
    "import os\n",
    "import seaborn as sns\n",
    "from scipy import stats\n",
    "from madule.simulation import *\n",
    "from madule.plots import *"
   ]
  },
  {
   "cell_type": "markdown",
   "id": "ad0626d1",
   "metadata": {},
   "source": [
    "### Generate True Parameters For each Participant on Hierarchical level"
   ]
  },
  {
   "cell_type": "code",
   "execution_count": 2,
   "id": "fb29d22c",
   "metadata": {},
   "outputs": [
    {
     "name": "stdout",
     "output_type": "stream",
     "text": [
      "All true parameters for each participant have been generated successfully!\n"
     ]
    }
   ],
   "source": [
    "\"\"\"True parameters for each participant are taken from hierarchical level parameters\"\"\"\n",
    "\n",
    "# Number of simulation\n",
    "simNumber = 1\n",
    "\n",
    "# Set mean and std of unkown parameters from uniform distribution between 0 and 1\n",
    "alphaAct_mu = np.round(np.random.rand(2, 2), 2)\n",
    "alphaAct_sd = np.round(np.random.rand(), 2)\n",
    "\n",
    "alphaClr_mu = np.round(np.random.rand(2, 2), 2)\n",
    "alphaClr_sd = np.round(np.random.rand(), 2)\n",
    "\n",
    "weghtAct_mu = np.round(np.random.rand(2, 2), 2)\n",
    "weghtAct_sd = np.round(np.random.rand(), 2)\n",
    "\n",
    "beta_mu = 5*np.round(np.random.rand(2), 2)\n",
    "beta_sd = 5*np.round(np.random.rand(), 2)\n",
    "\n",
    "# call trueParam function to generate and save true parameters for each participant\n",
    "trueParamAllParts(alphaAct_mu=alphaAct_mu, alphaAct_sd=alphaAct_sd,\n",
    "          alphaClr_mu=alphaClr_mu, alphaClr_sd=alphaClr_sd,\n",
    "          weghtAct_mu=weghtAct_mu, weghtAct_sd=weghtAct_sd,\n",
    "          beta_mu=beta_mu, beta_sd=beta_sd,\n",
    "          simNumber=simNumber)"
   ]
  },
  {
   "cell_type": "markdown",
   "id": "bde4d78b",
   "metadata": {},
   "source": [
    "## Simulation RL Data"
   ]
  },
  {
   "cell_type": "code",
   "execution_count": 3,
   "id": "73ada780",
   "metadata": {
    "scrolled": true
   },
   "outputs": [
    {
     "name": "stdout",
     "output_type": "stream",
     "text": [
      "All simulations have been done successfully!\n"
     ]
    }
   ],
   "source": [
    "simulateActClrAllParts(simNumber=1)"
   ]
  },
  {
   "cell_type": "markdown",
   "id": "0a71c394",
   "metadata": {},
   "source": [
    "## Figure of simulated data"
   ]
  },
  {
   "cell_type": "code",
   "execution_count": 4,
   "id": "5294110e",
   "metadata": {
    "scrolled": true
   },
   "outputs": [],
   "source": [
    "# List of subjects\n",
    "subList = ['sub-004', 'sub-012', 'sub-020', 'sub-025', 'sub-026', 'sub-029', 'sub-030',\n",
    "           'sub-033', 'sub-034', 'sub-036', 'sub-040', 'sub-041', 'sub-042', 'sub-045',\n",
    "           'sub-047', 'sub-048', 'sub-052', 'sub-054', 'sub-056', 'sub-059', 'sub-060',\n",
    "           'sub-064', 'sub-065', 'sub-067', 'sub-069', 'sub-070', 'sub-071', 'sub-074',\n",
    "           'sub-075', 'sub-076', 'sub-077', 'sub-078', 'sub-079', 'sub-080', 'sub-081',\n",
    "           'sub-082', 'sub-083', 'sub-085', 'sub-087', 'sub-088', 'sub-089', 'sub-090',\n",
    "           'sub-092', 'sub-108', 'sub-109']\n",
    "# Number of simulation\n",
    "simNumber = 1\n",
    "\n",
    "# Main directory of the subject\n",
    "parent_dir = '/mnt/projects/7TPD/bids/derivatives/fMRI_DA/data_BehModel/simulation/'\n",
    "\n",
    "\n",
    "# Simulation for participant\n",
    "for subName in subList:\n",
    "\n",
    "    direct  = parent_dir + subName + '/' + str(simNumber) + '/'\n",
    "    # Read predefined task design with true parameters\n",
    "    simulated_data = pd.read_csv(direct + subName +'-simulated-data-with-task-design-true-param.csv')\n",
    "    #save file name\n",
    "    saveFile = parent_dir + subName + '/' + str(simNumber) + '/' + subName +'_behData'\n",
    "    plotChosenCorrect(data = data, subName = subName, saveFile = saveFile)"
   ]
  },
  {
   "cell_type": "code",
   "execution_count": 27,
   "id": "be469170",
   "metadata": {},
   "outputs": [],
   "source": []
  },
  {
   "cell_type": "code",
   "execution_count": null,
   "id": "9c1e4e4a",
   "metadata": {},
   "outputs": [],
   "source": []
  }
 ],
 "metadata": {
  "kernelspec": {
   "display_name": "Python 3 (ipykernel)",
   "language": "python",
   "name": "python3"
  },
  "language_info": {
   "codemirror_mode": {
    "name": "ipython",
    "version": 3
   },
   "file_extension": ".py",
   "mimetype": "text/x-python",
   "name": "python",
   "nbconvert_exporter": "python",
   "pygments_lexer": "ipython3",
   "version": "3.10.9"
  }
 },
 "nbformat": 4,
 "nbformat_minor": 5
}
