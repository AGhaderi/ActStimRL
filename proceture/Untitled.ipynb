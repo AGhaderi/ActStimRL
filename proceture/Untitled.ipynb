{
 "cells": [
  {
   "cell_type": "code",
   "execution_count": 2,
   "id": "7b147fbb",
   "metadata": {},
   "outputs": [],
   "source": [
    "import numpy as np\n",
    "from scipy.io import loadmat"
   ]
  },
  {
   "cell_type": "code",
   "execution_count": null,
   "id": "a4844aa3",
   "metadata": {},
   "outputs": [],
   "source": [
    "subList = ['sub-004', 'sub-010', 'sub-012', 'sub-025', 'sub-026', 'sub-029', 'sub-030',\n",
    "           'sub-033', 'sub-034', 'sub-036', 'sub-040', 'sub-041', 'sub-042', 'sub-045',\n",
    "           'sub-047', 'sub-048', 'sub-052', 'sub-054']\n"
   ]
  },
  {
   "cell_type": "code",
   "execution_count": 45,
   "id": "5aa35ced",
   "metadata": {},
   "outputs": [],
   "source": [
    "data29_1 = loadmat('/mnt/projects/7TPD/bids/sourcedata/originalfMRIbehFiles/sub-029/ses-02achieva7t/sub-X71350_ses-01_task-DA_run-2_beh_20210420_12-37-10.mat')\n",
    "data29_2 = loadmat('/mnt/projects/7TPD/bids/sourcedata/originalfMRIbehFiles/sub-029/ses-03achieva7t/sub-X71350_ses-02_task-DA_run-2_beh_20210427_10-31-25.mat')\n",
    "\n",
    "\n"
   ]
  },
  {
   "cell_type": "code",
   "execution_count": 78,
   "id": "f9f0ce2a",
   "metadata": {},
   "outputs": [
    {
     "data": {
      "text/plain": [
       "21"
      ]
     },
     "execution_count": 78,
     "metadata": {},
     "output_type": "execute_result"
    }
   ],
   "source": [
    "data29_2['blockList1_2'][0][0]"
   ]
  },
  {
   "cell_type": "code",
   "execution_count": 90,
   "id": "640b689a",
   "metadata": {},
   "outputs": [
    {
     "data": {
      "text/plain": [
       "array([[14, 14, 14]])"
      ]
     },
     "execution_count": 90,
     "metadata": {},
     "output_type": "execute_result"
    }
   ],
   "source": [
    "data = loadmat('/mnt/projects/7TPD/bids/sourcedata/originalfMRIbehFiles/sub-034/ses-03achieva7t/sub-X77438_ses-02_task-DA_run-2_beh_20200812_10-44-59.mat')\n",
    "data['blockList2_1']"
   ]
  },
  {
   "cell_type": "code",
   "execution_count": 41,
   "id": "c672399b",
   "metadata": {},
   "outputs": [],
   "source": []
  },
  {
   "cell_type": "code",
   "execution_count": 56,
   "id": "6cbde8b2",
   "metadata": {},
   "outputs": [],
   "source": [
    "data25_1 = loadmat('/mnt/projects/7TPD/bids/sourcedata/originalfMRIbehFiles/sub-025/ses-02achieva7t/sub-X173967_ses-01_task-DA_run-2_beh_20210202_11-04-24.mat')\n",
    "data25_2 = loadmat('/mnt/projects/7TPD/bids/sourcedata/originalfMRIbehFiles/sub-025/ses-03achieva7t/sub-X17397_ses-02_task-DA_run-2_beh_20210209_10-28-35.mat')\n"
   ]
  },
  {
   "cell_type": "code",
   "execution_count": 79,
   "id": "e2036ef2",
   "metadata": {},
   "outputs": [],
   "source": []
  },
  {
   "cell_type": "code",
   "execution_count": null,
   "id": "d1d4d659",
   "metadata": {},
   "outputs": [],
   "source": [
    "subList = ['sub-004', 'sub-010', 'sub-012', 'sub-025', 'sub-026', 'sub-029', 'sub-030',\n",
    "           'sub-033', 'sub-034', 'sub-036', 'sub-040', 'sub-041', 'sub-042', 'sub-045',\n",
    "           'sub-047', 'sub-048', 'sub-052', 'sub-054']"
   ]
  }
 ],
 "metadata": {
  "kernelspec": {
   "display_name": "Python 3 (ipykernel)",
   "language": "python",
   "name": "python3"
  },
  "language_info": {
   "codemirror_mode": {
    "name": "ipython",
    "version": 3
   },
   "file_extension": ".py",
   "mimetype": "text/x-python",
   "name": "python",
   "nbconvert_exporter": "python",
   "pygments_lexer": "ipython3",
   "version": "3.10.9"
  }
 },
 "nbformat": 4,
 "nbformat_minor": 5
}
