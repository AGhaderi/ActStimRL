{
 "cells": [
  {
   "cell_type": "code",
   "execution_count": 1,
   "id": "e3066f1d",
   "metadata": {},
   "outputs": [],
   "source": [
    "import numpy as np\n",
    "import pandas as pd\n",
    "import sys\n",
    "sys.path.append('..')\n",
    "from madule import simulation"
   ]
  },
  {
   "cell_type": "code",
   "execution_count": 2,
   "id": "207c955a",
   "metadata": {},
   "outputs": [],
   "source": [
    "\"\"\"Generate True values of Hierarchical parameters\"\"\"\n",
    "# Simulation number\n",
    "simNumber = 7\n",
    "\n",
    "\"Set mean and STD of Learning rate for Action Value Conditions\"\n",
    "# alphaAct_mu = np.round(np.random.uniform(low=.2, high=.8, size= (2,2)), 2)\n",
    "# alphaAct_sd = np.round(np.random.uniform(low=.1, high=.3), 2)\n",
    "alphaAct_mu = np.array([[.6,.4],[.5,.4]])\n",
    "alphaAct_sd = np.array(.01)\n",
    "\n",
    "\"Set mean and STD of Learning rate for Color Value Conditions\"\n",
    "# alphaClr_mu = np.round(np.random.uniform(low=.2, high=.8, size= (2,2)), 2)\n",
    "# alphaClr_sd = np.round(np.random.uniform(low=.1, high=.3), 2)\n",
    "alphaClr_mu = np.array([[.3,.5],[.3,.4]])\n",
    "alphaClr_sd = np.array(.05)\n",
    "\n",
    "\"Set mean and STD of Relative Contribution Parameter\"\n",
    "# weghtAct_mu = np.round(np.random.uniform(low=.2, high=.8, size= (2,2)), 2)\n",
    "# weghtAct_sd = np.round(np.random.uniform(low=.1, high=.3), 2)\n",
    "weightAct_mu = np.array([[.6, .4],[.3, .7]])\n",
    "weightAct_sd = np.array(.01)\n",
    "\n",
    "\"Set mean and STD of Sensitivity Parameter\"\n",
    "# beta_mu = np.round(np.random.uniform(low=.2, high=.8, size= (2)), 2)\n",
    "# beta_sd = np.round(np.random.uniform(low=.005, high=.01), 2)\n",
    "beta_mu = np.array([.01, .08])\n",
    "beta_sd = np.array(0.001)"
   ]
  },
  {
   "cell_type": "code",
   "execution_count": 5,
   "id": "aa719dcf",
   "metadata": {},
   "outputs": [
    {
     "name": "stdout",
     "output_type": "stream",
     "text": [
      "All true parameters for each participant have been generated and saved successfully!\n"
     ]
    }
   ],
   "source": [
    "\"\"\"True values of individual-level parameters are randomly taken from predefined hierarchical level parameters, \n",
    "Therfpre, call trueParamAllParts function to generate and save true parameters for each participant\"\"\"\n",
    "simulation.trueParamAllParts(alphaAct_mu=alphaAct_mu, alphaAct_sd=alphaAct_sd,\n",
    "                             alphaClr_mu=alphaClr_mu, alphaClr_sd=alphaClr_sd,\n",
    "                             weightAct_mu=weightAct_mu, weightAct_sd=weightAct_sd,\n",
    "                             beta_mu=beta_mu, beta_sd=beta_sd,\n",
    "                             simNumber=simNumber)"
   ]
  },
  {
   "cell_type": "code",
   "execution_count": 3,
   "id": "a551ffa8",
   "metadata": {},
   "outputs": [
    {
     "name": "stdout",
     "output_type": "stream",
     "text": [
      "All simulations have been done successfully!\n"
     ]
    }
   ],
   "source": [
    "# Thi Final step is to simulate data from the grand truth parameters that has been generated from previous step\n",
    "simulation.simulateActClrAllParts(simNumber=simNumber)"
   ]
  },
  {
   "cell_type": "code",
   "execution_count": 2,
   "id": "b1d7cd12",
   "metadata": {},
   "outputs": [],
   "source": [
    "\"\"\"Pooling data all data and then save it\"\"\"\n",
    "# The simuluation number\n",
    "simNumber = 7\n",
    "# List of subjects\n",
    "subList = ['sub-004', 'sub-010', 'sub-012', 'sub-025', 'sub-026', 'sub-029', 'sub-030',\n",
    "           'sub-033', 'sub-034', 'sub-036', 'sub-040', 'sub-041', 'sub-042', 'sub-045',\n",
    "           'sub-047', 'sub-048', 'sub-052', 'sub-054', 'sub-056', 'sub-059', 'sub-060',\n",
    "           'sub-064', 'sub-065', 'sub-067', 'sub-069', 'sub-070', 'sub-071', 'sub-074',\n",
    "           'sub-075', 'sub-076', 'sub-077', 'sub-078', 'sub-079', 'sub-080', 'sub-081',\n",
    "           'sub-082', 'sub-083', 'sub-085', 'sub-087', 'sub-088', 'sub-089', 'sub-090',\n",
    "           'sub-092', 'sub-108', 'sub-109']\n",
    "\n",
    "# Labeling Group level for each participant\n",
    "randomGroupLabel = pd.read_csv('/mnt/projects/7TPD/bids/derivatives/fMRI_DA/data_BehModel/randomGroupLabel.csv')\n",
    "# Dataframe for concatenating data\n",
    "dataAll = pd.DataFrame([])\n",
    "# Loop over list of participatns\n",
    "for subName in subList:\n",
    "    # Main directory of the simupated participatns\n",
    "    subMainDirec = '/mnt/projects/7TPD/bids/derivatives/fMRI_DA/data_BehModel/simulation/' \n",
    "    # Directory of the especifit simulated participant\n",
    "    dirc = subMainDirec + subName + '/' + str(simNumber) + '/' + subName + '-simulated-data-with-task-design-true-param.csv'\n",
    "    # Read the simulated participant\n",
    "    data = pd.read_csv(dirc)\n",
    "    # Set the new column of the participants' name\n",
    "    data['sub_ID'] = subName\n",
    "    # Get the group label of session 1 and session 2 for the specific participant\n",
    "    labelSes1 = int(randomGroupLabel.loc[randomGroupLabel['sub-ID'] == subName, 'ses-02'])\n",
    "    labelSes2 = int(randomGroupLabel.loc[randomGroupLabel['sub-ID'] == subName, 'ses-03'])\n",
    "    # Put the group label\n",
    "    data.loc[data['session'] == 1, 'group'] = str(labelSes1)\n",
    "    data.loc[data['session'] == 2, 'group'] = str(labelSes2)\n",
    "    \n",
    "    # Concatenating each dataframe\n",
    "    dataAll = pd.concat([dataAll, data])    \n",
    "    \n",
    "# Save concatenated data over all particiapnts\n",
    "dataAll.to_csv(subMainDirec + 'hierParam/'  + str(simNumber) + '/' +'hier-simulated-data-with-task-design-true-param.csv', index=False)"
   ]
  },
  {
   "cell_type": "code",
   "execution_count": null,
   "id": "c3435c79",
   "metadata": {},
   "outputs": [],
   "source": []
  }
 ],
 "metadata": {
  "kernelspec": {
   "display_name": "Python 3 (ipykernel)",
   "language": "python",
   "name": "python3"
  },
  "language_info": {
   "codemirror_mode": {
    "name": "ipython",
    "version": 3
   },
   "file_extension": ".py",
   "mimetype": "text/x-python",
   "name": "python",
   "nbconvert_exporter": "python",
   "pygments_lexer": "ipython3",
   "version": "3.10.9"
  }
 },
 "nbformat": 4,
 "nbformat_minor": 5
}
