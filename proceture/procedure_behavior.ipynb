{
 "cells": [
  {
   "cell_type": "code",
   "execution_count": 1,
   "id": "9d5a9a26",
   "metadata": {},
   "outputs": [],
   "source": [
    "import numpy as np\n",
    "import matplotlib.pyplot as plt\n",
    "import pandas as pd\n",
    "from scipy.io import loadmat\n",
    "import os\n",
    "import seaborn as sns\n",
    "from scipy import stats\n",
    "import sys\n",
    "sys.path.append('..')\n",
    "from madule import simulation\n",
    "from madule import plots\n",
    "from statsmodels.stats.anova import AnovaRM"
   ]
  },
  {
   "cell_type": "code",
   "execution_count": 37,
   "id": "41eecd3a",
   "metadata": {
    "scrolled": false
   },
   "outputs": [],
   "source": [
    "\"\"\"Pooling data\"\"\"\n",
    "\n",
    "# List of subjects\n",
    "subList = ['sub-004', 'sub-010', 'sub-012', 'sub-025', 'sub-026', 'sub-029', 'sub-030',\n",
    "           'sub-033', 'sub-034', 'sub-036', 'sub-040', 'sub-041', 'sub-042', 'sub-045',\n",
    "           'sub-047', 'sub-048', 'sub-052', 'sub-054', 'sub-056', 'sub-059', 'sub-060',\n",
    "           'sub-064', 'sub-065', 'sub-067', 'sub-069', 'sub-070', 'sub-071', 'sub-074',\n",
    "           'sub-075', 'sub-076', 'sub-077', 'sub-078', 'sub-079', 'sub-080', 'sub-081',\n",
    "           'sub-082', 'sub-083', 'sub-085', 'sub-087', 'sub-088', 'sub-089', 'sub-090',\n",
    "           'sub-092', 'sub-108', 'sub-109']\n",
    "# Group level\n",
    "randomGroupLabel = pd.read_csv('/mnt/projects/7TPD/bids/derivatives/fMRI_DA/data_BehModel/randomGroupLabel.csv')\n",
    "# concatenating data\n",
    "dataAll = pd.DataFrame([])\n",
    "for subName in subList:\n",
    "    # List of existing .csv files for each session and run realted to the subject\n",
    "    files = ['/ses-02achieva7t/' + subName + '_ses-02achieva7t_task-DA_run-1_beh.csv',\n",
    "             '/ses-02achieva7t/' + subName + '_ses-02achieva7t_task-DA_run-2_beh.csv',\n",
    "             '/ses-03achieva7t/' + subName + '_ses-03achieva7t_task-DA_run-1_beh.csv',\n",
    "             '/ses-03achieva7t/' + subName + '_ses-03achieva7t_task-DA_run-2_beh.csv']\n",
    "\n",
    "    # Main directory of the subject\n",
    "    subMainDirec = '/mnt/projects/7TPD/bids/derivatives/fMRI_DA/data_BehModel/originalfMRIbehFiles/'\n",
    "    \n",
    "    # Making empty Dataframe to be concatenated in all four .csv file of the subject\n",
    "    data = pd.DataFrame([])\n",
    "    for i in range(len(files)):\n",
    "        dirc = subMainDirec + subName + files[i]\n",
    "        df = pd.read_csv(dirc)\n",
    "        \n",
    "        data = pd.concat([data, df])\n",
    "    # set the name of participants to each data\n",
    "    data['sub_ID'] = subName\n",
    "    # read and then set the number of group\n",
    "    labelSes1 = int(randomGroupLabel.loc[randomGroupLabel['sub-ID'] == subName, 'ses-02'])\n",
    "    labelSes2 = int(randomGroupLabel.loc[randomGroupLabel['sub-ID'] == subName, 'ses-03'])\n",
    "    data.loc[data['session'] == 1, 'group'] = str(labelSes1)\n",
    "    data.loc[data['session'] == 2, 'group'] = str(labelSes2)\n",
    "    # Detection of irregular responces (no-responses or error responces)\n",
    "    temp = data['pushed'].to_numpy().astype(int)\n",
    "    dataClear = data[temp>=0]\n",
    "    #save file name\n",
    "    saveFile = subMainDirec + subName + '/' + subName + '_behData'\n",
    "    # Concatenating each data\n",
    "    dataAll = pd.concat([dataAll, dataClear])"
   ]
  },
  {
   "cell_type": "code",
   "execution_count": null,
   "id": "faa80579",
   "metadata": {},
   "outputs": [],
   "source": [
    "           \n",
    "        if df[0:1]['stimActFirst'][0]=='Act':\n",
    "            df = df.loc[((df['session']==1) & (df['run']==1) & (df['block']=='Stim'))|\n",
    "                        ((df['session']==1) & (df['run']==2) & (df['block']=='Act'))|\n",
    "                        ((df['session']==2) & (df['run']==1) & (df['block']=='Stim'))|\n",
    "                        ((df['session']==2) & (df['run']==1) & (df['block']=='Act'))]\n",
    "        elif df[0:1]['stimActFirst'][0]=='Stim':\n",
    "            df = df.loc[((df['session']==1) & (df['run']==1) & (df['block']=='Stim'))|\n",
    "                        ((df['session']==1) & (df['run']==1) & (df['block']=='Act'))|\n",
    "                        ((df['session']==2) & (df['run']==1) & (df['block']=='Stim'))|\n",
    "                        ((df['session']==2) & (df['run']==2) & (df['block']=='Act'))]\n",
    "\n",
    "\n",
    "            \n",
    "        "
   ]
  },
  {
   "cell_type": "code",
   "execution_count": 39,
   "id": "5c240a34",
   "metadata": {},
   "outputs": [
    {
     "data": {
      "text/html": [
       "<div>\n",
       "<style scoped>\n",
       "    .dataframe tbody tr th:only-of-type {\n",
       "        vertical-align: middle;\n",
       "    }\n",
       "\n",
       "    .dataframe tbody tr th {\n",
       "        vertical-align: top;\n",
       "    }\n",
       "\n",
       "    .dataframe thead th {\n",
       "        text-align: right;\n",
       "    }\n",
       "</style>\n",
       "<table border=\"1\" class=\"dataframe\">\n",
       "  <thead>\n",
       "    <tr style=\"text-align: right;\">\n",
       "      <th></th>\n",
       "      <th>session</th>\n",
       "      <th>run</th>\n",
       "      <th>stimActFirst</th>\n",
       "      <th>block</th>\n",
       "      <th>stimActBlock</th>\n",
       "      <th>trialNumber</th>\n",
       "      <th>stimOnset</th>\n",
       "      <th>yellowOnLeftSide</th>\n",
       "      <th>leftCanBePushed</th>\n",
       "      <th>winAmtLeft</th>\n",
       "      <th>...</th>\n",
       "      <th>decFBjitOnset</th>\n",
       "      <th>FBOnset</th>\n",
       "      <th>yellowCorrect</th>\n",
       "      <th>pushCorrect</th>\n",
       "      <th>correctChoice</th>\n",
       "      <th>wonAmount</th>\n",
       "      <th>totalAmount</th>\n",
       "      <th>ITIOnset</th>\n",
       "      <th>sub_ID</th>\n",
       "      <th>group</th>\n",
       "    </tr>\n",
       "  </thead>\n",
       "  <tbody>\n",
       "    <tr>\n",
       "      <th>1</th>\n",
       "      <td>1</td>\n",
       "      <td>1</td>\n",
       "      <td>Act</td>\n",
       "      <td>Act</td>\n",
       "      <td>1</td>\n",
       "      <td>3</td>\n",
       "      <td>12.808</td>\n",
       "      <td>1</td>\n",
       "      <td>1</td>\n",
       "      <td>6</td>\n",
       "      <td>...</td>\n",
       "      <td>15.754</td>\n",
       "      <td>22.754</td>\n",
       "      <td>1</td>\n",
       "      <td>1</td>\n",
       "      <td>1.0</td>\n",
       "      <td>6</td>\n",
       "      <td>6</td>\n",
       "      <td>23.958</td>\n",
       "      <td>sub-004</td>\n",
       "      <td>1</td>\n",
       "    </tr>\n",
       "    <tr>\n",
       "      <th>4</th>\n",
       "      <td>1</td>\n",
       "      <td>1</td>\n",
       "      <td>Act</td>\n",
       "      <td>Act</td>\n",
       "      <td>1</td>\n",
       "      <td>6</td>\n",
       "      <td>49.864</td>\n",
       "      <td>0</td>\n",
       "      <td>1</td>\n",
       "      <td>71</td>\n",
       "      <td>...</td>\n",
       "      <td>53.131</td>\n",
       "      <td>57.062</td>\n",
       "      <td>1</td>\n",
       "      <td>0</td>\n",
       "      <td>1.0</td>\n",
       "      <td>29</td>\n",
       "      <td>35</td>\n",
       "      <td>58.264</td>\n",
       "      <td>sub-004</td>\n",
       "      <td>1</td>\n",
       "    </tr>\n",
       "    <tr>\n",
       "      <th>5</th>\n",
       "      <td>1</td>\n",
       "      <td>1</td>\n",
       "      <td>Act</td>\n",
       "      <td>Act</td>\n",
       "      <td>1</td>\n",
       "      <td>7</td>\n",
       "      <td>61.545</td>\n",
       "      <td>0</td>\n",
       "      <td>1</td>\n",
       "      <td>15</td>\n",
       "      <td>...</td>\n",
       "      <td>64.721</td>\n",
       "      <td>68.362</td>\n",
       "      <td>1</td>\n",
       "      <td>0</td>\n",
       "      <td>1.0</td>\n",
       "      <td>85</td>\n",
       "      <td>120</td>\n",
       "      <td>69.567</td>\n",
       "      <td>sub-004</td>\n",
       "      <td>1</td>\n",
       "    </tr>\n",
       "    <tr>\n",
       "      <th>6</th>\n",
       "      <td>1</td>\n",
       "      <td>1</td>\n",
       "      <td>Act</td>\n",
       "      <td>Act</td>\n",
       "      <td>1</td>\n",
       "      <td>8</td>\n",
       "      <td>73.445</td>\n",
       "      <td>1</td>\n",
       "      <td>0</td>\n",
       "      <td>68</td>\n",
       "      <td>...</td>\n",
       "      <td>76.722</td>\n",
       "      <td>81.679</td>\n",
       "      <td>0</td>\n",
       "      <td>1</td>\n",
       "      <td>0.0</td>\n",
       "      <td>0</td>\n",
       "      <td>120</td>\n",
       "      <td>82.887</td>\n",
       "      <td>sub-004</td>\n",
       "      <td>1</td>\n",
       "    </tr>\n",
       "    <tr>\n",
       "      <th>8</th>\n",
       "      <td>1</td>\n",
       "      <td>1</td>\n",
       "      <td>Act</td>\n",
       "      <td>Act</td>\n",
       "      <td>1</td>\n",
       "      <td>10</td>\n",
       "      <td>99.551</td>\n",
       "      <td>1</td>\n",
       "      <td>0</td>\n",
       "      <td>22</td>\n",
       "      <td>...</td>\n",
       "      <td>102.317</td>\n",
       "      <td>108.004</td>\n",
       "      <td>0</td>\n",
       "      <td>1</td>\n",
       "      <td>1.0</td>\n",
       "      <td>78</td>\n",
       "      <td>198</td>\n",
       "      <td>109.211</td>\n",
       "      <td>sub-004</td>\n",
       "      <td>1</td>\n",
       "    </tr>\n",
       "    <tr>\n",
       "      <th>...</th>\n",
       "      <td>...</td>\n",
       "      <td>...</td>\n",
       "      <td>...</td>\n",
       "      <td>...</td>\n",
       "      <td>...</td>\n",
       "      <td>...</td>\n",
       "      <td>...</td>\n",
       "      <td>...</td>\n",
       "      <td>...</td>\n",
       "      <td>...</td>\n",
       "      <td>...</td>\n",
       "      <td>...</td>\n",
       "      <td>...</td>\n",
       "      <td>...</td>\n",
       "      <td>...</td>\n",
       "      <td>...</td>\n",
       "      <td>...</td>\n",
       "      <td>...</td>\n",
       "      <td>...</td>\n",
       "      <td>...</td>\n",
       "      <td>...</td>\n",
       "    </tr>\n",
       "    <tr>\n",
       "      <th>77</th>\n",
       "      <td>2</td>\n",
       "      <td>2</td>\n",
       "      <td>Stim</td>\n",
       "      <td>Stim</td>\n",
       "      <td>2</td>\n",
       "      <td>79</td>\n",
       "      <td>946.917</td>\n",
       "      <td>1</td>\n",
       "      <td>0</td>\n",
       "      <td>45</td>\n",
       "      <td>...</td>\n",
       "      <td>949.194</td>\n",
       "      <td>954.152</td>\n",
       "      <td>0</td>\n",
       "      <td>1</td>\n",
       "      <td>0.0</td>\n",
       "      <td>0</td>\n",
       "      <td>1989</td>\n",
       "      <td>955.355</td>\n",
       "      <td>sub-004</td>\n",
       "      <td>3</td>\n",
       "    </tr>\n",
       "    <tr>\n",
       "      <th>79</th>\n",
       "      <td>2</td>\n",
       "      <td>2</td>\n",
       "      <td>Stim</td>\n",
       "      <td>Stim</td>\n",
       "      <td>2</td>\n",
       "      <td>81</td>\n",
       "      <td>972.367</td>\n",
       "      <td>0</td>\n",
       "      <td>1</td>\n",
       "      <td>47</td>\n",
       "      <td>...</td>\n",
       "      <td>975.095</td>\n",
       "      <td>976.979</td>\n",
       "      <td>1</td>\n",
       "      <td>0</td>\n",
       "      <td>0.0</td>\n",
       "      <td>0</td>\n",
       "      <td>1989</td>\n",
       "      <td>978.183</td>\n",
       "      <td>sub-004</td>\n",
       "      <td>3</td>\n",
       "    </tr>\n",
       "    <tr>\n",
       "      <th>81</th>\n",
       "      <td>2</td>\n",
       "      <td>2</td>\n",
       "      <td>Stim</td>\n",
       "      <td>Stim</td>\n",
       "      <td>2</td>\n",
       "      <td>83</td>\n",
       "      <td>988.418</td>\n",
       "      <td>0</td>\n",
       "      <td>0</td>\n",
       "      <td>79</td>\n",
       "      <td>...</td>\n",
       "      <td>991.079</td>\n",
       "      <td>996.774</td>\n",
       "      <td>1</td>\n",
       "      <td>1</td>\n",
       "      <td>0.0</td>\n",
       "      <td>0</td>\n",
       "      <td>1989</td>\n",
       "      <td>997.977</td>\n",
       "      <td>sub-004</td>\n",
       "      <td>3</td>\n",
       "    </tr>\n",
       "    <tr>\n",
       "      <th>82</th>\n",
       "      <td>2</td>\n",
       "      <td>2</td>\n",
       "      <td>Stim</td>\n",
       "      <td>Stim</td>\n",
       "      <td>2</td>\n",
       "      <td>84</td>\n",
       "      <td>1003.318</td>\n",
       "      <td>1</td>\n",
       "      <td>1</td>\n",
       "      <td>98</td>\n",
       "      <td>...</td>\n",
       "      <td>1005.983</td>\n",
       "      <td>1010.647</td>\n",
       "      <td>0</td>\n",
       "      <td>0</td>\n",
       "      <td>0.0</td>\n",
       "      <td>0</td>\n",
       "      <td>1989</td>\n",
       "      <td>1011.852</td>\n",
       "      <td>sub-004</td>\n",
       "      <td>3</td>\n",
       "    </tr>\n",
       "    <tr>\n",
       "      <th>83</th>\n",
       "      <td>2</td>\n",
       "      <td>2</td>\n",
       "      <td>Stim</td>\n",
       "      <td>Stim</td>\n",
       "      <td>2</td>\n",
       "      <td>85</td>\n",
       "      <td>1015.552</td>\n",
       "      <td>0</td>\n",
       "      <td>1</td>\n",
       "      <td>67</td>\n",
       "      <td>...</td>\n",
       "      <td>1018.009</td>\n",
       "      <td>1020.033</td>\n",
       "      <td>0</td>\n",
       "      <td>1</td>\n",
       "      <td>1.0</td>\n",
       "      <td>67</td>\n",
       "      <td>2056</td>\n",
       "      <td>1021.243</td>\n",
       "      <td>sub-004</td>\n",
       "      <td>3</td>\n",
       "    </tr>\n",
       "  </tbody>\n",
       "</table>\n",
       "<p>301 rows × 32 columns</p>\n",
       "</div>"
      ],
      "text/plain": [
       "    session  run stimActFirst block  stimActBlock  trialNumber  stimOnset  \\\n",
       "1         1    1          Act   Act             1            3     12.808   \n",
       "4         1    1          Act   Act             1            6     49.864   \n",
       "5         1    1          Act   Act             1            7     61.545   \n",
       "6         1    1          Act   Act             1            8     73.445   \n",
       "8         1    1          Act   Act             1           10     99.551   \n",
       "..      ...  ...          ...   ...           ...          ...        ...   \n",
       "77        2    2         Stim  Stim             2           79    946.917   \n",
       "79        2    2         Stim  Stim             2           81    972.367   \n",
       "81        2    2         Stim  Stim             2           83    988.418   \n",
       "82        2    2         Stim  Stim             2           84   1003.318   \n",
       "83        2    2         Stim  Stim             2           85   1015.552   \n",
       "\n",
       "    yellowOnLeftSide  leftCanBePushed                  winAmtLeft  ...  \\\n",
       "1                  1                                1           6  ...   \n",
       "4                  0                                1          71  ...   \n",
       "5                  0                                1          15  ...   \n",
       "6                  1                                0          68  ...   \n",
       "8                  1                                0          22  ...   \n",
       "..               ...                              ...         ...  ...   \n",
       "77                 1                                0          45  ...   \n",
       "79                 0                                1          47  ...   \n",
       "81                 0                                0          79  ...   \n",
       "82                 1                                1          98  ...   \n",
       "83                 0                                1          67  ...   \n",
       "\n",
       "    decFBjitOnset                   FBOnset  yellowCorrect  pushCorrect  \\\n",
       "1                          15.754    22.754              1            1   \n",
       "4                          53.131    57.062              1            0   \n",
       "5                          64.721    68.362              1            0   \n",
       "6                          76.722    81.679              0            1   \n",
       "8                         102.317   108.004              0            1   \n",
       "..                            ...       ...            ...          ...   \n",
       "77                        949.194   954.152              0            1   \n",
       "79                        975.095   976.979              1            0   \n",
       "81                        991.079   996.774              1            1   \n",
       "82                       1005.983  1010.647              0            0   \n",
       "83                       1018.009  1020.033              0            1   \n",
       "\n",
       "    correctChoice  wonAmount                 totalAmount  ITIOnset   sub_ID  \\\n",
       "1             1.0                          6           6    23.958  sub-004   \n",
       "4             1.0                         29          35    58.264  sub-004   \n",
       "5             1.0                         85         120    69.567  sub-004   \n",
       "6             0.0                          0         120    82.887  sub-004   \n",
       "8             1.0                         78         198   109.211  sub-004   \n",
       "..            ...                        ...         ...       ...      ...   \n",
       "77            0.0                          0        1989   955.355  sub-004   \n",
       "79            0.0                          0        1989   978.183  sub-004   \n",
       "81            0.0                          0        1989   997.977  sub-004   \n",
       "82            0.0                          0        1989  1011.852  sub-004   \n",
       "83            1.0                         67        2056  1021.243  sub-004   \n",
       "\n",
       "    group  \n",
       "1       1  \n",
       "4       1  \n",
       "5       1  \n",
       "6       1  \n",
       "8       1  \n",
       "..    ...  \n",
       "77      3  \n",
       "79      3  \n",
       "81      3  \n",
       "82      3  \n",
       "83      3  \n",
       "\n",
       "[301 rows x 32 columns]"
      ]
     },
     "execution_count": 39,
     "metadata": {},
     "output_type": "execute_result"
    }
   ],
   "source": [
    "dataAll.loc[dataAll['sub_ID']=='sub-004']"
   ]
  },
  {
   "cell_type": "code",
   "execution_count": 21,
   "id": "32b5dde3",
   "metadata": {},
   "outputs": [],
   "source": [
    "df = dataAll.loc[dataAll['sub_ID']=='sub-004']"
   ]
  },
  {
   "cell_type": "code",
   "execution_count": 29,
   "id": "e39f5e3e",
   "metadata": {},
   "outputs": [
    {
     "data": {
      "text/plain": [
       "0.5121951219512195"
      ]
     },
     "execution_count": 29,
     "metadata": {},
     "output_type": "execute_result"
    }
   ],
   "source": [
    "df.loc[((df['session']==1) & (df['run']==2) & (df['block']=='Act'))]['correctChoice'].mean()"
   ]
  },
  {
   "cell_type": "code",
   "execution_count": 14,
   "id": "63c40a44",
   "metadata": {},
   "outputs": [
    {
     "name": "stderr",
     "output_type": "stream",
     "text": [
      "/tmp/ipykernel_148992/1684119866.py:1: FutureWarning: Indexing with multiple keys (implicitly converted to a tuple of keys) will be deprecated, use a list instead.\n",
      "  dataAll.groupby(['sub_ID', 'session'])['correctChoice', 'RT'].mean()\n"
     ]
    },
    {
     "data": {
      "text/html": [
       "<div>\n",
       "<style scoped>\n",
       "    .dataframe tbody tr th:only-of-type {\n",
       "        vertical-align: middle;\n",
       "    }\n",
       "\n",
       "    .dataframe tbody tr th {\n",
       "        vertical-align: top;\n",
       "    }\n",
       "\n",
       "    .dataframe thead th {\n",
       "        text-align: right;\n",
       "    }\n",
       "</style>\n",
       "<table border=\"1\" class=\"dataframe\">\n",
       "  <thead>\n",
       "    <tr style=\"text-align: right;\">\n",
       "      <th></th>\n",
       "      <th></th>\n",
       "      <th>correctChoice</th>\n",
       "      <th>RT</th>\n",
       "    </tr>\n",
       "    <tr>\n",
       "      <th>sub_ID</th>\n",
       "      <th>session</th>\n",
       "      <th></th>\n",
       "      <th></th>\n",
       "    </tr>\n",
       "  </thead>\n",
       "  <tbody>\n",
       "    <tr>\n",
       "      <th rowspan=\"2\" valign=\"top\">sub-004</th>\n",
       "      <th>1</th>\n",
       "      <td>0.506173</td>\n",
       "      <td>1.417309</td>\n",
       "    </tr>\n",
       "    <tr>\n",
       "      <th>2</th>\n",
       "      <td>0.493506</td>\n",
       "      <td>1.529883</td>\n",
       "    </tr>\n",
       "    <tr>\n",
       "      <th rowspan=\"2\" valign=\"top\">sub-012</th>\n",
       "      <th>1</th>\n",
       "      <td>0.536585</td>\n",
       "      <td>1.544329</td>\n",
       "    </tr>\n",
       "    <tr>\n",
       "      <th>2</th>\n",
       "      <td>0.493671</td>\n",
       "      <td>1.529241</td>\n",
       "    </tr>\n",
       "    <tr>\n",
       "      <th>sub-025</th>\n",
       "      <th>1</th>\n",
       "      <td>0.454545</td>\n",
       "      <td>1.511974</td>\n",
       "    </tr>\n",
       "    <tr>\n",
       "      <th>...</th>\n",
       "      <th>...</th>\n",
       "      <td>...</td>\n",
       "      <td>...</td>\n",
       "    </tr>\n",
       "    <tr>\n",
       "      <th>sub-092</th>\n",
       "      <th>2</th>\n",
       "      <td>0.525641</td>\n",
       "      <td>1.915462</td>\n",
       "    </tr>\n",
       "    <tr>\n",
       "      <th rowspan=\"2\" valign=\"top\">sub-108</th>\n",
       "      <th>1</th>\n",
       "      <td>0.538462</td>\n",
       "      <td>1.599564</td>\n",
       "    </tr>\n",
       "    <tr>\n",
       "      <th>2</th>\n",
       "      <td>0.410959</td>\n",
       "      <td>1.432288</td>\n",
       "    </tr>\n",
       "    <tr>\n",
       "      <th rowspan=\"2\" valign=\"top\">sub-109</th>\n",
       "      <th>1</th>\n",
       "      <td>0.592105</td>\n",
       "      <td>1.164592</td>\n",
       "    </tr>\n",
       "    <tr>\n",
       "      <th>2</th>\n",
       "      <td>0.525000</td>\n",
       "      <td>1.263588</td>\n",
       "    </tr>\n",
       "  </tbody>\n",
       "</table>\n",
       "<p>88 rows × 2 columns</p>\n",
       "</div>"
      ],
      "text/plain": [
       "                 correctChoice        RT\n",
       "sub_ID  session                         \n",
       "sub-004 1             0.506173  1.417309\n",
       "        2             0.493506  1.529883\n",
       "sub-012 1             0.536585  1.544329\n",
       "        2             0.493671  1.529241\n",
       "sub-025 1             0.454545  1.511974\n",
       "...                        ...       ...\n",
       "sub-092 2             0.525641  1.915462\n",
       "sub-108 1             0.538462  1.599564\n",
       "        2             0.410959  1.432288\n",
       "sub-109 1             0.592105  1.164592\n",
       "        2             0.525000  1.263588\n",
       "\n",
       "[88 rows x 2 columns]"
      ]
     },
     "execution_count": 14,
     "metadata": {},
     "output_type": "execute_result"
    }
   ],
   "source": [
    "dataAll.groupby(['sub_ID'])['correctChoice', 'RT'].mean()"
   ]
  },
  {
   "cell_type": "code",
   "execution_count": 59,
   "id": "aa59dc10",
   "metadata": {},
   "outputs": [],
   "source": [
    "\"\"\"Split up the data into conidtion-dependent data and then define new column for the maximum winning value\n",
    "Calculate maximum across Color and Action winning Values seperately\"\"\"\n",
    "dataAll['chosenWinAmt'] = (dataAll['leftChosen']*dataAll['winAmtLeft'] + (1-dataAll['leftChosen'])*(dataAll['winAmtRight'])).astype(int)\n",
    "# Save concatenated data over all particiapnts plus the new column \n",
    "dataAll.to_csv('/mnt/projects/7TPD/bids/derivatives/fMRI_DA/data_BehModel/originalfMRIbehFiles/AllBehData/behAll.csv', index=False)"
   ]
  },
  {
   "cell_type": "code",
   "execution_count": 60,
   "id": "db73be8a",
   "metadata": {},
   "outputs": [],
   "source": [
    "\"\"\"Choice Proportion and RT in Group 2\"\"\"\n",
    "\n",
    "# Save concatenated data over group lable 2\n",
    "dataAllGroup2 = dataAll.loc[dataAll['group']=='2']\n",
    "dataAllGroup2.to_csv('/mnt/projects/7TPD/bids/derivatives/fMRI_DA/data_BehModel/originalfMRIbehFiles/AllBehData/dataAllGroup2.csv', index=False)"
   ]
  },
  {
   "cell_type": "code",
   "execution_count": 61,
   "id": "5bf4dae9",
   "metadata": {},
   "outputs": [
    {
     "data": {
      "text/html": [
       "<table class=\"simpletable\">\n",
       "<tr>\n",
       "        <td></td>        <th>F Value</th> <th>Num DF</th> <th>Den DF</th>  <th>Pr > F</th>\n",
       "</tr>\n",
       "<tr>\n",
       "  <th>session</th>       <td>0.9703</td>  <td>1.0000</td> <td>22.0000</td> <td>0.3353</td>\n",
       "</tr>\n",
       "<tr>\n",
       "  <th>block</th>         <td>0.5111</td>  <td>1.0000</td> <td>22.0000</td> <td>0.4822</td>\n",
       "</tr>\n",
       "<tr>\n",
       "  <th>session:block</th> <td>0.4090</td>  <td>1.0000</td> <td>22.0000</td> <td>0.5291</td>\n",
       "</tr>\n",
       "</table>"
      ],
      "text/plain": [
       "<class 'statsmodels.iolib.summary2.Summary'>\n",
       "\"\"\"\n",
       "                   Anova\n",
       "===========================================\n",
       "              F Value Num DF  Den DF Pr > F\n",
       "-------------------------------------------\n",
       "session        0.9703 1.0000 22.0000 0.3353\n",
       "block          0.5111 1.0000 22.0000 0.4822\n",
       "session:block  0.4090 1.0000 22.0000 0.5291\n",
       "===========================================\n",
       "\n",
       "\"\"\""
      ]
     },
     "execution_count": 61,
     "metadata": {},
     "output_type": "execute_result"
    }
   ],
   "source": [
    "# Repeated mesure ANOVA in choice proportion\n",
    "aovrm2way = AnovaRM(data = dataAllGroup2, depvar='correctChoice', subject = 'sub_ID',\n",
    "                    within=['session','block'], aggregate_func='mean')\n",
    "res2way = aovrm2way.fit()\n",
    "res2way.summary()"
   ]
  },
  {
   "cell_type": "code",
   "execution_count": 62,
   "id": "f95c1fc9",
   "metadata": {},
   "outputs": [
    {
     "data": {
      "text/html": [
       "<table class=\"simpletable\">\n",
       "<tr>\n",
       "        <td></td>        <th>F Value</th> <th>Num DF</th> <th>Den DF</th>  <th>Pr > F</th>\n",
       "</tr>\n",
       "<tr>\n",
       "  <th>session</th>       <td>6.3961</td>  <td>1.0000</td> <td>22.0000</td> <td>0.0191</td>\n",
       "</tr>\n",
       "<tr>\n",
       "  <th>block</th>         <td>0.2349</td>  <td>1.0000</td> <td>22.0000</td> <td>0.6327</td>\n",
       "</tr>\n",
       "<tr>\n",
       "  <th>session:block</th> <td>0.1212</td>  <td>1.0000</td> <td>22.0000</td> <td>0.7310</td>\n",
       "</tr>\n",
       "</table>"
      ],
      "text/plain": [
       "<class 'statsmodels.iolib.summary2.Summary'>\n",
       "\"\"\"\n",
       "                   Anova\n",
       "===========================================\n",
       "              F Value Num DF  Den DF Pr > F\n",
       "-------------------------------------------\n",
       "session        6.3961 1.0000 22.0000 0.0191\n",
       "block          0.2349 1.0000 22.0000 0.6327\n",
       "session:block  0.1212 1.0000 22.0000 0.7310\n",
       "===========================================\n",
       "\n",
       "\"\"\""
      ]
     },
     "execution_count": 62,
     "metadata": {},
     "output_type": "execute_result"
    }
   ],
   "source": [
    "# Repeated mesure ANOVA in responce time\n",
    "aovrm2way = AnovaRM(data = dataAllGroup2, depvar='RT', subject = 'sub_ID',\n",
    "                    within=['session','block'], aggregate_func='mean')\n",
    "res2way = aovrm2way.fit()\n",
    "res2way.summary()"
   ]
  },
  {
   "cell_type": "code",
   "execution_count": null,
   "id": "3acf9fd9",
   "metadata": {},
   "outputs": [],
   "source": []
  },
  {
   "cell_type": "code",
   "execution_count": 63,
   "id": "9887a1bd",
   "metadata": {},
   "outputs": [],
   "source": [
    "\"\"\"Choice Proportion and RT in Groups 1 and 3\"\"\"\n",
    "dataAllGroup13 = dataAll.loc[(dataAll['group']=='1') | (dataAll['group']=='3')]\n",
    "dataAllGroup13.to_csv('/mnt/projects/7TPD/bids/derivatives/fMRI_DA/data_BehModel/originalfMRIbehFiles/AllBehData/dataAllGroup13.csv', index=False)"
   ]
  },
  {
   "cell_type": "code",
   "execution_count": 64,
   "id": "c5f34949",
   "metadata": {},
   "outputs": [
    {
     "data": {
      "text/html": [
       "<table class=\"simpletable\">\n",
       "<tr>\n",
       "        <td></td>        <th>F Value</th> <th>Num DF</th> <th>Den DF</th>  <th>Pr > F</th>\n",
       "</tr>\n",
       "<tr>\n",
       "  <th>session</th>       <td>1.3674</td>  <td>1.0000</td> <td>20.0000</td> <td>0.2560</td>\n",
       "</tr>\n",
       "<tr>\n",
       "  <th>block</th>         <td>3.2493</td>  <td>1.0000</td> <td>20.0000</td> <td>0.0865</td>\n",
       "</tr>\n",
       "<tr>\n",
       "  <th>session:block</th> <td>0.0684</td>  <td>1.0000</td> <td>20.0000</td> <td>0.7963</td>\n",
       "</tr>\n",
       "</table>"
      ],
      "text/plain": [
       "<class 'statsmodels.iolib.summary2.Summary'>\n",
       "\"\"\"\n",
       "                   Anova\n",
       "===========================================\n",
       "              F Value Num DF  Den DF Pr > F\n",
       "-------------------------------------------\n",
       "session        1.3674 1.0000 20.0000 0.2560\n",
       "block          3.2493 1.0000 20.0000 0.0865\n",
       "session:block  0.0684 1.0000 20.0000 0.7963\n",
       "===========================================\n",
       "\n",
       "\"\"\""
      ]
     },
     "execution_count": 64,
     "metadata": {},
     "output_type": "execute_result"
    }
   ],
   "source": [
    "# Repeated mesure ANOVA across session in choice proportion\n",
    "aovrm2way = AnovaRM(data = dataAllGroup13, depvar='correctChoice', subject = 'sub_ID',\n",
    "                    within=['session','block'], aggregate_func='mean')\n",
    "res2way = aovrm2way.fit()\n",
    "res2way.summary()"
   ]
  },
  {
   "cell_type": "code",
   "execution_count": 65,
   "id": "da3b1829",
   "metadata": {
    "scrolled": true
   },
   "outputs": [
    {
     "data": {
      "text/html": [
       "<table class=\"simpletable\">\n",
       "<tr>\n",
       "        <td></td>        <th>F Value</th> <th>Num DF</th> <th>Den DF</th>  <th>Pr > F</th>\n",
       "</tr>\n",
       "<tr>\n",
       "  <th>session</th>       <td>1.3674</td>  <td>1.0000</td> <td>20.0000</td> <td>0.2560</td>\n",
       "</tr>\n",
       "<tr>\n",
       "  <th>block</th>         <td>3.2493</td>  <td>1.0000</td> <td>20.0000</td> <td>0.0865</td>\n",
       "</tr>\n",
       "<tr>\n",
       "  <th>session:block</th> <td>0.0684</td>  <td>1.0000</td> <td>20.0000</td> <td>0.7963</td>\n",
       "</tr>\n",
       "</table>"
      ],
      "text/plain": [
       "<class 'statsmodels.iolib.summary2.Summary'>\n",
       "\"\"\"\n",
       "                   Anova\n",
       "===========================================\n",
       "              F Value Num DF  Den DF Pr > F\n",
       "-------------------------------------------\n",
       "session        1.3674 1.0000 20.0000 0.2560\n",
       "block          3.2493 1.0000 20.0000 0.0865\n",
       "session:block  0.0684 1.0000 20.0000 0.7963\n",
       "===========================================\n",
       "\n",
       "\"\"\""
      ]
     },
     "execution_count": 65,
     "metadata": {},
     "output_type": "execute_result"
    }
   ],
   "source": [
    "# Repeated mesure ANOVA across session in choice proportion\n",
    "aovrm2way = AnovaRM(data = dataAllGroup13, depvar='correctChoice', subject = 'sub_ID',\n",
    "                    within=['session','block'], aggregate_func='mean')\n",
    "res2way = aovrm2way.fit()\n",
    "res2way.summary()"
   ]
  },
  {
   "cell_type": "code",
   "execution_count": 66,
   "id": "6e019cc0",
   "metadata": {
    "scrolled": true
   },
   "outputs": [
    {
     "data": {
      "text/html": [
       "<table class=\"simpletable\">\n",
       "<tr>\n",
       "        <td></td>        <th>F Value</th> <th>Num DF</th> <th>Den DF</th>  <th>Pr > F</th>\n",
       "</tr>\n",
       "<tr>\n",
       "  <th>session</th>       <td>23.6925</td> <td>1.0000</td> <td>20.0000</td> <td>0.0001</td>\n",
       "</tr>\n",
       "<tr>\n",
       "  <th>block</th>         <td>0.3493</td>  <td>1.0000</td> <td>20.0000</td> <td>0.5611</td>\n",
       "</tr>\n",
       "<tr>\n",
       "  <th>session:block</th> <td>2.5279</td>  <td>1.0000</td> <td>20.0000</td> <td>0.1275</td>\n",
       "</tr>\n",
       "</table>"
      ],
      "text/plain": [
       "<class 'statsmodels.iolib.summary2.Summary'>\n",
       "\"\"\"\n",
       "                   Anova\n",
       "===========================================\n",
       "              F Value Num DF  Den DF Pr > F\n",
       "-------------------------------------------\n",
       "session       23.6925 1.0000 20.0000 0.0001\n",
       "block          0.3493 1.0000 20.0000 0.5611\n",
       "session:block  2.5279 1.0000 20.0000 0.1275\n",
       "===========================================\n",
       "\n",
       "\"\"\""
      ]
     },
     "execution_count": 66,
     "metadata": {},
     "output_type": "execute_result"
    }
   ],
   "source": [
    "# Repeated mesure ANOVA across session in response time\n",
    "aovrm2way = AnovaRM(data = dataAllGroup13, depvar='RT', subject = 'sub_ID',\n",
    "                    within=['session','block'], aggregate_func='mean')\n",
    "res2way = aovrm2way.fit()\n",
    "res2way.summary()"
   ]
  },
  {
   "cell_type": "code",
   "execution_count": 67,
   "id": "26ccbee1",
   "metadata": {},
   "outputs": [
    {
     "data": {
      "text/html": [
       "<table class=\"simpletable\">\n",
       "<tr>\n",
       "       <td></td>       <th>F Value</th> <th>Num DF</th> <th>Den DF</th>  <th>Pr > F</th>\n",
       "</tr>\n",
       "<tr>\n",
       "  <th>group</th>       <td>2.6827</td>  <td>1.0000</td> <td>20.0000</td> <td>0.1171</td>\n",
       "</tr>\n",
       "<tr>\n",
       "  <th>block</th>       <td>3.2493</td>  <td>1.0000</td> <td>20.0000</td> <td>0.0865</td>\n",
       "</tr>\n",
       "<tr>\n",
       "  <th>group:block</th> <td>1.5619</td>  <td>1.0000</td> <td>20.0000</td> <td>0.2258</td>\n",
       "</tr>\n",
       "</table>"
      ],
      "text/plain": [
       "<class 'statsmodels.iolib.summary2.Summary'>\n",
       "\"\"\"\n",
       "                  Anova\n",
       "=========================================\n",
       "            F Value Num DF  Den DF Pr > F\n",
       "-----------------------------------------\n",
       "group        2.6827 1.0000 20.0000 0.1171\n",
       "block        3.2493 1.0000 20.0000 0.0865\n",
       "group:block  1.5619 1.0000 20.0000 0.2258\n",
       "=========================================\n",
       "\n",
       "\"\"\""
      ]
     },
     "execution_count": 67,
     "metadata": {},
     "output_type": "execute_result"
    }
   ],
   "source": [
    "# Repeated mesure ANOVA across group in choice proportion\n",
    "aovrm2way = AnovaRM(data = dataAllGroup13, depvar='correctChoice', subject = 'sub_ID',\n",
    "                    within=['group','block'], aggregate_func='mean')\n",
    "res2way = aovrm2way.fit()\n",
    "res2way.summary()"
   ]
  },
  {
   "cell_type": "code",
   "execution_count": 68,
   "id": "7b3f2bc0",
   "metadata": {},
   "outputs": [
    {
     "data": {
      "text/html": [
       "<table class=\"simpletable\">\n",
       "<tr>\n",
       "       <td></td>       <th>F Value</th> <th>Num DF</th> <th>Den DF</th>  <th>Pr > F</th>\n",
       "</tr>\n",
       "<tr>\n",
       "  <th>group</th>       <td>0.0052</td>  <td>1.0000</td> <td>20.0000</td> <td>0.9430</td>\n",
       "</tr>\n",
       "<tr>\n",
       "  <th>block</th>       <td>0.3493</td>  <td>1.0000</td> <td>20.0000</td> <td>0.5611</td>\n",
       "</tr>\n",
       "<tr>\n",
       "  <th>group:block</th> <td>4.7595</td>  <td>1.0000</td> <td>20.0000</td> <td>0.0412</td>\n",
       "</tr>\n",
       "</table>"
      ],
      "text/plain": [
       "<class 'statsmodels.iolib.summary2.Summary'>\n",
       "\"\"\"\n",
       "                  Anova\n",
       "=========================================\n",
       "            F Value Num DF  Den DF Pr > F\n",
       "-----------------------------------------\n",
       "group        0.0052 1.0000 20.0000 0.9430\n",
       "block        0.3493 1.0000 20.0000 0.5611\n",
       "group:block  4.7595 1.0000 20.0000 0.0412\n",
       "=========================================\n",
       "\n",
       "\"\"\""
      ]
     },
     "execution_count": 68,
     "metadata": {},
     "output_type": "execute_result"
    }
   ],
   "source": [
    "# Repeated mesure ANOVA across group in response time\n",
    "aovrm2way = AnovaRM(data = dataAllGroup13, depvar='RT', subject = 'sub_ID',\n",
    "                    within=['group','block'], aggregate_func='mean')\n",
    "res2way = aovrm2way.fit()\n",
    "res2way.summary()"
   ]
  },
  {
   "cell_type": "code",
   "execution_count": 69,
   "id": "6a25725d",
   "metadata": {},
   "outputs": [
    {
     "name": "stderr",
     "output_type": "stream",
     "text": [
      "/tmp/ipykernel_3280225/881196541.py:1: FutureWarning: Indexing with multiple keys (implicitly converted to a tuple of keys) will be deprecated, use a list instead.\n",
      "  dataAllGroup2.groupby(['session', 'block'], as_index=False)['correctChoice', 'RT'].mean()\n"
     ]
    },
    {
     "data": {
      "text/html": [
       "<div>\n",
       "<style scoped>\n",
       "    .dataframe tbody tr th:only-of-type {\n",
       "        vertical-align: middle;\n",
       "    }\n",
       "\n",
       "    .dataframe tbody tr th {\n",
       "        vertical-align: top;\n",
       "    }\n",
       "\n",
       "    .dataframe thead th {\n",
       "        text-align: right;\n",
       "    }\n",
       "</style>\n",
       "<table border=\"1\" class=\"dataframe\">\n",
       "  <thead>\n",
       "    <tr style=\"text-align: right;\">\n",
       "      <th></th>\n",
       "      <th>session</th>\n",
       "      <th>block</th>\n",
       "      <th>correctChoice</th>\n",
       "      <th>RT</th>\n",
       "    </tr>\n",
       "  </thead>\n",
       "  <tbody>\n",
       "    <tr>\n",
       "      <th>0</th>\n",
       "      <td>1</td>\n",
       "      <td>Act</td>\n",
       "      <td>0.497758</td>\n",
       "      <td>1.549385</td>\n",
       "    </tr>\n",
       "    <tr>\n",
       "      <th>1</th>\n",
       "      <td>1</td>\n",
       "      <td>Stim</td>\n",
       "      <td>0.494910</td>\n",
       "      <td>1.539982</td>\n",
       "    </tr>\n",
       "    <tr>\n",
       "      <th>2</th>\n",
       "      <td>2</td>\n",
       "      <td>Act</td>\n",
       "      <td>0.483711</td>\n",
       "      <td>1.458119</td>\n",
       "    </tr>\n",
       "    <tr>\n",
       "      <th>3</th>\n",
       "      <td>2</td>\n",
       "      <td>Stim</td>\n",
       "      <td>0.497548</td>\n",
       "      <td>1.433158</td>\n",
       "    </tr>\n",
       "  </tbody>\n",
       "</table>\n",
       "</div>"
      ],
      "text/plain": [
       "   session block  correctChoice        RT\n",
       "0        1   Act       0.497758  1.549385\n",
       "1        1  Stim       0.494910  1.539982\n",
       "2        2   Act       0.483711  1.458119\n",
       "3        2  Stim       0.497548  1.433158"
      ]
     },
     "execution_count": 69,
     "metadata": {},
     "output_type": "execute_result"
    }
   ],
   "source": [
    "dataAllGroup2.groupby(['session', 'block'], as_index=False)['correctChoice', 'RT'].mean()"
   ]
  },
  {
   "cell_type": "code",
   "execution_count": 70,
   "id": "269d4e13",
   "metadata": {},
   "outputs": [
    {
     "name": "stderr",
     "output_type": "stream",
     "text": [
      "/tmp/ipykernel_3280225/2454123967.py:1: FutureWarning: Indexing with multiple keys (implicitly converted to a tuple of keys) will be deprecated, use a list instead.\n",
      "  dataAllGroup13.groupby(['group', 'block'], as_index=False)['correctChoice', 'RT'].mean()\n"
     ]
    },
    {
     "data": {
      "text/html": [
       "<div>\n",
       "<style scoped>\n",
       "    .dataframe tbody tr th:only-of-type {\n",
       "        vertical-align: middle;\n",
       "    }\n",
       "\n",
       "    .dataframe tbody tr th {\n",
       "        vertical-align: top;\n",
       "    }\n",
       "\n",
       "    .dataframe thead th {\n",
       "        text-align: right;\n",
       "    }\n",
       "</style>\n",
       "<table border=\"1\" class=\"dataframe\">\n",
       "  <thead>\n",
       "    <tr style=\"text-align: right;\">\n",
       "      <th></th>\n",
       "      <th>group</th>\n",
       "      <th>block</th>\n",
       "      <th>correctChoice</th>\n",
       "      <th>RT</th>\n",
       "    </tr>\n",
       "  </thead>\n",
       "  <tbody>\n",
       "    <tr>\n",
       "      <th>0</th>\n",
       "      <td>1</td>\n",
       "      <td>Act</td>\n",
       "      <td>0.501200</td>\n",
       "      <td>1.564469</td>\n",
       "    </tr>\n",
       "    <tr>\n",
       "      <th>1</th>\n",
       "      <td>1</td>\n",
       "      <td>Stim</td>\n",
       "      <td>0.502130</td>\n",
       "      <td>1.505003</td>\n",
       "    </tr>\n",
       "    <tr>\n",
       "      <th>2</th>\n",
       "      <td>3</td>\n",
       "      <td>Act</td>\n",
       "      <td>0.495152</td>\n",
       "      <td>1.522167</td>\n",
       "    </tr>\n",
       "    <tr>\n",
       "      <th>3</th>\n",
       "      <td>3</td>\n",
       "      <td>Stim</td>\n",
       "      <td>0.475529</td>\n",
       "      <td>1.545862</td>\n",
       "    </tr>\n",
       "  </tbody>\n",
       "</table>\n",
       "</div>"
      ],
      "text/plain": [
       "  group block  correctChoice        RT\n",
       "0     1   Act       0.501200  1.564469\n",
       "1     1  Stim       0.502130  1.505003\n",
       "2     3   Act       0.495152  1.522167\n",
       "3     3  Stim       0.475529  1.545862"
      ]
     },
     "execution_count": 70,
     "metadata": {},
     "output_type": "execute_result"
    }
   ],
   "source": [
    "dataAllGroup13.groupby(['group', 'block'], as_index=False)['correctChoice', 'RT'].mean()"
   ]
  },
  {
   "cell_type": "code",
   "execution_count": null,
   "id": "b01c69a1",
   "metadata": {},
   "outputs": [],
   "source": []
  },
  {
   "cell_type": "code",
   "execution_count": 71,
   "id": "670f4511",
   "metadata": {},
   "outputs": [
    {
     "name": "stderr",
     "output_type": "stream",
     "text": [
      "/tmp/ipykernel_3280225/2881906800.py:2: FutureWarning: Indexing with multiple keys (implicitly converted to a tuple of keys) will be deprecated, use a list instead.\n",
      "  dataAllMean = dataAll.groupby(['sub_ID', 'group'], as_index=False)['correctChoice', 'RT'].mean()\n"
     ]
    }
   ],
   "source": [
    "\"\"\" Scatter plots for proportion of correct choice and RT in each group\"\"\"\n",
    "dataAllMean = dataAll.groupby(['sub_ID', 'group'], as_index=False)['correctChoice', 'RT'].mean()"
   ]
  },
  {
   "cell_type": "code",
   "execution_count": 72,
   "id": "b359592c",
   "metadata": {},
   "outputs": [
    {
     "data": {
      "image/png": "[encoded data removed]",
      "text/plain": [
       "<Figure size 800x400 with 1 Axes>"
      ]
     },
     "metadata": {},
     "output_type": "display_data"
    }
   ],
   "source": [
    "plt.figure(figsize=(8, 4))\n",
    "markers = ['o', 'v', '*']\n",
    "groups = ['1', '2', '3']\n",
    "for g, m in zip(groups, markers):\n",
    "    plt.scatter(dataAllMean.loc[dataAllMean['group']==g]['correctChoice'], \n",
    "                dataAllMean.loc[dataAllMean['group']==g]['RT'], marker=m)\n",
    "plt.legend(['Group 1', 'Group 2', 'Group 3'])\n",
    "plt.xlabel('Proportion of correct choice', size=12)\n",
    "plt.ylabel('Mean RT', size=12)\n",
    "plt.title('Correct choice against to mean RT', size=12)\n",
    "plt.grid()\n",
    "plt.show()"
   ]
  },
  {
   "cell_type": "code",
   "execution_count": 73,
   "id": "72a2e780",
   "metadata": {},
   "outputs": [
    {
     "data": {
      "image/png": "[encoded data removed]",
      "text/plain": [
       "<Figure size 1200x1200 with 3 Axes>"
      ]
     },
     "metadata": {},
     "output_type": "display_data"
    }
   ],
   "source": [
    "fig = plt.figure(figsize=(12, 12))\n",
    "markers = ['o', 'v', '*']\n",
    "groups = [1, 2, 3]\n",
    "labels = [['Group 1'], ['Group 2'], ['Group 3']]\n",
    "colors = [['#1f77b4'], ['#ff7f0e'], ['#2ca02c']]\n",
    "for g, m, l, c in zip(groups, markers, labels, colors):\n",
    "    fig.add_subplot(2, 2, g)\n",
    "    x = np.linspace(1, len(dataAllMean.loc[dataAllMean['group']==str(g)]), \n",
    "                    num=len(dataAllMean.loc[dataAllMean['group']==str(g)])).astype(int)\n",
    "    plt.scatter(x, dataAllMean.loc[dataAllMean['group']==str(g)]['correctChoice'] ,marker=m, c=c)\n",
    "    plt.xlabel('Participant Number', size=12)\n",
    "    plt.ylabel('Proportion of correct choice', size=12)\n",
    "    plt.title('Correct choice for each participant', size=12)\n",
    "    plt.grid()\n",
    "    plt.legend(l)\n",
    "plt.show()"
   ]
  },
  {
   "cell_type": "code",
   "execution_count": 74,
   "id": "fa1117ec",
   "metadata": {},
   "outputs": [
    {
     "data": {
      "text/plain": [
       "' Bar plots for proportion of correct choice and RT in each group'"
      ]
     },
     "execution_count": 74,
     "metadata": {},
     "output_type": "execute_result"
    }
   ],
   "source": [
    "\"\"\" Bar plots for proportion of correct choice and RT in each group\"\"\"\n"
   ]
  },
  {
   "cell_type": "code",
   "execution_count": 75,
   "id": "54b62dfd",
   "metadata": {},
   "outputs": [
    {
     "data": {
      "image/png": "[encoded data removed]",
      "text/plain": [
       "<Figure size 800x400 with 1 Axes>"
      ]
     },
     "metadata": {},
     "output_type": "display_data"
    }
   ],
   "source": [
    "plt.figure(figsize=(8, 4))\n",
    "sns.barplot(x='group',y='correctChoice', data=dataAllMean, errorbar='se', width=.4)\n",
    "plt.xlabel('Group label', size=12)\n",
    "plt.ylabel('Proportion of correct choice', size=12)\n",
    "plt.title('Correct choice at the group level', size=12)\n",
    "plt.show()"
   ]
  },
  {
   "cell_type": "code",
   "execution_count": 76,
   "id": "12140a90",
   "metadata": {},
   "outputs": [
    {
     "data": {
      "image/png": "[encoded data removed]",
      "text/plain": [
       "<Figure size 800x400 with 1 Axes>"
      ]
     },
     "metadata": {},
     "output_type": "display_data"
    }
   ],
   "source": [
    "plt.figure(figsize=(8, 4))\n",
    "sns.barplot(x='group',y='RT', data=dataAllMean, errorbar='se', width=.4)\n",
    "plt.xlabel('Group label', size=12)\n",
    "plt.ylabel('Mean RT', size=12)\n",
    "plt.title('RT at the group level', size=12)\n",
    "plt.show()"
   ]
  },
  {
   "cell_type": "code",
   "execution_count": 77,
   "id": "7b5de0fe",
   "metadata": {},
   "outputs": [
    {
     "name": "stderr",
     "output_type": "stream",
     "text": [
      "/tmp/ipykernel_3280225/4248873792.py:1: FutureWarning: Indexing with multiple keys (implicitly converted to a tuple of keys) will be deprecated, use a list instead.\n",
      "  dataAllBlock = dataAll.groupby(['sub_ID', 'group', 'block'], as_index=False)['correctChoice', 'RT'].mean()\n"
     ]
    },
    {
     "data": {
      "image/png": "[encoded data removed]",
      "text/plain": [
       "<Figure size 800x400 with 1 Axes>"
      ]
     },
     "metadata": {},
     "output_type": "display_data"
    }
   ],
   "source": [
    "dataAllBlock = dataAll.groupby(['sub_ID', 'group', 'block'], as_index=False)['correctChoice', 'RT'].mean()\n",
    "\n",
    "plt.figure(figsize=(8, 4))\n",
    "markers = ['o', 'v', '*']\n",
    "groups = ['1', '2', '3']\n",
    "sns.barplot(x='group',y='correctChoice', data=dataAllBlock, hue='block', errorbar='se', width=.4)\n",
    "plt.xlabel('Group label', size=12)\n",
    "plt.ylabel('Proportion of correct choice', size=12)\n",
    "plt.title('Correct choice at the group level', size=12)\n",
    "plt.show()"
   ]
  },
  {
   "cell_type": "code",
   "execution_count": 78,
   "id": "928ae0fc",
   "metadata": {},
   "outputs": [
    {
     "name": "stderr",
     "output_type": "stream",
     "text": [
      "/tmp/ipykernel_3280225/1453531013.py:1: FutureWarning: Indexing with multiple keys (implicitly converted to a tuple of keys) will be deprecated, use a list instead.\n",
      "  dataAllBlockGroup2 = (dataAll.loc[dataAll['group']=='2']).groupby(['sub_ID', 'block', 'session'], as_index=False)['correctChoice', 'RT'].mean()\n"
     ]
    },
    {
     "data": {
      "image/png": "[encoded data removed]",
      "text/plain": [
       "<Figure size 800x400 with 1 Axes>"
      ]
     },
     "metadata": {},
     "output_type": "display_data"
    }
   ],
   "source": [
    "dataAllBlockGroup2 = (dataAll.loc[dataAll['group']=='2']).groupby(['sub_ID', 'block', 'session'], as_index=False)['correctChoice', 'RT'].mean()\n",
    "\n",
    "plt.figure(figsize=(8, 4))\n",
    "sns.barplot(x='session',y='correctChoice', data=dataAllBlockGroup2, hue='block', errorbar='se', width=.4)\n",
    "plt.xlabel('Session', size=12)\n",
    "plt.ylabel('Proportion of correct choice', size=12)\n",
    "plt.title('Correct choice at the group level', size=12)\n",
    "plt.show()"
   ]
  },
  {
   "cell_type": "code",
   "execution_count": 79,
   "id": "0a9037f8",
   "metadata": {},
   "outputs": [
    {
     "name": "stderr",
     "output_type": "stream",
     "text": [
      "/tmp/ipykernel_3280225/2944649069.py:1: FutureWarning: Indexing with multiple keys (implicitly converted to a tuple of keys) will be deprecated, use a list instead.\n",
      "  dataAllBlockGroup13 = (dataAll.loc[dataAll['group']!='2']).groupby(['sub_ID', 'block', 'group'], as_index=False)['correctChoice', 'RT'].mean()\n"
     ]
    },
    {
     "data": {
      "image/png": "[encoded data removed]",
      "text/plain": [
       "<Figure size 800x400 with 1 Axes>"
      ]
     },
     "metadata": {},
     "output_type": "display_data"
    }
   ],
   "source": [
    "dataAllBlockGroup13 = (dataAll.loc[dataAll['group']!='2']).groupby(['sub_ID', 'block', 'group'], as_index=False)['correctChoice', 'RT'].mean()\n",
    "\n",
    "plt.figure(figsize=(8, 4))\n",
    "sns.barplot(x='group',y='correctChoice', data=dataAllBlockGroup13, hue='block', errorbar='se', width=.4)\n",
    "plt.xlabel('Group', size=12)\n",
    "plt.ylabel('Proportion of correct choice', size=12)\n",
    "plt.title('Correct choice at the group level', size=12)\n",
    "plt.show()"
   ]
  },
  {
   "cell_type": "code",
   "execution_count": null,
   "id": "4be07270",
   "metadata": {},
   "outputs": [],
   "source": []
  },
  {
   "cell_type": "code",
   "execution_count": 7,
   "id": "dc233a3f",
   "metadata": {},
   "outputs": [],
   "source": [
    "# Seperate simple repersal point with complex reversal point"
   ]
  },
  {
   "cell_type": "code",
   "execution_count": 15,
   "id": "78848dea",
   "metadata": {},
   "outputs": [
    {
     "data": {
      "text/plain": [
       "'Act'"
      ]
     },
     "execution_count": 15,
     "metadata": {},
     "output_type": "execute_result"
    }
   ],
   "source": [
    "if dataAllGroup2[0:1]['stimActFirst'][0]=='Act':\n",
    "    \n"
   ]
  },
  {
   "cell_type": "code",
   "execution_count": 25,
   "id": "e9ba2728",
   "metadata": {},
   "outputs": [],
   "source": [
    "dataAllGroup3 = dataAllGroup2.loc[((dataAllGroup2['session']==1) & (dataAllGroup2['run']==1) & (dataAllGroup2['block']=='Stim'))|\n",
    "                              ((dataAllGroup2['session']==1) & (dataAllGroup2['run']==1) & (dataAllGroup2['block']=='Act'))|\n",
    "                              ((dataAllGroup2['session']==2) & (dataAllGroup2['run']==1) & (dataAllGroup2['block']=='Act'))|\n",
    "                              ((dataAllGroup2['session']==2) & (dataAllGroup2['run']==1) & (dataAllGroup2['block']=='Stim'))]"
   ]
  },
  {
   "cell_type": "code",
   "execution_count": 54,
   "id": "c8b7f53f",
   "metadata": {},
   "outputs": [
    {
     "name": "stderr",
     "output_type": "stream",
     "text": [
      "/tmp/ipykernel_3280225/253822401.py:1: DeprecationWarning: 'binom_test' is deprecated in favour of 'binomtest' from version 1.7.0 and will be removed in Scipy 1.12.0.\n",
      "  stats.binom_test(184, n=8*42, p=0.5, alternative='greater')\n"
     ]
    },
    {
     "data": {
      "text/plain": [
       "0.04532585585896866"
      ]
     },
     "execution_count": 54,
     "metadata": {},
     "output_type": "execute_result"
    }
   ],
   "source": [
    "stats.binom_test(184, n=8*42, p=0.5, alternative='greater')"
   ]
  },
  {
   "cell_type": "code",
   "execution_count": 55,
   "id": "e6dcccb6",
   "metadata": {},
   "outputs": [
    {
     "data": {
      "text/plain": [
       "0.5476190476190477"
      ]
     },
     "execution_count": 55,
     "metadata": {},
     "output_type": "execute_result"
    }
   ],
   "source": [
    "184/(8*42)"
   ]
  },
  {
   "cell_type": "code",
   "execution_count": null,
   "id": "09501026",
   "metadata": {},
   "outputs": [],
   "source": [
    "\n",
    "        \n",
    "        if df[0:1]['stimActFirst'][0]=='Act':\n",
    "            df = df.loc[((df['session']==1) & (df['run']==1) & (df['block']=='Act'))|\n",
    "                        ((df['session']==1) & (df['run']==2) & (df['block']=='Stim'))|\n",
    "                        ((df['session']==2) & (df['run']==1) & (df['block']=='Stim'))|\n",
    "                        ((df['session']==2) & (df['run']==2) & (df['block']=='Act'))]\n",
    "        elif df[0:1]['stimActFirst'][0]=='Stim':\n",
    "            df = df.loc[((df['session']==1) & (df['run']==1) & (df['block']=='Stim'))|\n",
    "                        ((df['session']==1) & (df['run']==2) & (df['block']=='Act'))|\n",
    "                        ((df['session']==2) & (df['run']==1) & (df['block']=='Act'))|\n",
    "                        ((df['session']==2) & (df['run']==2) & (df['block']=='Stim'))]\n",
    "\n"
   ]
  }
 ],
 "metadata": {
  "kernelspec": {
   "display_name": "Python 3 (ipykernel)",
   "language": "python",
   "name": "python3"
  },
  "language_info": {
   "codemirror_mode": {
    "name": "ipython",
    "version": 3
   },
   "file_extension": ".py",
   "mimetype": "text/x-python",
   "name": "python",
   "nbconvert_exporter": "python",
   "pygments_lexer": "ipython3",
   "version": "3.10.9"
  }
 },
 "nbformat": 4,
 "nbformat_minor": 5
}
