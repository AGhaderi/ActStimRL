{
 "cells": [
  {
   "cell_type": "code",
   "execution_count": 14,
   "id": "d13904f8",
   "metadata": {},
   "outputs": [],
   "source": [
    "import numpy as np\n",
    "import matplotlib.pyplot as plt\n",
    "import pandas as pd\n",
    "from scipy.io import loadmat\n",
    "import os\n",
    "import seaborn as sns\n",
    "import sys\n",
    "sys.path.append('..')\n",
    "from madule import plots\n",
    "from scipy import stats\n",
    "from statsmodels.stats.anova import AnovaRM"
   ]
  },
  {
   "cell_type": "code",
   "execution_count": 15,
   "id": "63ee00bb",
   "metadata": {},
   "outputs": [],
   "source": [
    "# read collected data across data\n",
    "behAll = pd.read_csv('/mnt/projects/7TPD/bids/derivatives/fMRI_DA/data_BehModel/originalfMRIbehFiles/AllBehData/behAll.csv')\n"
   ]
  },
  {
   "cell_type": "markdown",
   "id": "72555476",
   "metadata": {},
   "source": [
    "### Proportion across tials"
   ]
  },
  {
   "cell_type": "code",
   "execution_count": 16,
   "id": "3e5666ce",
   "metadata": {},
   "outputs": [],
   "source": [
    "# Create empty dataframe to save proportion win stay and lose shift for each record\n",
    "df_win_loss = pd.DataFrame()\n",
    "\n",
    "# List of subjects\n",
    "subList = np.unique(behAll.sub_ID)\n",
    "for sub in subList:\n",
    "    for session in range(2):\n",
    "        for run in range(2):\n",
    "            for block in ['Act', 'Stim']:\n",
    "                \n",
    "                # Take color or action value learning, one  \n",
    "                behAllCond = behAll.loc[(behAll['session']==session+1)&(behAll['run']==run+1)&(behAll['block']==block)&(behAll['sub_ID']==sub)]\n",
    "                # get reverse\n",
    "                reverse = np.unique(behAllCond.reverse)[0]\n",
    "                # get group label\n",
    "                group = np.unique(behAllCond.group)[0]\n",
    "                \n",
    "                # number of winning reward for action value learning\n",
    "                n_win = np.sum(behAllCond['correctChoice'].to_numpy()==1) \n",
    "                win_stay = np.zeros(n_win)\n",
    "                if block=='Act':\n",
    "                    j = 0\n",
    "                    for i in range(len(behAllCond)-1):\n",
    "                        if behAllCond['correctChoice'].to_numpy()[i]==1:\n",
    "                            win_stay[j] = behAllCond['pushed'].to_numpy()[i]==behAllCond['pushed'].to_numpy()[i+1]\n",
    "                            j+=1\n",
    "                else:\n",
    "                    j = 0\n",
    "                    for i in range(len(behAllCond)-1):\n",
    "                        if behAllCond['correctChoice'].to_numpy()[i]==1:\n",
    "                            win_stay[j] = behAllCond['yellowChosen'].to_numpy()[i]==behAllCond['yellowChosen'].to_numpy()[i+1]\n",
    "                            j+=1\n",
    "\n",
    "                # number of punishment for action value learning\n",
    "                n_loss = np.sum(behAllCond['correctChoice'].to_numpy()==0)\n",
    "                loss_shift = np.zeros(n_loss)\n",
    "                if block=='Act':\n",
    "                    j = 0\n",
    "                    for i in range(len(behAllCond)-1):\n",
    "                        if behAllCond['correctChoice'].to_numpy()[i]==0:\n",
    "                            loss_shift[j] = behAllCond['pushed'].to_numpy()[i]==behAllCond['pushed'].to_numpy()[i+1]\n",
    "                            j+=1\n",
    "                else:\n",
    "                    j = 0\n",
    "                    for i in range(len(behAllCond)-1):\n",
    "                        if behAllCond['correctChoice'].to_numpy()[i]==0:\n",
    "                            loss_shift[j] = behAllCond['yellowChosen'].to_numpy()[i]==behAllCond['yellowChosen'].to_numpy()[i+1]\n",
    "                            j+=1\n",
    "                \n",
    "                # dictionary for each record\n",
    "                dic = {'session':session+1, 'run':run+1, 'block':block, 'sub_ID':sub, 'reverse':reverse, 'group':group, \n",
    "                      'win_stay': win_stay.mean(), 'loss_shift':loss_shift.mean()}\n",
    "                # Put the dictionary into dataframe\n",
    "                df_win_loss = pd.concat([pd.DataFrame([dic]), df_win_loss])\n",
    "                "
   ]
  },
  {
   "cell_type": "code",
   "execution_count": 19,
   "id": "3ca60209",
   "metadata": {},
   "outputs": [
    {
     "data": {
      "text/plain": [
       "Text(0, 0.5, 'Loss shift')"
      ]
     },
     "execution_count": 19,
     "metadata": {},
     "output_type": "execute_result"
    },
    {
     "data": {
      "image/png": "[encoded data removed]",
      "text/plain": [
       "<Figure size 1000x700 with 2 Axes>"
      ]
     },
     "metadata": {},
     "output_type": "display_data"
    }
   ],
   "source": [
    "fig = plt.figure(figsize=(10,7), tight_layout=True)\n",
    "row = 2\n",
    "column = 2\n",
    "\n",
    "# Win stay\n",
    "fig.add_subplot(row, column, 1)\n",
    "sns.barplot(data = df_win_loss, x='group', y='win_stay', hue='block',  width=.5, errorbar=\"se\")\n",
    "plt.xlabel('Group', fontsize='12')\n",
    "plt.ylabel('Win stay', fontsize='12')\n",
    "\n",
    "# Loss shift\n",
    "fig.add_subplot(row, column, 2)\n",
    "sns.barplot(data = df_win_loss, x='group', y='loss_shift', hue='block',  width=.5, errorbar=\"se\")\n",
    "plt.xlabel('Group', fontsize='12')\n",
    "plt.ylabel('Loss shift', fontsize='12')\n",
    " "
   ]
  },
  {
   "cell_type": "code",
   "execution_count": 126,
   "id": "9cb09ed1",
   "metadata": {},
   "outputs": [],
   "source": [
    "df_win_loss_group = df_win_loss.groupby(['group', 'sub_ID'], as_index=False)['loss_shift'].mean()"
   ]
  },
  {
   "cell_type": "code",
   "execution_count": 151,
   "id": "1aac9982",
   "metadata": {},
   "outputs": [
    {
     "data": {
      "text/plain": [
       "TtestResult(statistic=1.9539165962446796, pvalue=0.0648398662825494, df=20)"
      ]
     },
     "execution_count": 151,
     "metadata": {},
     "output_type": "execute_result"
    }
   ],
   "source": [
    "stats.ttest_rel(x1, x3)"
   ]
  },
  {
   "cell_type": "code",
   "execution_count": 141,
   "id": "3d8e2929",
   "metadata": {},
   "outputs": [
    {
     "data": {
      "text/plain": [
       "0.5369937522498586"
      ]
     },
     "execution_count": 141,
     "metadata": {},
     "output_type": "execute_result"
    }
   ],
   "source": [
    "df_win_loss_group[df_win_loss_group['group']==1]['loss_shift'].mean()"
   ]
  },
  {
   "cell_type": "code",
   "execution_count": 106,
   "id": "9cbaff63",
   "metadata": {},
   "outputs": [
    {
     "data": {
      "text/plain": [
       "TtestResult(statistic=1.966762508142525, pvalue=0.06256450867502271, df=21)"
      ]
     },
     "execution_count": 106,
     "metadata": {},
     "output_type": "execute_result"
    }
   ],
   "source": [
    "stats.ttest_rel(df_win_loss_group[df_win_loss_group['group']==1]['loss_shift'], df_win_loss_group[df_win_loss_group['group']==3]['loss_shift'])"
   ]
  },
  {
   "cell_type": "code",
   "execution_count": 89,
   "id": "39beb117",
   "metadata": {},
   "outputs": [
    {
     "name": "stdout",
     "output_type": "stream",
     "text": [
      "                  Anova\n",
      "=========================================\n",
      "            F Value Num DF  Den DF Pr > F\n",
      "-----------------------------------------\n",
      "group        3.8682 1.0000 21.0000 0.0626\n",
      "block        0.0832 1.0000 21.0000 0.7758\n",
      "group:block  0.6369 1.0000 21.0000 0.4338\n",
      "=========================================\n",
      "\n"
     ]
    }
   ],
   "source": [
    "anov = AnovaRM(data = df_win_loss[df_win_loss['group']!=2], depvar='loss_shift', subject='sub_ID', within=['group', 'block'], between=None, aggregate_func='mean')\n",
    "print(anov.fit())\n"
   ]
  },
  {
   "cell_type": "code",
   "execution_count": 79,
   "id": "875fe6c4",
   "metadata": {},
   "outputs": [
    {
     "name": "stdout",
     "output_type": "stream",
     "text": [
      "                  Anova\n",
      "=========================================\n",
      "            F Value Num DF  Den DF Pr > F\n",
      "-----------------------------------------\n",
      "group        0.3810 1.0000 21.0000 0.5437\n",
      "block        4.0435 1.0000 21.0000 0.0574\n",
      "group:block  0.0056 1.0000 21.0000 0.9408\n",
      "=========================================\n",
      "\n"
     ]
    }
   ],
   "source": [
    "anov = AnovaRM(data = df_win_loss[df_win_loss['group']!=2], depvar='win_stay', subject='sub_ID', within=['group', 'block'], between=None, aggregate_func='mean')\n",
    "print(anov.fit())\n"
   ]
  },
  {
   "cell_type": "code",
   "execution_count": 77,
   "id": "ab50fd01",
   "metadata": {},
   "outputs": [
    {
     "data": {
      "text/html": [
       "<div>\n",
       "<style scoped>\n",
       "    .dataframe tbody tr th:only-of-type {\n",
       "        vertical-align: middle;\n",
       "    }\n",
       "\n",
       "    .dataframe tbody tr th {\n",
       "        vertical-align: top;\n",
       "    }\n",
       "\n",
       "    .dataframe thead th {\n",
       "        text-align: right;\n",
       "    }\n",
       "</style>\n",
       "<table border=\"1\" class=\"dataframe\">\n",
       "  <thead>\n",
       "    <tr style=\"text-align: right;\">\n",
       "      <th></th>\n",
       "      <th>Source</th>\n",
       "      <th>SS</th>\n",
       "      <th>DF1</th>\n",
       "      <th>DF2</th>\n",
       "      <th>MS</th>\n",
       "      <th>F</th>\n",
       "      <th>p-unc</th>\n",
       "      <th>np2</th>\n",
       "      <th>eps</th>\n",
       "    </tr>\n",
       "  </thead>\n",
       "  <tbody>\n",
       "    <tr>\n",
       "      <th>0</th>\n",
       "      <td>group</td>\n",
       "      <td>0.062767</td>\n",
       "      <td>1</td>\n",
       "      <td>44</td>\n",
       "      <td>0.062767</td>\n",
       "      <td>1.885763</td>\n",
       "      <td>0.176638</td>\n",
       "      <td>0.041097</td>\n",
       "      <td>NaN</td>\n",
       "    </tr>\n",
       "    <tr>\n",
       "      <th>1</th>\n",
       "      <td>block</td>\n",
       "      <td>0.000499</td>\n",
       "      <td>1</td>\n",
       "      <td>44</td>\n",
       "      <td>0.000499</td>\n",
       "      <td>0.068116</td>\n",
       "      <td>0.795317</td>\n",
       "      <td>0.001546</td>\n",
       "      <td>1.0</td>\n",
       "    </tr>\n",
       "    <tr>\n",
       "      <th>2</th>\n",
       "      <td>Interaction</td>\n",
       "      <td>0.003718</td>\n",
       "      <td>1</td>\n",
       "      <td>44</td>\n",
       "      <td>0.003718</td>\n",
       "      <td>0.507952</td>\n",
       "      <td>0.479789</td>\n",
       "      <td>0.011413</td>\n",
       "      <td>NaN</td>\n",
       "    </tr>\n",
       "  </tbody>\n",
       "</table>\n",
       "</div>"
      ],
      "text/plain": [
       "        Source        SS  DF1  DF2        MS         F     p-unc       np2  \\\n",
       "0        group  0.062767    1   44  0.062767  1.885763  0.176638  0.041097   \n",
       "1        block  0.000499    1   44  0.000499  0.068116  0.795317  0.001546   \n",
       "2  Interaction  0.003718    1   44  0.003718  0.507952  0.479789  0.011413   \n",
       "\n",
       "   eps  \n",
       "0  NaN  \n",
       "1  1.0  \n",
       "2  NaN  "
      ]
     },
     "execution_count": 77,
     "metadata": {},
     "output_type": "execute_result"
    }
   ],
   "source": [
    "import pingouin as pg\n",
    "pg.mixed_anova(dv='loss_shift', between='group', within='block', subject='sub_ID', data=df_win_loss[df_win_loss['group']!=1])\n"
   ]
  },
  {
   "cell_type": "code",
   "execution_count": 55,
   "id": "105db82c",
   "metadata": {},
   "outputs": [
    {
     "data": {
      "text/html": [
       "<div>\n",
       "<style scoped>\n",
       "    .dataframe tbody tr th:only-of-type {\n",
       "        vertical-align: middle;\n",
       "    }\n",
       "\n",
       "    .dataframe tbody tr th {\n",
       "        vertical-align: top;\n",
       "    }\n",
       "\n",
       "    .dataframe thead th {\n",
       "        text-align: right;\n",
       "    }\n",
       "</style>\n",
       "<table border=\"1\" class=\"dataframe\">\n",
       "  <thead>\n",
       "    <tr style=\"text-align: right;\">\n",
       "      <th></th>\n",
       "      <th>session</th>\n",
       "      <th>run</th>\n",
       "      <th>block</th>\n",
       "      <th>sub_ID</th>\n",
       "      <th>reverse</th>\n",
       "      <th>group</th>\n",
       "      <th>win_stay</th>\n",
       "      <th>loss_shift</th>\n",
       "    </tr>\n",
       "  </thead>\n",
       "  <tbody>\n",
       "    <tr>\n",
       "      <th>0</th>\n",
       "      <td>2</td>\n",
       "      <td>2</td>\n",
       "      <td>Stim</td>\n",
       "      <td>sub-090</td>\n",
       "      <td>14.0</td>\n",
       "      <td>2</td>\n",
       "      <td>0.954545</td>\n",
       "      <td>0.666667</td>\n",
       "    </tr>\n",
       "    <tr>\n",
       "      <th>0</th>\n",
       "      <td>2</td>\n",
       "      <td>2</td>\n",
       "      <td>Act</td>\n",
       "      <td>sub-090</td>\n",
       "      <td>21.0</td>\n",
       "      <td>2</td>\n",
       "      <td>0.954545</td>\n",
       "      <td>0.684211</td>\n",
       "    </tr>\n",
       "    <tr>\n",
       "      <th>0</th>\n",
       "      <td>2</td>\n",
       "      <td>1</td>\n",
       "      <td>Stim</td>\n",
       "      <td>sub-090</td>\n",
       "      <td>21.0</td>\n",
       "      <td>2</td>\n",
       "      <td>0.925926</td>\n",
       "      <td>0.866667</td>\n",
       "    </tr>\n",
       "    <tr>\n",
       "      <th>0</th>\n",
       "      <td>2</td>\n",
       "      <td>1</td>\n",
       "      <td>Act</td>\n",
       "      <td>sub-090</td>\n",
       "      <td>14.0</td>\n",
       "      <td>2</td>\n",
       "      <td>0.842105</td>\n",
       "      <td>0.476190</td>\n",
       "    </tr>\n",
       "    <tr>\n",
       "      <th>0</th>\n",
       "      <td>1</td>\n",
       "      <td>2</td>\n",
       "      <td>Stim</td>\n",
       "      <td>sub-090</td>\n",
       "      <td>14.0</td>\n",
       "      <td>2</td>\n",
       "      <td>0.941176</td>\n",
       "      <td>0.583333</td>\n",
       "    </tr>\n",
       "    <tr>\n",
       "      <th>...</th>\n",
       "      <td>...</td>\n",
       "      <td>...</td>\n",
       "      <td>...</td>\n",
       "      <td>...</td>\n",
       "      <td>...</td>\n",
       "      <td>...</td>\n",
       "      <td>...</td>\n",
       "      <td>...</td>\n",
       "    </tr>\n",
       "    <tr>\n",
       "      <th>0</th>\n",
       "      <td>2</td>\n",
       "      <td>1</td>\n",
       "      <td>Act</td>\n",
       "      <td>sub-012</td>\n",
       "      <td>21.0</td>\n",
       "      <td>2</td>\n",
       "      <td>0.960000</td>\n",
       "      <td>0.812500</td>\n",
       "    </tr>\n",
       "    <tr>\n",
       "      <th>0</th>\n",
       "      <td>1</td>\n",
       "      <td>2</td>\n",
       "      <td>Stim</td>\n",
       "      <td>sub-012</td>\n",
       "      <td>14.0</td>\n",
       "      <td>2</td>\n",
       "      <td>0.869565</td>\n",
       "      <td>0.812500</td>\n",
       "    </tr>\n",
       "    <tr>\n",
       "      <th>0</th>\n",
       "      <td>1</td>\n",
       "      <td>2</td>\n",
       "      <td>Act</td>\n",
       "      <td>sub-012</td>\n",
       "      <td>21.0</td>\n",
       "      <td>2</td>\n",
       "      <td>0.954545</td>\n",
       "      <td>0.789474</td>\n",
       "    </tr>\n",
       "    <tr>\n",
       "      <th>0</th>\n",
       "      <td>1</td>\n",
       "      <td>1</td>\n",
       "      <td>Stim</td>\n",
       "      <td>sub-012</td>\n",
       "      <td>21.0</td>\n",
       "      <td>2</td>\n",
       "      <td>0.954545</td>\n",
       "      <td>0.736842</td>\n",
       "    </tr>\n",
       "    <tr>\n",
       "      <th>0</th>\n",
       "      <td>1</td>\n",
       "      <td>1</td>\n",
       "      <td>Act</td>\n",
       "      <td>sub-012</td>\n",
       "      <td>14.0</td>\n",
       "      <td>2</td>\n",
       "      <td>1.000000</td>\n",
       "      <td>0.904762</td>\n",
       "    </tr>\n",
       "  </tbody>\n",
       "</table>\n",
       "<p>192 rows × 8 columns</p>\n",
       "</div>"
      ],
      "text/plain": [
       "    session  run block   sub_ID  reverse  group  win_stay  loss_shift\n",
       "0         2    2  Stim  sub-090     14.0      2  0.954545    0.666667\n",
       "0         2    2   Act  sub-090     21.0      2  0.954545    0.684211\n",
       "0         2    1  Stim  sub-090     21.0      2  0.925926    0.866667\n",
       "0         2    1   Act  sub-090     14.0      2  0.842105    0.476190\n",
       "0         1    2  Stim  sub-090     14.0      2  0.941176    0.583333\n",
       "..      ...  ...   ...      ...      ...    ...       ...         ...\n",
       "0         2    1   Act  sub-012     21.0      2  0.960000    0.812500\n",
       "0         1    2  Stim  sub-012     14.0      2  0.869565    0.812500\n",
       "0         1    2   Act  sub-012     21.0      2  0.954545    0.789474\n",
       "0         1    1  Stim  sub-012     21.0      2  0.954545    0.736842\n",
       "0         1    1   Act  sub-012     14.0      2  1.000000    0.904762\n",
       "\n",
       "[192 rows x 8 columns]"
      ]
     },
     "execution_count": 55,
     "metadata": {},
     "output_type": "execute_result"
    }
   ],
   "source": [
    "import matplotlib.pyplot as plt\n",
    "import seaborn as sns\n",
    "ax = sns.boxplot(x='genotype', y='yield', hue='fertilizer', data=df_melt)\n",
    "plt.show()\n"
   ]
  },
  {
   "cell_type": "code",
   "execution_count": 25,
   "id": "b638687a",
   "metadata": {
    "scrolled": true
   },
   "outputs": [
    {
     "data": {
      "text/plain": [
       "(0.7260100470743995, 0.7648981773054487, 0.7451021517402385)"
      ]
     },
     "execution_count": 25,
     "metadata": {},
     "output_type": "execute_result"
    }
   ],
   "source": [
    "df_win_g1.mean(), df_win_g2.mean(),  df_win_g3.mean()"
   ]
  },
  {
   "cell_type": "code",
   "execution_count": 26,
   "id": "43728667",
   "metadata": {},
   "outputs": [
    {
     "data": {
      "text/plain": [
       "(0.5369937522498586, 0.5369937522498586, 0.5369937522498586)"
      ]
     },
     "execution_count": 26,
     "metadata": {},
     "output_type": "execute_result"
    }
   ],
   "source": [
    "df_loss_g1.mean(), df_loss_g2.mean(),  df_loss_g3.mean()"
   ]
  },
  {
   "cell_type": "code",
   "execution_count": 27,
   "id": "8e0fcf7e",
   "metadata": {},
   "outputs": [
    {
     "data": {
      "text/plain": [
       "Ttest_indResult(statistic=-1.7207038816577742, pvalue=0.08641724509876467)"
      ]
     },
     "execution_count": 27,
     "metadata": {},
     "output_type": "execute_result"
    }
   ],
   "source": [
    "stats.ttest_ind(df_win_g1, df_win_g2)"
   ]
  },
  {
   "cell_type": "code",
   "execution_count": 28,
   "id": "dd3f40a8",
   "metadata": {},
   "outputs": [
    {
     "data": {
      "text/plain": [
       "Ttest_indResult(statistic=-0.8733771945738393, pvalue=0.3832113005187022)"
      ]
     },
     "execution_count": 28,
     "metadata": {},
     "output_type": "execute_result"
    }
   ],
   "source": [
    "stats.ttest_ind(df_win_g3, df_win_g2)"
   ]
  },
  {
   "cell_type": "code",
   "execution_count": 29,
   "id": "e0847f44",
   "metadata": {},
   "outputs": [
    {
     "data": {
      "text/plain": [
       "TtestResult(statistic=-0.8401584476013372, pvalue=0.40312254182413154, df=87)"
      ]
     },
     "execution_count": 29,
     "metadata": {},
     "output_type": "execute_result"
    }
   ],
   "source": [
    "stats.ttest_rel(df_win_g1, df_win_g3)"
   ]
  },
  {
   "cell_type": "code",
   "execution_count": 36,
   "id": "cece3aee",
   "metadata": {},
   "outputs": [
    {
     "data": {
      "text/html": [
       "<div>\n",
       "<style scoped>\n",
       "    .dataframe tbody tr th:only-of-type {\n",
       "        vertical-align: middle;\n",
       "    }\n",
       "\n",
       "    .dataframe tbody tr th {\n",
       "        vertical-align: top;\n",
       "    }\n",
       "\n",
       "    .dataframe thead th {\n",
       "        text-align: right;\n",
       "    }\n",
       "</style>\n",
       "<table border=\"1\" class=\"dataframe\">\n",
       "  <thead>\n",
       "    <tr style=\"text-align: right;\">\n",
       "      <th></th>\n",
       "      <th>session</th>\n",
       "      <th>run</th>\n",
       "      <th>block</th>\n",
       "      <th>sub_ID</th>\n",
       "      <th>correctChoice</th>\n",
       "    </tr>\n",
       "  </thead>\n",
       "  <tbody>\n",
       "    <tr>\n",
       "      <th>0</th>\n",
       "      <td>1</td>\n",
       "      <td>1</td>\n",
       "      <td>Act</td>\n",
       "      <td>sub-004</td>\n",
       "      <td>0.411765</td>\n",
       "    </tr>\n",
       "    <tr>\n",
       "      <th>1</th>\n",
       "      <td>1</td>\n",
       "      <td>1</td>\n",
       "      <td>Act</td>\n",
       "      <td>sub-010</td>\n",
       "      <td>0.526316</td>\n",
       "    </tr>\n",
       "    <tr>\n",
       "      <th>2</th>\n",
       "      <td>1</td>\n",
       "      <td>1</td>\n",
       "      <td>Act</td>\n",
       "      <td>sub-012</td>\n",
       "      <td>0.475000</td>\n",
       "    </tr>\n",
       "    <tr>\n",
       "      <th>3</th>\n",
       "      <td>1</td>\n",
       "      <td>1</td>\n",
       "      <td>Act</td>\n",
       "      <td>sub-025</td>\n",
       "      <td>0.428571</td>\n",
       "    </tr>\n",
       "    <tr>\n",
       "      <th>4</th>\n",
       "      <td>1</td>\n",
       "      <td>1</td>\n",
       "      <td>Act</td>\n",
       "      <td>sub-026</td>\n",
       "      <td>0.425000</td>\n",
       "    </tr>\n",
       "    <tr>\n",
       "      <th>...</th>\n",
       "      <td>...</td>\n",
       "      <td>...</td>\n",
       "      <td>...</td>\n",
       "      <td>...</td>\n",
       "      <td>...</td>\n",
       "    </tr>\n",
       "    <tr>\n",
       "      <th>363</th>\n",
       "      <td>2</td>\n",
       "      <td>2</td>\n",
       "      <td>Stim</td>\n",
       "      <td>sub-089</td>\n",
       "      <td>0.585366</td>\n",
       "    </tr>\n",
       "    <tr>\n",
       "      <th>364</th>\n",
       "      <td>2</td>\n",
       "      <td>2</td>\n",
       "      <td>Stim</td>\n",
       "      <td>sub-090</td>\n",
       "      <td>0.550000</td>\n",
       "    </tr>\n",
       "    <tr>\n",
       "      <th>365</th>\n",
       "      <td>2</td>\n",
       "      <td>2</td>\n",
       "      <td>Stim</td>\n",
       "      <td>sub-092</td>\n",
       "      <td>0.550000</td>\n",
       "    </tr>\n",
       "    <tr>\n",
       "      <th>366</th>\n",
       "      <td>2</td>\n",
       "      <td>2</td>\n",
       "      <td>Stim</td>\n",
       "      <td>sub-108</td>\n",
       "      <td>0.425000</td>\n",
       "    </tr>\n",
       "    <tr>\n",
       "      <th>367</th>\n",
       "      <td>2</td>\n",
       "      <td>2</td>\n",
       "      <td>Stim</td>\n",
       "      <td>sub-109</td>\n",
       "      <td>0.564103</td>\n",
       "    </tr>\n",
       "  </tbody>\n",
       "</table>\n",
       "<p>368 rows × 5 columns</p>\n",
       "</div>"
      ],
      "text/plain": [
       "     session  run block   sub_ID  correctChoice\n",
       "0          1    1   Act  sub-004       0.411765\n",
       "1          1    1   Act  sub-010       0.526316\n",
       "2          1    1   Act  sub-012       0.475000\n",
       "3          1    1   Act  sub-025       0.428571\n",
       "4          1    1   Act  sub-026       0.425000\n",
       "..       ...  ...   ...      ...            ...\n",
       "363        2    2  Stim  sub-089       0.585366\n",
       "364        2    2  Stim  sub-090       0.550000\n",
       "365        2    2  Stim  sub-092       0.550000\n",
       "366        2    2  Stim  sub-108       0.425000\n",
       "367        2    2  Stim  sub-109       0.564103\n",
       "\n",
       "[368 rows x 5 columns]"
      ]
     },
     "execution_count": 36,
     "metadata": {},
     "output_type": "execute_result"
    }
   ],
   "source": [
    "behAll.groupby(['session', 'run', 'block', 'sub_ID'], as_index=False)['correctChoice'].mean()"
   ]
  },
  {
   "cell_type": "markdown",
   "id": "28567538",
   "metadata": {},
   "source": [
    "### Proportion for each trial"
   ]
  },
  {
   "cell_type": "code",
   "execution_count": 29,
   "id": "7f5bc3af",
   "metadata": {
    "scrolled": false
   },
   "outputs": [],
   "source": [
    "# Find chosen win amount for each trial\n",
    "chosenAmount = behAll['leftChosen']*behAll['winAmtLeft'] + (1-behAll['leftChosen'])*behAll['winAmtRight'] \n",
    "behAll['chosenWinAmt'] = chosenAmount"
   ]
  },
  {
   "cell_type": "markdown",
   "id": "1b2fba79",
   "metadata": {},
   "source": [
    "- Win stay and large amount\n",
    "- win stay and lower amount\n",
    "- loss shift and larger amount\n",
    "- loss shift and lower amount"
   ]
  },
  {
   "cell_type": "code",
   "execution_count": 41,
   "id": "1456563b",
   "metadata": {},
   "outputs": [
    {
     "name": "stderr",
     "output_type": "stream",
     "text": [
      "/tmp/ipykernel_830582/3670871078.py:52: RuntimeWarning: Mean of empty slice.\n",
      "  'win_stay': win_stay.mean(), 'loss_shift':loss_shift.mean()}\n",
      "/mrhome/amingk/anaconda3/lib/python3.10/site-packages/numpy/core/_methods.py:190: RuntimeWarning: invalid value encountered in double_scalars\n",
      "  ret = ret.dtype.type(ret / rcount)\n",
      "/tmp/ipykernel_830582/3670871078.py:52: RuntimeWarning: Mean of empty slice.\n",
      "  'win_stay': win_stay.mean(), 'loss_shift':loss_shift.mean()}\n",
      "/mrhome/amingk/anaconda3/lib/python3.10/site-packages/numpy/core/_methods.py:190: RuntimeWarning: invalid value encountered in double_scalars\n",
      "  ret = ret.dtype.type(ret / rcount)\n",
      "/tmp/ipykernel_830582/3670871078.py:52: RuntimeWarning: Mean of empty slice.\n",
      "  'win_stay': win_stay.mean(), 'loss_shift':loss_shift.mean()}\n",
      "/mrhome/amingk/anaconda3/lib/python3.10/site-packages/numpy/core/_methods.py:190: RuntimeWarning: invalid value encountered in double_scalars\n",
      "  ret = ret.dtype.type(ret / rcount)\n",
      "/tmp/ipykernel_830582/3670871078.py:52: RuntimeWarning: Mean of empty slice.\n",
      "  'win_stay': win_stay.mean(), 'loss_shift':loss_shift.mean()}\n",
      "/mrhome/amingk/anaconda3/lib/python3.10/site-packages/numpy/core/_methods.py:190: RuntimeWarning: invalid value encountered in double_scalars\n",
      "  ret = ret.dtype.type(ret / rcount)\n",
      "/tmp/ipykernel_830582/3670871078.py:52: RuntimeWarning: Mean of empty slice.\n",
      "  'win_stay': win_stay.mean(), 'loss_shift':loss_shift.mean()}\n",
      "/mrhome/amingk/anaconda3/lib/python3.10/site-packages/numpy/core/_methods.py:190: RuntimeWarning: invalid value encountered in double_scalars\n",
      "  ret = ret.dtype.type(ret / rcount)\n",
      "/tmp/ipykernel_830582/3670871078.py:52: RuntimeWarning: Mean of empty slice.\n",
      "  'win_stay': win_stay.mean(), 'loss_shift':loss_shift.mean()}\n",
      "/mrhome/amingk/anaconda3/lib/python3.10/site-packages/numpy/core/_methods.py:190: RuntimeWarning: invalid value encountered in double_scalars\n",
      "  ret = ret.dtype.type(ret / rcount)\n",
      "/tmp/ipykernel_830582/3670871078.py:52: RuntimeWarning: Mean of empty slice.\n",
      "  'win_stay': win_stay.mean(), 'loss_shift':loss_shift.mean()}\n",
      "/mrhome/amingk/anaconda3/lib/python3.10/site-packages/numpy/core/_methods.py:190: RuntimeWarning: invalid value encountered in double_scalars\n",
      "  ret = ret.dtype.type(ret / rcount)\n",
      "/tmp/ipykernel_830582/3670871078.py:52: RuntimeWarning: Mean of empty slice.\n",
      "  'win_stay': win_stay.mean(), 'loss_shift':loss_shift.mean()}\n",
      "/mrhome/amingk/anaconda3/lib/python3.10/site-packages/numpy/core/_methods.py:190: RuntimeWarning: invalid value encountered in double_scalars\n",
      "  ret = ret.dtype.type(ret / rcount)\n",
      "/tmp/ipykernel_830582/3670871078.py:52: RuntimeWarning: Mean of empty slice.\n",
      "  'win_stay': win_stay.mean(), 'loss_shift':loss_shift.mean()}\n",
      "/mrhome/amingk/anaconda3/lib/python3.10/site-packages/numpy/core/_methods.py:190: RuntimeWarning: invalid value encountered in double_scalars\n",
      "  ret = ret.dtype.type(ret / rcount)\n",
      "/tmp/ipykernel_830582/3670871078.py:52: RuntimeWarning: Mean of empty slice.\n",
      "  'win_stay': win_stay.mean(), 'loss_shift':loss_shift.mean()}\n",
      "/mrhome/amingk/anaconda3/lib/python3.10/site-packages/numpy/core/_methods.py:190: RuntimeWarning: invalid value encountered in double_scalars\n",
      "  ret = ret.dtype.type(ret / rcount)\n",
      "/tmp/ipykernel_830582/3670871078.py:52: RuntimeWarning: Mean of empty slice.\n",
      "  'win_stay': win_stay.mean(), 'loss_shift':loss_shift.mean()}\n",
      "/mrhome/amingk/anaconda3/lib/python3.10/site-packages/numpy/core/_methods.py:190: RuntimeWarning: invalid value encountered in double_scalars\n",
      "  ret = ret.dtype.type(ret / rcount)\n",
      "/tmp/ipykernel_830582/3670871078.py:52: RuntimeWarning: Mean of empty slice.\n",
      "  'win_stay': win_stay.mean(), 'loss_shift':loss_shift.mean()}\n",
      "/mrhome/amingk/anaconda3/lib/python3.10/site-packages/numpy/core/_methods.py:190: RuntimeWarning: invalid value encountered in double_scalars\n",
      "  ret = ret.dtype.type(ret / rcount)\n",
      "/tmp/ipykernel_830582/3670871078.py:52: RuntimeWarning: Mean of empty slice.\n",
      "  'win_stay': win_stay.mean(), 'loss_shift':loss_shift.mean()}\n",
      "/mrhome/amingk/anaconda3/lib/python3.10/site-packages/numpy/core/_methods.py:190: RuntimeWarning: invalid value encountered in double_scalars\n",
      "  ret = ret.dtype.type(ret / rcount)\n"
     ]
    }
   ],
   "source": [
    "# Create empty dataframe to save proportion win stay and lose shift for each record\n",
    "df_win_loss = pd.DataFrame()\n",
    "\n",
    "# List of subjects\n",
    "subList = np.unique(behAll.sub_ID)\n",
    "for sub in subList:\n",
    "    for session in range(2):\n",
    "        for run in range(2):\n",
    "            for block in ['Act', 'Stim']:\n",
    "                \n",
    "                # Take color or action value learning, one  \n",
    "                behAllCond = behAll.loc[(behAll['session']==session+1)&(behAll['run']==run+1)&(behAll['block']==block)&(behAll['sub_ID']==sub)]\n",
    "                # get reverse\n",
    "                reverse = np.unique(behAllCond.reverse)[0]\n",
    "                # get group label\n",
    "                group = np.unique(behAllCond.group)[0]\n",
    "                \n",
    "                # number of winning reward for action value learning\n",
    "                n_win = np.sum((behAllCond['correctChoice'].to_numpy()==1) * (behAllCond['chosenWinAmt'].to_numpy()<=50))\n",
    "                win_stay = np.zeros(n_win)\n",
    "                if block=='Act':\n",
    "                    j = 0\n",
    "                    for i in range(len(behAllCond)-1):\n",
    "                        if behAllCond['correctChoice'].to_numpy()[i]==1 and behAllCond['chosenWinAmt'].to_numpy()[i]<=50:\n",
    "                            win_stay[j] = behAllCond['pushed'].to_numpy()[i]==behAllCond['pushed'].to_numpy()[i+1]\n",
    "                            j+=1\n",
    "                else:\n",
    "                    j = 0\n",
    "                    for i in range(len(behAllCond)-1):\n",
    "                        if behAllCond['correctChoice'].to_numpy()[i]==1 and behAllCond['chosenWinAmt'].to_numpy()[i]<=50:\n",
    "                            win_stay[j] = behAllCond['yellowChosen'].to_numpy()[i]==behAllCond['yellowChosen'].to_numpy()[i+1]\n",
    "                            j+=1\n",
    "\n",
    "                # number of punishment for action value learning\n",
    "                n_loss = np.sum((behAllCond['correctChoice'].to_numpy()==0) * (behAllCond['chosenWinAmt'].to_numpy()<=50))\n",
    "                loss_shift = np.zeros(n_loss)\n",
    "                if block=='Act':\n",
    "                    j = 0\n",
    "                    for i in range(len(behAllCond)-1):\n",
    "                        if behAllCond['correctChoice'].to_numpy()[i]==0 and behAllCond['chosenWinAmt'].to_numpy()[i]<=50:\n",
    "                            loss_shift[j] = behAllCond['pushed'].to_numpy()[i]==behAllCond['pushed'].to_numpy()[i+1]\n",
    "                            j+=1\n",
    "                else:\n",
    "                    j = 0\n",
    "                    for i in range(len(behAllCond)-1):\n",
    "                        if behAllCond['correctChoice'].to_numpy()[i]==0 and behAllCond['chosenWinAmt'].to_numpy()[i]<=50:\n",
    "                            loss_shift[j] = behAllCond['yellowChosen'].to_numpy()[i]==behAllCond['yellowChosen'].to_numpy()[i+1]\n",
    "                            j+=1\n",
    "                \n",
    "                # dictionary for each record\n",
    "                dic = {'session':session+1, 'run':run+1, 'block':block, 'sub_ID':sub, 'reverse':reverse, 'group':group, \n",
    "                      'win_stay': win_stay.mean(), 'loss_shift':loss_shift.mean()}\n",
    "                # Put the dictionary into dataframe\n",
    "                df_win_loss = pd.concat([pd.DataFrame([dic]), df_win_loss])\n",
    "                "
   ]
  },
  {
   "cell_type": "code",
   "execution_count": 42,
   "id": "c21efddb",
   "metadata": {},
   "outputs": [
    {
     "name": "stderr",
     "output_type": "stream",
     "text": [
      "/tmp/ipykernel_830582/4046870841.py:1: FutureWarning: Indexing with multiple keys (implicitly converted to a tuple of keys) will be deprecated, use a list instead.\n",
      "  df_win_loss_group = df_win_loss.groupby(['group'], as_index=False)['win_stay', 'loss_shift'].mean()\n"
     ]
    }
   ],
   "source": [
    "df_win_loss_group = df_win_loss.groupby(['group'], as_index=False)['win_stay', 'loss_shift'].mean()"
   ]
  },
  {
   "cell_type": "code",
   "execution_count": 43,
   "id": "8797d758",
   "metadata": {},
   "outputs": [
    {
     "data": {
      "text/html": [
       "<div>\n",
       "<style scoped>\n",
       "    .dataframe tbody tr th:only-of-type {\n",
       "        vertical-align: middle;\n",
       "    }\n",
       "\n",
       "    .dataframe tbody tr th {\n",
       "        vertical-align: top;\n",
       "    }\n",
       "\n",
       "    .dataframe thead th {\n",
       "        text-align: right;\n",
       "    }\n",
       "</style>\n",
       "<table border=\"1\" class=\"dataframe\">\n",
       "  <thead>\n",
       "    <tr style=\"text-align: right;\">\n",
       "      <th></th>\n",
       "      <th>group</th>\n",
       "      <th>win_stay</th>\n",
       "      <th>loss_shift</th>\n",
       "    </tr>\n",
       "  </thead>\n",
       "  <tbody>\n",
       "    <tr>\n",
       "      <th>0</th>\n",
       "      <td>1</td>\n",
       "      <td>0.755191</td>\n",
       "      <td>0.531708</td>\n",
       "    </tr>\n",
       "    <tr>\n",
       "      <th>1</th>\n",
       "      <td>2</td>\n",
       "      <td>0.795031</td>\n",
       "      <td>0.579105</td>\n",
       "    </tr>\n",
       "    <tr>\n",
       "      <th>2</th>\n",
       "      <td>3</td>\n",
       "      <td>0.808614</td>\n",
       "      <td>0.517873</td>\n",
       "    </tr>\n",
       "  </tbody>\n",
       "</table>\n",
       "</div>"
      ],
      "text/plain": [
       "   group  win_stay  loss_shift\n",
       "0      1  0.755191    0.531708\n",
       "1      2  0.795031    0.579105\n",
       "2      3  0.808614    0.517873"
      ]
     },
     "execution_count": 43,
     "metadata": {},
     "output_type": "execute_result"
    }
   ],
   "source": [
    "df_win_loss_group"
   ]
  },
  {
   "cell_type": "code",
   "execution_count": 87,
   "id": "6a2af84d",
   "metadata": {},
   "outputs": [
    {
     "data": {
      "text/html": [
       "<div>\n",
       "<style scoped>\n",
       "    .dataframe tbody tr th:only-of-type {\n",
       "        vertical-align: middle;\n",
       "    }\n",
       "\n",
       "    .dataframe tbody tr th {\n",
       "        vertical-align: top;\n",
       "    }\n",
       "\n",
       "    .dataframe thead th {\n",
       "        text-align: right;\n",
       "    }\n",
       "</style>\n",
       "<table border=\"1\" class=\"dataframe\">\n",
       "  <thead>\n",
       "    <tr style=\"text-align: right;\">\n",
       "      <th></th>\n",
       "      <th>block</th>\n",
       "      <th>group</th>\n",
       "      <th>loss_shift</th>\n",
       "    </tr>\n",
       "  </thead>\n",
       "  <tbody>\n",
       "    <tr>\n",
       "      <th>0</th>\n",
       "      <td>Act</td>\n",
       "      <td>1</td>\n",
       "      <td>0.002331</td>\n",
       "    </tr>\n",
       "    <tr>\n",
       "      <th>1</th>\n",
       "      <td>Act</td>\n",
       "      <td>2</td>\n",
       "      <td>0.004885</td>\n",
       "    </tr>\n",
       "    <tr>\n",
       "      <th>2</th>\n",
       "      <td>Act</td>\n",
       "      <td>3</td>\n",
       "      <td>0.002237</td>\n",
       "    </tr>\n",
       "    <tr>\n",
       "      <th>3</th>\n",
       "      <td>Stim</td>\n",
       "      <td>1</td>\n",
       "      <td>0.002293</td>\n",
       "    </tr>\n",
       "    <tr>\n",
       "      <th>4</th>\n",
       "      <td>Stim</td>\n",
       "      <td>2</td>\n",
       "      <td>0.004764</td>\n",
       "    </tr>\n",
       "    <tr>\n",
       "      <th>5</th>\n",
       "      <td>Stim</td>\n",
       "      <td>3</td>\n",
       "      <td>0.002051</td>\n",
       "    </tr>\n",
       "  </tbody>\n",
       "</table>\n",
       "</div>"
      ],
      "text/plain": [
       "  block  group  loss_shift\n",
       "0   Act      1    0.002331\n",
       "1   Act      2    0.004885\n",
       "2   Act      3    0.002237\n",
       "3  Stim      1    0.002293\n",
       "4  Stim      2    0.004764\n",
       "5  Stim      3    0.002051"
      ]
     },
     "execution_count": 87,
     "metadata": {},
     "output_type": "execute_result"
    }
   ],
   "source": [
    "df_win_loss.groupby(['block', 'group'], as_index=False)['loss_shift'].mean()"
   ]
  },
  {
   "cell_type": "code",
   "execution_count": 83,
   "id": "9a6267c3",
   "metadata": {},
   "outputs": [
    {
     "data": {
      "text/html": [
       "<div>\n",
       "<style scoped>\n",
       "    .dataframe tbody tr th:only-of-type {\n",
       "        vertical-align: middle;\n",
       "    }\n",
       "\n",
       "    .dataframe tbody tr th {\n",
       "        vertical-align: top;\n",
       "    }\n",
       "\n",
       "    .dataframe thead th {\n",
       "        text-align: right;\n",
       "    }\n",
       "</style>\n",
       "<table border=\"1\" class=\"dataframe\">\n",
       "  <thead>\n",
       "    <tr style=\"text-align: right;\">\n",
       "      <th></th>\n",
       "      <th>block</th>\n",
       "      <th>group</th>\n",
       "      <th>sub_ID</th>\n",
       "      <th>win_stay</th>\n",
       "      <th>loss_shift</th>\n",
       "    </tr>\n",
       "  </thead>\n",
       "  <tbody>\n",
       "    <tr>\n",
       "      <th>0</th>\n",
       "      <td>Stim</td>\n",
       "      <td>3</td>\n",
       "      <td>sub-109</td>\n",
       "      <td>0.013453</td>\n",
       "      <td>0.005146</td>\n",
       "    </tr>\n",
       "    <tr>\n",
       "      <th>0</th>\n",
       "      <td>Act</td>\n",
       "      <td>3</td>\n",
       "      <td>sub-109</td>\n",
       "      <td>0.012812</td>\n",
       "      <td>0.008148</td>\n",
       "    </tr>\n",
       "    <tr>\n",
       "      <th>0</th>\n",
       "      <td>Stim</td>\n",
       "      <td>2</td>\n",
       "      <td>sub-109</td>\n",
       "      <td>0.000000</td>\n",
       "      <td>0.000000</td>\n",
       "    </tr>\n",
       "    <tr>\n",
       "      <th>0</th>\n",
       "      <td>Act</td>\n",
       "      <td>2</td>\n",
       "      <td>sub-109</td>\n",
       "      <td>0.000000</td>\n",
       "      <td>0.000000</td>\n",
       "    </tr>\n",
       "    <tr>\n",
       "      <th>0</th>\n",
       "      <td>Stim</td>\n",
       "      <td>1</td>\n",
       "      <td>sub-109</td>\n",
       "      <td>0.011531</td>\n",
       "      <td>0.003859</td>\n",
       "    </tr>\n",
       "    <tr>\n",
       "      <th>...</th>\n",
       "      <td>...</td>\n",
       "      <td>...</td>\n",
       "      <td>...</td>\n",
       "      <td>...</td>\n",
       "      <td>...</td>\n",
       "    </tr>\n",
       "    <tr>\n",
       "      <th>0</th>\n",
       "      <td>Act</td>\n",
       "      <td>3</td>\n",
       "      <td>sub-004</td>\n",
       "      <td>0.009609</td>\n",
       "      <td>0.004717</td>\n",
       "    </tr>\n",
       "    <tr>\n",
       "      <th>0</th>\n",
       "      <td>Stim</td>\n",
       "      <td>2</td>\n",
       "      <td>sub-004</td>\n",
       "      <td>0.000000</td>\n",
       "      <td>0.000000</td>\n",
       "    </tr>\n",
       "    <tr>\n",
       "      <th>0</th>\n",
       "      <td>Act</td>\n",
       "      <td>2</td>\n",
       "      <td>sub-004</td>\n",
       "      <td>0.000000</td>\n",
       "      <td>0.000000</td>\n",
       "    </tr>\n",
       "    <tr>\n",
       "      <th>0</th>\n",
       "      <td>Stim</td>\n",
       "      <td>1</td>\n",
       "      <td>sub-004</td>\n",
       "      <td>0.012812</td>\n",
       "      <td>0.003859</td>\n",
       "    </tr>\n",
       "    <tr>\n",
       "      <th>0</th>\n",
       "      <td>Act</td>\n",
       "      <td>1</td>\n",
       "      <td>sub-004</td>\n",
       "      <td>0.012172</td>\n",
       "      <td>0.003002</td>\n",
       "    </tr>\n",
       "  </tbody>\n",
       "</table>\n",
       "<p>276 rows × 5 columns</p>\n",
       "</div>"
      ],
      "text/plain": [
       "   block  group   sub_ID  win_stay  loss_shift\n",
       "0   Stim      3  sub-109  0.013453    0.005146\n",
       "0    Act      3  sub-109  0.012812    0.008148\n",
       "0   Stim      2  sub-109  0.000000    0.000000\n",
       "0    Act      2  sub-109  0.000000    0.000000\n",
       "0   Stim      1  sub-109  0.011531    0.003859\n",
       "..   ...    ...      ...       ...         ...\n",
       "0    Act      3  sub-004  0.009609    0.004717\n",
       "0   Stim      2  sub-004  0.000000    0.000000\n",
       "0    Act      2  sub-004  0.000000    0.000000\n",
       "0   Stim      1  sub-004  0.012812    0.003859\n",
       "0    Act      1  sub-004  0.012172    0.003002\n",
       "\n",
       "[276 rows x 5 columns]"
      ]
     },
     "execution_count": 83,
     "metadata": {},
     "output_type": "execute_result"
    }
   ],
   "source": [
    "df_win_loss"
   ]
  },
  {
   "cell_type": "code",
   "execution_count": null,
   "id": "5ee962b1",
   "metadata": {},
   "outputs": [],
   "source": []
  }
 ],
 "metadata": {
  "kernelspec": {
   "display_name": "Python 3 (ipykernel)",
   "language": "python",
   "name": "python3"
  },
  "language_info": {
   "codemirror_mode": {
    "name": "ipython",
    "version": 3
   },
   "file_extension": ".py",
   "mimetype": "text/x-python",
   "name": "python",
   "nbconvert_exporter": "python",
   "pygments_lexer": "ipython3",
   "version": "3.10.9"
  }
 },
 "nbformat": 4,
 "nbformat_minor": 5
}
