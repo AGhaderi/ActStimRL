{
 "cells": [
  {
   "cell_type": "code",
   "execution_count": 29,
   "id": "53754f6d",
   "metadata": {},
   "outputs": [],
   "source": [
    "import numpy as np\n",
    "import matplotlib.pyplot as plt\n",
    "import pandas as pd\n",
    "from scipy.io import loadmat\n",
    "import os\n",
    "import seaborn as sns\n",
    "import sys\n",
    "sys.path.append('..')\n",
    "from madule import plots"
   ]
  },
  {
   "cell_type": "code",
   "execution_count": 30,
   "id": "4f80db2b",
   "metadata": {},
   "outputs": [],
   "source": [
    "# This should be the first module to be run"
   ]
  },
  {
   "cell_type": "code",
   "execution_count": 31,
   "id": "51e64008",
   "metadata": {},
   "outputs": [
    {
     "ename": "IndexError",
     "evalue": "index 2 is out of bounds for axis 0 with size 2",
     "output_type": "error",
     "traceback": [
      "\u001b[0;31m---------------------------------------------------------------------------\u001b[0m",
      "\u001b[0;31mIndexError\u001b[0m                                Traceback (most recent call last)",
      "Cell \u001b[0;32mIn[31], line 37\u001b[0m\n\u001b[1;32m     35\u001b[0m \u001b[38;5;66;03m# Order of conditiond for all runs and sessions\u001b[39;00m\n\u001b[1;32m     36\u001b[0m blocks \u001b[38;5;241m=\u001b[39m data\u001b[38;5;241m.\u001b[39mgroupby([\u001b[38;5;124m'\u001b[39m\u001b[38;5;124msession\u001b[39m\u001b[38;5;124m'\u001b[39m, \u001b[38;5;124m'\u001b[39m\u001b[38;5;124mrun\u001b[39m\u001b[38;5;124m'\u001b[39m])[\u001b[38;5;124m'\u001b[39m\u001b[38;5;124mblock\u001b[39m\u001b[38;5;124m'\u001b[39m]\u001b[38;5;241m.\u001b[39munique()\u001b[38;5;241m.\u001b[39mto_numpy()\n\u001b[0;32m---> 37\u001b[0m blocks \u001b[38;5;241m=\u001b[39m np\u001b[38;5;241m.\u001b[39marray([blocks[\u001b[38;5;241m0\u001b[39m], blocks[\u001b[38;5;241m1\u001b[39m], \u001b[43mblocks\u001b[49m\u001b[43m[\u001b[49m\u001b[38;5;241;43m2\u001b[39;49m\u001b[43m]\u001b[49m, blocks[\u001b[38;5;241m3\u001b[39m]])\u001b[38;5;241m.\u001b[39mflatten()\n\u001b[1;32m     39\u001b[0m \u001b[38;5;66;03m# reversal point for session one\u001b[39;00m\n\u001b[1;32m     40\u001b[0m data_reverse_session1 \u001b[38;5;241m=\u001b[39m loadmat(subMainDirec \u001b[38;5;241m+\u001b[39m subName \u001b[38;5;241m+\u001b[39m files[\u001b[38;5;241m0\u001b[39m] \u001b[38;5;241m+\u001b[39m \u001b[38;5;124m'\u001b[39m\u001b[38;5;124m.mat\u001b[39m\u001b[38;5;124m'\u001b[39m)\n",
      "\u001b[0;31mIndexError\u001b[0m: index 2 is out of bounds for axis 0 with size 2"
     ]
    }
   ],
   "source": [
    "\"\"\"Add reversal poins as a new column and then collect all sessions and runs files into one csv file\"\"\"\n",
    "\n",
    "# List of subjects\n",
    "subList = ['sub-004', 'sub-010', 'sub-012', 'sub-025', 'sub-026', 'sub-029', 'sub-030',\n",
    "           'sub-033', 'sub-034', 'sub-036', 'sub-040', 'sub-041', 'sub-042', 'sub-044', \n",
    "           'sub-045', 'sub-047', 'sub-048', 'sub-052', 'sub-054', 'sub-056', 'sub-059', \n",
    "           'sub-060', 'sub-064', 'sub-065', 'sub-067', 'sub-069', 'sub-070', 'sub-071', \n",
    "           'sub-074', 'sub-075', 'sub-076', 'sub-077', 'sub-078', 'sub-079', 'sub-080', \n",
    "           'sub-081', 'sub-082', 'sub-083', 'sub-085', 'sub-087', 'sub-088', 'sub-089', \n",
    "           'sub-090',  'sub-092', 'sub-108', 'sub-109']\n",
    "\n",
    "# Group labels\n",
    "randomGroupLabel = pd.read_csv('/mnt/projects/7TPD/bids/derivatives/fMRI_DA/data_BehModel/randomGroupLabel.csv')\n",
    "# Concatenating data\n",
    "dataAll = pd.DataFrame([])\n",
    "\n",
    "for subName in subList:\n",
    "    \n",
    "    # List of existing .csv files for each session and run realted to the subject\n",
    "    files = ['/ses-02achieva7t/' + subName + '_ses-02achieva7t_task-DA_run-1_beh',\n",
    "             '/ses-02achieva7t/' + subName + '_ses-02achieva7t_task-DA_run-2_beh',\n",
    "             '/ses-03achieva7t/' + subName + '_ses-03achieva7t_task-DA_run-1_beh',\n",
    "             '/ses-03achieva7t/' + subName + '_ses-03achieva7t_task-DA_run-2_beh']\n",
    "\n",
    "    # Main directory of the subject\n",
    "    subMainDirec = '/mnt/projects/7TPD/bids/derivatives/fMRI_DA/data_BehModel/originalfMRIbehFiles/'\n",
    "\n",
    "    # Making empty Dataframe to be concatenated in all four .csv file of the subject\n",
    "    data = pd.DataFrame([])\n",
    "    for i in range(len(files)):\n",
    "        dirc = subMainDirec + subName + files[i] + '.csv'\n",
    "        df = pd.read_csv(dirc)\n",
    "        data = pd.concat([data, df])\n",
    "    \n",
    "    # Order of conditiond for all runs and sessions\n",
    "    blocks = data.groupby(['session', 'run'])['block'].unique().to_numpy()\n",
    "    blocks = np.array([blocks[0], blocks[1], blocks[2], blocks[3]]).flatten()\n",
    "  \n",
    "    # reversal point for session one\n",
    "    data_reverse_session1 = loadmat(subMainDirec + subName + files[0] + '.mat')\n",
    "    sess1_blockList1_1 = data_reverse_session1['blockList1_1'][0][0]\n",
    "    sess1_blockList1_2 = data_reverse_session1['blockList1_2'][0][0]\n",
    "    sess1_blockList2_1 = data_reverse_session1['blockList2_1'][0][0]\n",
    "    sess1_blockList2_2 = data_reverse_session1['blockList2_2'][0][0]\n",
    "    # reversal point for session two\n",
    "    data_reverse_session2 = loadmat(subMainDirec + subName + files[2] + '.mat')\n",
    "    sess2_blockList1_1 = data_reverse_session2['blockList1_1'][0][0]\n",
    "    sess2_blockList1_2 = data_reverse_session2['blockList1_2'][0][0]\n",
    "    sess2_blockList2_1 = data_reverse_session2['blockList2_1'][0][0]\n",
    "    sess2_blockList2_2 = data_reverse_session2['blockList2_2'][0][0]\n",
    "    \n",
    "    data_reverse = np.array([sess1_blockList1_1, sess1_blockList1_2, sess1_blockList2_1, sess1_blockList2_2,\n",
    "                             sess2_blockList1_1, sess2_blockList1_2, sess2_blockList2_1, sess2_blockList2_2])\n",
    "    \n",
    "    # Add new column to main data \n",
    "    data['reverse'] = np.nan\n",
    "    idx = 0\n",
    "    for s in range(1, 3):\n",
    "        for r in range(1, 3):\n",
    "            for b in range(1, 3):\n",
    "                data.loc[(data['session']==s)&(data['run']==r)&(data['block']==blocks[idx]), 'reverse'] = data_reverse[idx]\n",
    "                idx +=1\n",
    "                \n",
    "    #save file name\n",
    "    saveFile = subMainDirec + subName + '/' + subName + '_achieva7t_task-DA_beh.csv'\n",
    "    data.to_csv(saveFile ,index=False)    \n",
    "    \n",
    "    # set the name of participants to each data\n",
    "    data['sub_ID'] = subName\n",
    "    # read and then set the number of group\n",
    "    labelSes1 = int(randomGroupLabel.loc[randomGroupLabel['sub-ID'] == subName, 'ses-02'])\n",
    "    labelSes2 = int(randomGroupLabel.loc[randomGroupLabel['sub-ID'] == subName, 'ses-03'])\n",
    "    data.loc[data['session'] == 1, 'group'] = str(labelSes1)\n",
    "    data.loc[data['session'] == 2, 'group'] = str(labelSes2)\n",
    "    # Detection of irregular responces (no-responses or error responces)\n",
    "    temp = data['pushed'].to_numpy().astype(int)\n",
    "    dataClear = data[temp>=0]\n",
    "    #save file name\n",
    "    saveFile = subMainDirec + subName + '/' + subName + '_behData'\n",
    "    # Concatenating each data\n",
    "    dataAll = pd.concat([dataAll, dataClear])"
   ]
  },
  {
   "cell_type": "code",
   "execution_count": null,
   "id": "3e27dcb9",
   "metadata": {},
   "outputs": [],
   "source": [
    "dataAll.to_csv('/mnt/projects/7TPD/bids/derivatives/fMRI_DA/data_BehModel/originalfMRIbehFiles/AllBehData/behAll.csv', index=False)"
   ]
  },
  {
   "cell_type": "code",
   "execution_count": null,
   "id": "01a6bdab",
   "metadata": {},
   "outputs": [],
   "source": []
  }
 ],
 "metadata": {
  "kernelspec": {
   "display_name": "Python 3 (ipykernel)",
   "language": "python",
   "name": "python3"
  },
  "language_info": {
   "codemirror_mode": {
    "name": "ipython",
    "version": 3
   },
   "file_extension": ".py",
   "mimetype": "text/x-python",
   "name": "python",
   "nbconvert_exporter": "python",
   "pygments_lexer": "ipython3",
   "version": "3.10.9"
  }
 },
 "nbformat": 4,
 "nbformat_minor": 5
}
